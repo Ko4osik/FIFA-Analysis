{
 "cells": [
  {
   "cell_type": "markdown",
   "id": "392aa9da",
   "metadata": {
    "id": "392aa9da"
   },
   "source": [
    "# Парсинг данных"
   ]
  },
  {
   "cell_type": "code",
   "execution_count": 34,
   "id": "9fa549c8",
   "metadata": {
    "id": "9fa549c8"
   },
   "outputs": [],
   "source": [
    "import requests\n",
    "from bs4 import BeautifulSoup\n",
    "import pandas as pd\n",
    "import numpy as np\n",
    "import re\n",
    "import time\n",
    "import random\n",
    "from tqdm import tqdm\n",
    "from tqdm.notebook import trange, tqdm"
   ]
  },
  {
   "cell_type": "code",
   "execution_count": 35,
   "id": "3586a9be",
   "metadata": {},
   "outputs": [],
   "source": [
    "# Some links are broken\n",
    "def remove_broken_urls(arr):\n",
    "    pattern = re.compile(r'^https://www.futwiz.com/en/fifa23/player//.*$')\n",
    "    mask = np.vectorize(lambda x: bool(pattern.match(x)))\n",
    "    return arr[~mask(arr)]"
   ]
  },
  {
   "cell_type": "code",
   "execution_count": 36,
   "id": "e89354f5",
   "metadata": {},
   "outputs": [],
   "source": [
    "# Parsing all info about the card\n",
    "failed_hrefs = []\n",
    "def parsing_card_info(hrefs):\n",
    "    global failed_hrefs\n",
    "    players = []\n",
    "    for href in tqdm(hrefs):\n",
    "        res = requests.get(href)\n",
    "        tree = BeautifulSoup(res.content, 'html.parser')\n",
    "        if tree.find('div', {'class': 'pname-h1'}) == None: # Sometimes it breaks, so we will remember the failed links\n",
    "            failed_hrefs.append(href)\n",
    "            continue\n",
    "        pars = [item.div.text.strip() for item in tree.find_all('div', {'class': 'player-info-stat'})]\n",
    "        rats = [item.text.strip() for item in tree.find_all('div', {'class': 'headline-stat-num'})]\n",
    "        name = tree.find('div', {'class': 'pname-h1'}).find('h1').text.split()\n",
    "        price = int(''.join(tree.find('div', {'class': 'price-num'}).text.split(',')))\n",
    "        cln = tree.find('div', {'class': 'pname-club'}).find_all('a')\n",
    "        general_rat = int(tree.find('div', {'class': 'card-23-rating'}).text.strip())\n",
    "        full_stats_labels = [item.text for item in tree.find_all('div', {'class' : 'individual-stat-bar-label'})]\n",
    "        full_stats = {} \n",
    "\n",
    "        # Skip goalkeepers (they have different stats)\n",
    "        if pars[8] == 'GK':\n",
    "            continue\n",
    "\n",
    "        for i, stat in enumerate(full_stats_labels):\n",
    "            if stat == 'Long Shots':\n",
    "                stat = 'longshot'\n",
    "            if stat == 'Interceptions':\n",
    "                stat = 'tactaware'\n",
    "            if stat == 'Def. Awareness':\n",
    "                stat = 'marking'\n",
    "            if stat == 'Stand Tackle':\n",
    "                stat = 'standingtackle'\n",
    "\n",
    "            stat = stat.lower().replace(\" \", \"\") + 'stat'\n",
    "            stat = re.sub(r'[^\\w\\s]', '', stat)\n",
    "\n",
    "            stat_label = full_stats_labels[i]\n",
    "            stat_rate = tree.find_all('div', {'class' : f'individual-stat-bar-stat textcolour {stat}'})[0].text\n",
    "\n",
    "            full_stats[stat_label] = stat_rate\n",
    "\n",
    "        stats = {\n",
    "            'Name': ' '.join(name[:name.index('FIFA')]),\n",
    "            'Card Type': ' '.join(name[name.index('23')+1:]),\n",
    "            'Nation': cln[0].text.strip(),\n",
    "            'Club': cln[1].text.strip(),\n",
    "            'League': cln[-1].text.strip(),\n",
    "            'Skills': pars[0],\n",
    "            'W/F': pars[1],\n",
    "            'W/R': pars[2],\n",
    "            'Foot': pars[3],\n",
    "            'Age': pars[4],\n",
    "            'Height': pars[5],\n",
    "            'Weight': pars[6],\n",
    "            'Body Type': pars[7],\n",
    "            'Position': pars[8],\n",
    "            'Alt. Position': pars[9],\n",
    "            'Rating': general_rat,\n",
    "            'PAC': rats[0],\n",
    "            'SHO': rats[1],\n",
    "            'PAS': rats[2],\n",
    "            'DRI': rats[3],\n",
    "            'DEF': rats[4],\n",
    "            'PHY': rats[5],\n",
    "            'Price': price}\n",
    "        stats.update(full_stats)\n",
    "        players.append(stats)\n",
    "    return players"
   ]
  },
  {
   "cell_type": "code",
   "execution_count": 43,
   "id": "c25e4bcf",
   "metadata": {},
   "outputs": [
    {
     "data": {
      "application/vnd.jupyter.widget-view+json": {
       "model_id": "863f4b4f2c844e3889e0a4a4cf39eccf",
       "version_major": 2,
       "version_minor": 0
      },
      "text/plain": [
       "  0%|          | 0/5 [00:00<?, ?it/s]"
      ]
     },
     "metadata": {},
     "output_type": "display_data"
    },
    {
     "data": {
      "application/vnd.jupyter.widget-view+json": {
       "model_id": "44543c8513bc485481377cb2f0bfce75",
       "version_major": 2,
       "version_minor": 0
      },
      "text/plain": [
       "  0%|          | 0/1000 [00:00<?, ?it/s]"
      ]
     },
     "metadata": {},
     "output_type": "display_data"
    }
   ],
   "source": [
    "# Get top five league hrefs\n",
    "top_five_league_hrefs = []\n",
    "for league in tqdm([13, 16, 31, 19, 53]):\n",
    "    league_hrefs = []\n",
    "    for page in range(8):\n",
    "        url = f'https://www.futwiz.com/en/fifa23/players?page={page}&leagues[]={league}'\n",
    "        res = requests.get(url)\n",
    "        tree = BeautifulSoup(res.content, 'html.parser')\n",
    "        my_list = tree.find_all('div', {'class': \"col-2\"})[1:-2]\n",
    "        hrefs = [f'https://www.futwiz.com{item.a.get(\"href\")}' for item in my_list]\n",
    "        league_hrefs += hrefs\n",
    "    top_five_league_hrefs += league_hrefs\n",
    "top_five_league_players = parsing_card_info(remove_broken_urls(np.array(top_five_league_hrefs)))"
   ]
  },
  {
   "cell_type": "code",
   "execution_count": 37,
   "id": "1f4824f0",
   "metadata": {},
   "outputs": [
    {
     "data": {
      "application/vnd.jupyter.widget-view+json": {
       "model_id": "e1b3ad2307b444aea2c5c115fa364133",
       "version_major": 2,
       "version_minor": 0
      },
      "text/plain": [
       "  0%|          | 0/6 [00:00<?, ?it/s]"
      ]
     },
     "metadata": {},
     "output_type": "display_data"
    },
    {
     "data": {
      "application/vnd.jupyter.widget-view+json": {
       "model_id": "f4e0b391ecc8486386dd0896f3ae8c33",
       "version_major": 2,
       "version_minor": 0
      },
      "text/plain": [
       "  0%|          | 0/300 [00:00<?, ?it/s]"
      ]
     },
     "metadata": {},
     "output_type": "display_data"
    }
   ],
   "source": [
    "# Get \"bitch\" league hrefs\n",
    "bitch_league_hrefs = []\n",
    "for league in tqdm([10, 14, 308, 39, 68, 1003]):\n",
    "    league_hrefs = []\n",
    "    for page in range(2):\n",
    "        url = f'https://www.futwiz.com/en/fifa23/players?page={page}&leagues[]={league}'\n",
    "        res = requests.get(url)\n",
    "        tree = BeautifulSoup(res.content, 'html.parser')\n",
    "        my_list = tree.find_all('div', {'class': \"col-2\"})[1:-2]\n",
    "        hrefs = [f'https://www.futwiz.com{item.a.get(\"href\")}' for item in my_list]\n",
    "        league_hrefs += hrefs\n",
    "    bitch_league_hrefs += league_hrefs\n",
    "bitch_league_players = parsing_card_info(remove_broken_urls(np.array(bitch_league_hrefs)))"
   ]
  },
  {
   "cell_type": "code",
   "execution_count": 38,
   "id": "85e351fb",
   "metadata": {},
   "outputs": [
    {
     "data": {
      "application/vnd.jupyter.widget-view+json": {
       "model_id": "a65b55aa58804ebf813cbf0954cc42ae",
       "version_major": 2,
       "version_minor": 0
      },
      "text/plain": [
       "  0%|          | 0/10 [00:00<?, ?it/s]"
      ]
     },
     "metadata": {},
     "output_type": "display_data"
    },
    {
     "data": {
      "application/vnd.jupyter.widget-view+json": {
       "model_id": "764dd34d01be460bb249ee4fe5806780",
       "version_major": 2,
       "version_minor": 0
      },
      "text/plain": [
       "  0%|          | 0/250 [00:00<?, ?it/s]"
      ]
     },
     "metadata": {},
     "output_type": "display_data"
    }
   ],
   "source": [
    "# Get icons hrefs\n",
    "icons_hrefs = []\n",
    "for page in trange(10):\n",
    "    url = f'https://www.futwiz.com/en/fifa23/players?page={page}&leagues[]=2118'\n",
    "    res = requests.get(url)\n",
    "    tree = BeautifulSoup(res.content, 'html.parser')\n",
    "    my_list = tree.find_all('div', {'class': \"col-2\"})[1:-2]\n",
    "    hrefs = [f'https://www.futwiz.com{item.a.get(\"href\")}' for item in my_list]\n",
    "    icons_hrefs += hrefs\n",
    "icons_players = parsing_card_info(remove_broken_urls(np.array(icons_hrefs)))"
   ]
  },
  {
   "cell_type": "code",
   "execution_count": 39,
   "id": "48903908",
   "metadata": {
    "colab": {
     "base_uri": "https://localhost:8080/",
     "height": 395
    },
    "id": "48903908",
    "outputId": "b48f2361-43b0-431a-d8de-96cc51928969"
   },
   "outputs": [
    {
     "data": {
      "application/vnd.jupyter.widget-view+json": {
       "model_id": "bfac673181ef472b9895fce234ad918a",
       "version_major": 2,
       "version_minor": 0
      },
      "text/plain": [
       "  0%|          | 0/4 [00:00<?, ?it/s]"
      ]
     },
     "metadata": {},
     "output_type": "display_data"
    },
    {
     "data": {
      "application/vnd.jupyter.widget-view+json": {
       "model_id": "fd5b156848b147698f042c34f2e5ae51",
       "version_major": 2,
       "version_minor": 0
      },
      "text/plain": [
       "  0%|          | 0/399 [00:00<?, ?it/s]"
      ]
     },
     "metadata": {},
     "output_type": "display_data"
    }
   ],
   "source": [
    "#Get base cards hrefs\n",
    "base_cards_hrefs = []\n",
    "for type_of_card in tqdm(['raregold', 'commongold', 'nifsilver', 'nifbronze']):\n",
    "    type_hrefs = []\n",
    "    for page in range(4):\n",
    "        url = f'https://www.futwiz.com/en/fifa23/players?page={page}&release={type_of_card}'\n",
    "        res = requests.get(url)\n",
    "        tree = BeautifulSoup(res.content, 'html.parser')\n",
    "        my_list = tree.find_all('div', {'class': \"col-2\"})[1:-2]\n",
    "        hrefs = [f'https://www.futwiz.com{item.a.get(\"href\")}' for item in my_list]\n",
    "        type_hrefs += hrefs\n",
    "    base_cards_hrefs += type_hrefs\n",
    "base_cards_players = parsing_card_info(remove_broken_urls(np.array(base_cards_hrefs)))"
   ]
  },
  {
   "cell_type": "code",
   "execution_count": 51,
   "id": "33e784cf",
   "metadata": {},
   "outputs": [],
   "source": [
    "# Parsing failed linkes\n",
    "failed_players = []\n",
    "while len(failed_hrefs) > 0:\n",
    "    failed_hrefs_hash = failed_hrefs.copy()\n",
    "    failed_hrefs.clear()\n",
    "    failed_players += parsing_card_info(remove_broken_urls(np.array(failed_hrefs_hash)))"
   ]
  },
  {
   "cell_type": "code",
   "execution_count": 30,
   "id": "c7798746",
   "metadata": {
    "scrolled": true
   },
   "outputs": [],
   "source": [
    "players = top_five_league_players + bitch_league_players + icons_players + base_cards_players + failed_players"
   ]
  },
  {
   "cell_type": "code",
   "execution_count": 56,
   "id": "4GIidUHS1Pga",
   "metadata": {
    "colab": {
     "base_uri": "https://localhost:8080/",
     "height": 641
    },
    "id": "4GIidUHS1Pga",
    "outputId": "9a4397bd-da25-4386-8703-e01aa115e107"
   },
   "outputs": [
    {
     "data": {
      "text/html": [
       "<div>\n",
       "<style scoped>\n",
       "    .dataframe tbody tr th:only-of-type {\n",
       "        vertical-align: middle;\n",
       "    }\n",
       "\n",
       "    .dataframe tbody tr th {\n",
       "        vertical-align: top;\n",
       "    }\n",
       "\n",
       "    .dataframe thead th {\n",
       "        text-align: right;\n",
       "    }\n",
       "</style>\n",
       "<table border=\"1\" class=\"dataframe\">\n",
       "  <thead>\n",
       "    <tr style=\"text-align: right;\">\n",
       "      <th></th>\n",
       "      <th>Name</th>\n",
       "      <th>Card Type</th>\n",
       "      <th>Nation</th>\n",
       "      <th>Club</th>\n",
       "      <th>League</th>\n",
       "      <th>Skills</th>\n",
       "      <th>W/F</th>\n",
       "      <th>W/R</th>\n",
       "      <th>Foot</th>\n",
       "      <th>Age</th>\n",
       "      <th>...</th>\n",
       "      <th>Composure</th>\n",
       "      <th>Interceptions</th>\n",
       "      <th>Heading Acc.</th>\n",
       "      <th>Def. Awareness</th>\n",
       "      <th>Stand Tackle</th>\n",
       "      <th>Slide Tackle</th>\n",
       "      <th>Jumping</th>\n",
       "      <th>Stamina</th>\n",
       "      <th>Strength</th>\n",
       "      <th>Aggression</th>\n",
       "    </tr>\n",
       "  </thead>\n",
       "  <tbody>\n",
       "    <tr>\n",
       "      <th>0</th>\n",
       "      <td>Erling Haaland</td>\n",
       "      <td>TOTS</td>\n",
       "      <td>Norway</td>\n",
       "      <td>Manchester City</td>\n",
       "      <td>ENG 1</td>\n",
       "      <td>4</td>\n",
       "      <td>5</td>\n",
       "      <td>H/M</td>\n",
       "      <td>Left</td>\n",
       "      <td>22</td>\n",
       "      <td>...</td>\n",
       "      <td>96</td>\n",
       "      <td>54</td>\n",
       "      <td>98</td>\n",
       "      <td>55</td>\n",
       "      <td>66</td>\n",
       "      <td>36</td>\n",
       "      <td>82</td>\n",
       "      <td>89</td>\n",
       "      <td>99</td>\n",
       "      <td>94</td>\n",
       "    </tr>\n",
       "    <tr>\n",
       "      <th>1</th>\n",
       "      <td>Kevin De Bruyne</td>\n",
       "      <td>TOTS</td>\n",
       "      <td>Belgium</td>\n",
       "      <td>Manchester City</td>\n",
       "      <td>ENG 1</td>\n",
       "      <td>4</td>\n",
       "      <td>5</td>\n",
       "      <td>H/H</td>\n",
       "      <td>Right</td>\n",
       "      <td>31</td>\n",
       "      <td>...</td>\n",
       "      <td>97</td>\n",
       "      <td>88</td>\n",
       "      <td>73</td>\n",
       "      <td>90</td>\n",
       "      <td>86</td>\n",
       "      <td>70</td>\n",
       "      <td>71</td>\n",
       "      <td>99</td>\n",
       "      <td>84</td>\n",
       "      <td>85</td>\n",
       "    </tr>\n",
       "    <tr>\n",
       "      <th>2</th>\n",
       "      <td>Kevin De Bruyne</td>\n",
       "      <td>TOTY</td>\n",
       "      <td>Belgium</td>\n",
       "      <td>Manchester City</td>\n",
       "      <td>ENG 1</td>\n",
       "      <td>4</td>\n",
       "      <td>5</td>\n",
       "      <td>H/H</td>\n",
       "      <td>Right</td>\n",
       "      <td>31</td>\n",
       "      <td>...</td>\n",
       "      <td>96</td>\n",
       "      <td>85</td>\n",
       "      <td>70</td>\n",
       "      <td>86</td>\n",
       "      <td>82</td>\n",
       "      <td>67</td>\n",
       "      <td>70</td>\n",
       "      <td>97</td>\n",
       "      <td>84</td>\n",
       "      <td>83</td>\n",
       "    </tr>\n",
       "    <tr>\n",
       "      <th>3</th>\n",
       "      <td>Mohamed Salah</td>\n",
       "      <td>TOTS</td>\n",
       "      <td>Egypt</td>\n",
       "      <td>Liverpool</td>\n",
       "      <td>ENG 1</td>\n",
       "      <td>5</td>\n",
       "      <td>3</td>\n",
       "      <td>H/M</td>\n",
       "      <td>Left</td>\n",
       "      <td>30</td>\n",
       "      <td>...</td>\n",
       "      <td>99</td>\n",
       "      <td>66</td>\n",
       "      <td>70</td>\n",
       "      <td>46</td>\n",
       "      <td>52</td>\n",
       "      <td>48</td>\n",
       "      <td>76</td>\n",
       "      <td>96</td>\n",
       "      <td>83</td>\n",
       "      <td>70</td>\n",
       "    </tr>\n",
       "    <tr>\n",
       "      <th>4</th>\n",
       "      <td>Ruben Dias</td>\n",
       "      <td>TOTS</td>\n",
       "      <td>Portugal</td>\n",
       "      <td>Manchester City</td>\n",
       "      <td>ENG 1</td>\n",
       "      <td>2</td>\n",
       "      <td>4</td>\n",
       "      <td>M/H</td>\n",
       "      <td>Right</td>\n",
       "      <td>25</td>\n",
       "      <td>...</td>\n",
       "      <td>99</td>\n",
       "      <td>94</td>\n",
       "      <td>96</td>\n",
       "      <td>99</td>\n",
       "      <td>98</td>\n",
       "      <td>94</td>\n",
       "      <td>87</td>\n",
       "      <td>92</td>\n",
       "      <td>99</td>\n",
       "      <td>99</td>\n",
       "    </tr>\n",
       "    <tr>\n",
       "      <th>...</th>\n",
       "      <td>...</td>\n",
       "      <td>...</td>\n",
       "      <td>...</td>\n",
       "      <td>...</td>\n",
       "      <td>...</td>\n",
       "      <td>...</td>\n",
       "      <td>...</td>\n",
       "      <td>...</td>\n",
       "      <td>...</td>\n",
       "      <td>...</td>\n",
       "      <td>...</td>\n",
       "      <td>...</td>\n",
       "      <td>...</td>\n",
       "      <td>...</td>\n",
       "      <td>...</td>\n",
       "      <td>...</td>\n",
       "      <td>...</td>\n",
       "      <td>...</td>\n",
       "      <td>...</td>\n",
       "      <td>...</td>\n",
       "      <td>...</td>\n",
       "    </tr>\n",
       "    <tr>\n",
       "      <th>1789</th>\n",
       "      <td>Magnus Lekven</td>\n",
       "      <td>Non-Inform</td>\n",
       "      <td>Norway</td>\n",
       "      <td>Odds BK</td>\n",
       "      <td>NOR 1</td>\n",
       "      <td>2</td>\n",
       "      <td>4</td>\n",
       "      <td>M/M</td>\n",
       "      <td>Right</td>\n",
       "      <td>34</td>\n",
       "      <td>...</td>\n",
       "      <td>71</td>\n",
       "      <td>61</td>\n",
       "      <td>59</td>\n",
       "      <td>62</td>\n",
       "      <td>60</td>\n",
       "      <td>55</td>\n",
       "      <td>72</td>\n",
       "      <td>75</td>\n",
       "      <td>70</td>\n",
       "      <td>70</td>\n",
       "    </tr>\n",
       "    <tr>\n",
       "      <th>1790</th>\n",
       "      <td>Arda Kizildag</td>\n",
       "      <td>Non-Inform</td>\n",
       "      <td>Turkey</td>\n",
       "      <td>Gaziantep</td>\n",
       "      <td>TUR 1</td>\n",
       "      <td>2</td>\n",
       "      <td>3</td>\n",
       "      <td>M/M</td>\n",
       "      <td>Right</td>\n",
       "      <td>24</td>\n",
       "      <td>...</td>\n",
       "      <td>57</td>\n",
       "      <td>63</td>\n",
       "      <td>69</td>\n",
       "      <td>68</td>\n",
       "      <td>68</td>\n",
       "      <td>62</td>\n",
       "      <td>72</td>\n",
       "      <td>65</td>\n",
       "      <td>64</td>\n",
       "      <td>62</td>\n",
       "    </tr>\n",
       "    <tr>\n",
       "      <th>1791</th>\n",
       "      <td>Dane Scarlett</td>\n",
       "      <td>Non-Inform</td>\n",
       "      <td>England</td>\n",
       "      <td>Portsmouth</td>\n",
       "      <td>ENG 3</td>\n",
       "      <td>3</td>\n",
       "      <td>4</td>\n",
       "      <td>H/M</td>\n",
       "      <td>Right</td>\n",
       "      <td>18</td>\n",
       "      <td>...</td>\n",
       "      <td>54</td>\n",
       "      <td>13</td>\n",
       "      <td>64</td>\n",
       "      <td>17</td>\n",
       "      <td>16</td>\n",
       "      <td>18</td>\n",
       "      <td>76</td>\n",
       "      <td>51</td>\n",
       "      <td>56</td>\n",
       "      <td>57</td>\n",
       "    </tr>\n",
       "    <tr>\n",
       "      <th>1792</th>\n",
       "      <td>Marvin Stefaniak</td>\n",
       "      <td>Non-Inform</td>\n",
       "      <td>Germany</td>\n",
       "      <td>FC Erzgebirge Aue</td>\n",
       "      <td>GER 3</td>\n",
       "      <td>3</td>\n",
       "      <td>4</td>\n",
       "      <td>H/M</td>\n",
       "      <td>Right</td>\n",
       "      <td>27</td>\n",
       "      <td>...</td>\n",
       "      <td>57</td>\n",
       "      <td>27</td>\n",
       "      <td>40</td>\n",
       "      <td>30</td>\n",
       "      <td>25</td>\n",
       "      <td>26</td>\n",
       "      <td>69</td>\n",
       "      <td>67</td>\n",
       "      <td>64</td>\n",
       "      <td>41</td>\n",
       "    </tr>\n",
       "    <tr>\n",
       "      <th>1793</th>\n",
       "      <td>Gaston Veron</td>\n",
       "      <td>Non-Inform</td>\n",
       "      <td>Argentina</td>\n",
       "      <td>Argentinos Jrs.</td>\n",
       "      <td>ARG 1</td>\n",
       "      <td>3</td>\n",
       "      <td>3</td>\n",
       "      <td>M/L</td>\n",
       "      <td>Right</td>\n",
       "      <td>21</td>\n",
       "      <td>...</td>\n",
       "      <td>64</td>\n",
       "      <td>22</td>\n",
       "      <td>65</td>\n",
       "      <td>29</td>\n",
       "      <td>26</td>\n",
       "      <td>27</td>\n",
       "      <td>68</td>\n",
       "      <td>62</td>\n",
       "      <td>65</td>\n",
       "      <td>49</td>\n",
       "    </tr>\n",
       "  </tbody>\n",
       "</table>\n",
       "<p>1794 rows × 52 columns</p>\n",
       "</div>"
      ],
      "text/plain": [
       "                  Name   Card Type     Nation               Club League  \\\n",
       "0       Erling Haaland        TOTS     Norway    Manchester City  ENG 1   \n",
       "1      Kevin De Bruyne        TOTS    Belgium    Manchester City  ENG 1   \n",
       "2      Kevin De Bruyne        TOTY    Belgium    Manchester City  ENG 1   \n",
       "3        Mohamed Salah        TOTS      Egypt          Liverpool  ENG 1   \n",
       "4           Ruben Dias        TOTS   Portugal    Manchester City  ENG 1   \n",
       "...                ...         ...        ...                ...    ...   \n",
       "1789     Magnus Lekven  Non-Inform     Norway            Odds BK  NOR 1   \n",
       "1790     Arda Kizildag  Non-Inform     Turkey          Gaziantep  TUR 1   \n",
       "1791     Dane Scarlett  Non-Inform    England         Portsmouth  ENG 3   \n",
       "1792  Marvin Stefaniak  Non-Inform    Germany  FC Erzgebirge Aue  GER 3   \n",
       "1793      Gaston Veron  Non-Inform  Argentina    Argentinos Jrs.  ARG 1   \n",
       "\n",
       "     Skills W/F  W/R   Foot Age  ... Composure Interceptions Heading Acc.  \\\n",
       "0         4   5  H/M   Left  22  ...        96            54           98   \n",
       "1         4   5  H/H  Right  31  ...        97            88           73   \n",
       "2         4   5  H/H  Right  31  ...        96            85           70   \n",
       "3         5   3  H/M   Left  30  ...        99            66           70   \n",
       "4         2   4  M/H  Right  25  ...        99            94           96   \n",
       "...     ...  ..  ...    ...  ..  ...       ...           ...          ...   \n",
       "1789      2   4  M/M  Right  34  ...        71            61           59   \n",
       "1790      2   3  M/M  Right  24  ...        57            63           69   \n",
       "1791      3   4  H/M  Right  18  ...        54            13           64   \n",
       "1792      3   4  H/M  Right  27  ...        57            27           40   \n",
       "1793      3   3  M/L  Right  21  ...        64            22           65   \n",
       "\n",
       "     Def. Awareness Stand Tackle  Slide Tackle Jumping Stamina Strength  \\\n",
       "0                55           66            36      82      89       99   \n",
       "1                90           86            70      71      99       84   \n",
       "2                86           82            67      70      97       84   \n",
       "3                46           52            48      76      96       83   \n",
       "4                99           98            94      87      92       99   \n",
       "...             ...          ...           ...     ...     ...      ...   \n",
       "1789             62           60            55      72      75       70   \n",
       "1790             68           68            62      72      65       64   \n",
       "1791             17           16            18      76      51       56   \n",
       "1792             30           25            26      69      67       64   \n",
       "1793             29           26            27      68      62       65   \n",
       "\n",
       "     Aggression  \n",
       "0            94  \n",
       "1            85  \n",
       "2            83  \n",
       "3            70  \n",
       "4            99  \n",
       "...         ...  \n",
       "1789         70  \n",
       "1790         62  \n",
       "1791         57  \n",
       "1792         41  \n",
       "1793         49  \n",
       "\n",
       "[1794 rows x 52 columns]"
      ]
     },
     "execution_count": 56,
     "metadata": {},
     "output_type": "execute_result"
    }
   ],
   "source": [
    "df = pd.DataFrame(players)\n",
    "df.drop_duplicates()\n",
    "df"
   ]
  },
  {
   "cell_type": "code",
   "execution_count": null,
   "id": "2344b9f2",
   "metadata": {},
   "outputs": [],
   "source": [
    "# Сохраняем датафрейм на гитхаб\n",
    "import os\n",
    "from getpass import getpass\n",
    "\n",
    "os.environ['GITHUB_USERNAME'] = input('Введите ваш логин на GitHub: ')\n",
    "os.environ['GITHUB_PASSWORD'] = getpass('Введите ваш пароль на GitHub: ')\n",
    "username = os.environ['GITHUB_USERNAME']\n",
    "password = os.environ['GITHUB_PASSWORD']"
   ]
  },
  {
   "cell_type": "code",
   "execution_count": 123,
   "id": "63491a20",
   "metadata": {},
   "outputs": [],
   "source": [
    "import os\n",
    "os.environ['GIT_PYTHON_GIT_EXECUTABLE'] = r'C:\\Program Files\\Git\\cmd\\git.exe'\n",
    "from git import Repo"
   ]
  },
  {
   "cell_type": "code",
   "execution_count": 124,
   "id": "2e6689da",
   "metadata": {},
   "outputs": [],
   "source": [
    "df.to_csv('players.csv')"
   ]
  },
  {
   "cell_type": "code",
   "execution_count": null,
   "id": "1ef8462e",
   "metadata": {},
   "outputs": [],
   "source": [
    "path_to_repo = '\\\\Users\\\\ASUS\\\\python_copybooks\\\\AD_HSE\\\\project\\\\FIFA-Analysis\\\\'\n",
    "file_name = 'players.csv'\n",
    "with open(file_name, 'r') as f:\n",
    "    file_content = f.read()\n",
    "\n",
    "repo = Repo(path_to_repo)\n",
    "remote_url = repo.remote().url\n",
    "new_branch = repo.create_head('new_branch')\n",
    "new_branch.checkout()\n",
    "with open(file_name, 'w') as f:\n",
    "    f.write(file_content)\n",
    "repo.index.add([file_name])\n",
    "repo.index.commit('Add my_file.csv')\n",
    "repo.remote().push(refspec='{}:{}'.format(new_branch, new_branch), force=True)\n",
    "repo.head.reset(index=True, working_tree=True)\n"
   ]
  }
 ],
 "metadata": {
  "colab": {
   "provenance": []
  },
  "kernelspec": {
   "display_name": "Python 3 (ipykernel)",
   "language": "python",
   "name": "python3"
  },
  "language_info": {
   "codemirror_mode": {
    "name": "ipython",
    "version": 3
   },
   "file_extension": ".py",
   "mimetype": "text/x-python",
   "name": "python",
   "nbconvert_exporter": "python",
   "pygments_lexer": "ipython3",
   "version": "3.9.7"
  },
  "widgets": {
   "application/vnd.jupyter.widget-state+json": {
    "state": {
     "004966007d5c4876ab32e5029b22d80e": {
      "model_module": "@jupyter-widgets/base",
      "model_module_version": "1.2.0",
      "model_name": "LayoutModel",
      "state": {}
     },
     "00ee51754653499a8eebe028fd0eedbb": {
      "model_module": "@jupyter-widgets/controls",
      "model_module_version": "1.5.0",
      "model_name": "ProgressStyleModel",
      "state": {
       "description_width": ""
      }
     },
     "03acf7c44cb7456a8966a8d18acbe9ac": {
      "model_module": "@jupyter-widgets/base",
      "model_module_version": "1.2.0",
      "model_name": "LayoutModel",
      "state": {}
     },
     "03c12623e7954d85a5d6ca805ff3fd16": {
      "model_module": "@jupyter-widgets/base",
      "model_module_version": "1.2.0",
      "model_name": "LayoutModel",
      "state": {}
     },
     "0442235e40e04b14b9a6f28c4adfbb96": {
      "model_module": "@jupyter-widgets/base",
      "model_module_version": "1.2.0",
      "model_name": "LayoutModel",
      "state": {}
     },
     "05349020101948488db2a8449b55212c": {
      "model_module": "@jupyter-widgets/controls",
      "model_module_version": "1.5.0",
      "model_name": "DescriptionStyleModel",
      "state": {
       "description_width": ""
      }
     },
     "0741965828194e338ced3d458c84b177": {
      "model_module": "@jupyter-widgets/controls",
      "model_module_version": "1.5.0",
      "model_name": "FloatProgressModel",
      "state": {
       "bar_style": "success",
       "layout": "IPY_MODEL_e4d2689568684eefb25a09db811724c6",
       "max": 250,
       "style": "IPY_MODEL_d126f104f512433782a30ac40182bc07",
       "value": 250
      }
     },
     "075990cb40794ab68b887381a3044884": {
      "model_module": "@jupyter-widgets/base",
      "model_module_version": "1.2.0",
      "model_name": "LayoutModel",
      "state": {}
     },
     "07b85a8174c742ad8741d540e410b3ab": {
      "model_module": "@jupyter-widgets/controls",
      "model_module_version": "1.5.0",
      "model_name": "FloatProgressModel",
      "state": {
       "bar_style": "success",
       "layout": "IPY_MODEL_8e59765637af401891570dad3b4b393b",
       "max": 1949,
       "style": "IPY_MODEL_5bc9de4d5c8e41c6a4d791476c9c887f",
       "value": 1949
      }
     },
     "07c04df45dd54770b3e6477139f25924": {
      "model_module": "@jupyter-widgets/base",
      "model_module_version": "1.2.0",
      "model_name": "LayoutModel",
      "state": {}
     },
     "08f7716024be4cf98d03954112a63af1": {
      "model_module": "@jupyter-widgets/base",
      "model_module_version": "1.2.0",
      "model_name": "LayoutModel",
      "state": {}
     },
     "095998266afc45b48a1724c32c2c4e37": {
      "model_module": "@jupyter-widgets/base",
      "model_module_version": "1.2.0",
      "model_name": "LayoutModel",
      "state": {}
     },
     "0b4fadcaf7df4500b3c20aaad6a77304": {
      "model_module": "@jupyter-widgets/controls",
      "model_module_version": "1.5.0",
      "model_name": "FloatProgressModel",
      "state": {
       "bar_style": "success",
       "layout": "IPY_MODEL_853b183eebf14e0bbbfce5e26d62ea37",
       "max": 10,
       "style": "IPY_MODEL_ea15eaa253bc4f5abea68db11c44f1a8",
       "value": 10
      }
     },
     "0e954cf364f341fea8fe7f9170e7d266": {
      "model_module": "@jupyter-widgets/base",
      "model_module_version": "1.2.0",
      "model_name": "LayoutModel",
      "state": {}
     },
     "0fa4566e38cd4cd280dc1fd9e53a813c": {
      "model_module": "@jupyter-widgets/base",
      "model_module_version": "1.2.0",
      "model_name": "LayoutModel",
      "state": {}
     },
     "100f037e88a943cfb97b82d7f6352c27": {
      "model_module": "@jupyter-widgets/controls",
      "model_module_version": "1.5.0",
      "model_name": "ProgressStyleModel",
      "state": {
       "description_width": ""
      }
     },
     "103257c890e441d8ac8228ba8b1cc193": {
      "model_module": "@jupyter-widgets/controls",
      "model_module_version": "1.5.0",
      "model_name": "DescriptionStyleModel",
      "state": {
       "description_width": ""
      }
     },
     "110e9db736c44d8e8dc9473d7f0e9540": {
      "model_module": "@jupyter-widgets/controls",
      "model_module_version": "1.5.0",
      "model_name": "FloatProgressModel",
      "state": {
       "bar_style": "success",
       "layout": "IPY_MODEL_bf38c7fa5712484cbcd01702cd639b61",
       "max": 10,
       "style": "IPY_MODEL_a3cfb0cab5cc4f2a8ac6296b3ad5d088",
       "value": 10
      }
     },
     "11817ff891b1409bbd3176b1f27afc4e": {
      "model_module": "@jupyter-widgets/controls",
      "model_module_version": "1.5.0",
      "model_name": "DescriptionStyleModel",
      "state": {
       "description_width": ""
      }
     },
     "128b804ec71e47c4baff559ba07befff": {
      "model_module": "@jupyter-widgets/controls",
      "model_module_version": "1.5.0",
      "model_name": "DescriptionStyleModel",
      "state": {
       "description_width": ""
      }
     },
     "1305397ff14e477a8a5b22e4df03cbd5": {
      "model_module": "@jupyter-widgets/base",
      "model_module_version": "1.2.0",
      "model_name": "LayoutModel",
      "state": {}
     },
     "13a98fd72a6c4a46be6095c38943852a": {
      "model_module": "@jupyter-widgets/controls",
      "model_module_version": "1.5.0",
      "model_name": "FloatProgressModel",
      "state": {
       "bar_style": "success",
       "layout": "IPY_MODEL_308ab5a697d84c76a98eaa91b6730636",
       "max": 4,
       "style": "IPY_MODEL_00ee51754653499a8eebe028fd0eedbb",
       "value": 4
      }
     },
     "144b7b228c464a038d458ddc99fb989c": {
      "model_module": "@jupyter-widgets/base",
      "model_module_version": "1.2.0",
      "model_name": "LayoutModel",
      "state": {}
     },
     "14655e5bef7243c2a25170f2e31ae804": {
      "model_module": "@jupyter-widgets/base",
      "model_module_version": "1.2.0",
      "model_name": "LayoutModel",
      "state": {}
     },
     "14bbdfb71acb4a8dacd72a043d0f60a5": {
      "model_module": "@jupyter-widgets/controls",
      "model_module_version": "1.5.0",
      "model_name": "DescriptionStyleModel",
      "state": {
       "description_width": ""
      }
     },
     "165307e9047f408f9203c730b52fbd68": {
      "model_module": "@jupyter-widgets/controls",
      "model_module_version": "1.5.0",
      "model_name": "HTMLModel",
      "state": {
       "layout": "IPY_MODEL_5a5d20056d584a71b89888a5960d0dca",
       "style": "IPY_MODEL_11817ff891b1409bbd3176b1f27afc4e",
       "value": " 399/399 [06:10&lt;00:00,  1.04it/s]"
      }
     },
     "16b61f107efb4878b0e03289bfa48502": {
      "model_module": "@jupyter-widgets/base",
      "model_module_version": "1.2.0",
      "model_name": "LayoutModel",
      "state": {}
     },
     "184c3d29058444298c4a5586e93d5a69": {
      "model_module": "@jupyter-widgets/controls",
      "model_module_version": "1.5.0",
      "model_name": "DescriptionStyleModel",
      "state": {
       "description_width": ""
      }
     },
     "18ffc9ce652d45f081bc2468093a1156": {
      "model_module": "@jupyter-widgets/base",
      "model_module_version": "1.2.0",
      "model_name": "LayoutModel",
      "state": {}
     },
     "196b658d56a64551bdcd7047be834a72": {
      "model_module": "@jupyter-widgets/controls",
      "model_module_version": "1.5.0",
      "model_name": "DescriptionStyleModel",
      "state": {
       "description_width": ""
      }
     },
     "19771242dee3426db16d139fe9f862d8": {
      "model_module": "@jupyter-widgets/controls",
      "model_module_version": "1.5.0",
      "model_name": "HTMLModel",
      "state": {
       "layout": "IPY_MODEL_90eaebe189d6428aa30046d06413190c",
       "style": "IPY_MODEL_4835c8c99b084d979fbad6346218adc5",
       "value": " 518/1000 [10:39&lt;09:27,  1.18s/it]"
      }
     },
     "19e2229756ae468e9afe6bcd76f063e9": {
      "model_module": "@jupyter-widgets/controls",
      "model_module_version": "1.5.0",
      "model_name": "HTMLModel",
      "state": {
       "layout": "IPY_MODEL_a0a3e359aab74217bdf1ce2337ecc8dd",
       "style": "IPY_MODEL_75aea47c03d94d6ab44fade44843bebc",
       "value": "100%"
      }
     },
     "1c78a6e0d74643b5bd8d01d26cb91f12": {
      "model_module": "@jupyter-widgets/controls",
      "model_module_version": "1.5.0",
      "model_name": "ProgressStyleModel",
      "state": {
       "description_width": ""
      }
     },
     "1cca8af6dab44637b867ab1233e9e15f": {
      "model_module": "@jupyter-widgets/controls",
      "model_module_version": "1.5.0",
      "model_name": "DescriptionStyleModel",
      "state": {
       "description_width": ""
      }
     },
     "1d9e016164c047e785ffd081d44f1120": {
      "model_module": "@jupyter-widgets/controls",
      "model_module_version": "1.5.0",
      "model_name": "DescriptionStyleModel",
      "state": {
       "description_width": ""
      }
     },
     "1e7409ee47ff42638fedf71922c94353": {
      "model_module": "@jupyter-widgets/controls",
      "model_module_version": "1.5.0",
      "model_name": "HTMLModel",
      "state": {
       "layout": "IPY_MODEL_944ec378336f46c1b0e7de2e068aa4f0",
       "style": "IPY_MODEL_a837549197e64d8ea90ad3a6029c9f70",
       "value": " 300/300 [04:50&lt;00:00,  1.09s/it]"
      }
     },
     "1f69caf8081740e58fc0b57f245e3c26": {
      "model_module": "@jupyter-widgets/controls",
      "model_module_version": "1.5.0",
      "model_name": "DescriptionStyleModel",
      "state": {
       "description_width": ""
      }
     },
     "1f7a79a36cd2419fbd6c5c4c22a38194": {
      "model_module": "@jupyter-widgets/controls",
      "model_module_version": "1.5.0",
      "model_name": "HBoxModel",
      "state": {
       "children": [
        "IPY_MODEL_cf62aa4832554a439cd41a015acbbcbd",
        "IPY_MODEL_d21e325f12a1451c973e791f7695f2e9",
        "IPY_MODEL_4434ebd6311d45598d5fa8bc1f7853c2"
       ],
       "layout": "IPY_MODEL_a1ca1c8f42f544c6869ad1815cf4da69"
      }
     },
     "201c201cd3ea40afafabd0dc2bf81010": {
      "model_module": "@jupyter-widgets/base",
      "model_module_version": "1.2.0",
      "model_name": "LayoutModel",
      "state": {}
     },
     "208502e9d6304742bc149c9beea83fdd": {
      "model_module": "@jupyter-widgets/controls",
      "model_module_version": "1.5.0",
      "model_name": "DescriptionStyleModel",
      "state": {
       "description_width": ""
      }
     },
     "20f3b7255e7144e99f57f258d42915d6": {
      "model_module": "@jupyter-widgets/base",
      "model_module_version": "1.2.0",
      "model_name": "LayoutModel",
      "state": {}
     },
     "216e5ad775de4eaf98ad0c4d28e3d147": {
      "model_module": "@jupyter-widgets/controls",
      "model_module_version": "1.5.0",
      "model_name": "ProgressStyleModel",
      "state": {
       "description_width": ""
      }
     },
     "21b7161b8a934440b56a9076db074fda": {
      "model_module": "@jupyter-widgets/controls",
      "model_module_version": "1.5.0",
      "model_name": "HTMLModel",
      "state": {
       "layout": "IPY_MODEL_ef8cba280a98415fab0c52876c5b0cef",
       "style": "IPY_MODEL_14bbdfb71acb4a8dacd72a043d0f60a5",
       "value": " 300/300 [04:51&lt;00:00,  1.00it/s]"
      }
     },
     "22529701a45e4d80a192cd16e5eb8cc4": {
      "model_module": "@jupyter-widgets/base",
      "model_module_version": "1.2.0",
      "model_name": "LayoutModel",
      "state": {}
     },
     "22789d4b403d48888ec3c38b840c9d4d": {
      "model_module": "@jupyter-widgets/controls",
      "model_module_version": "1.5.0",
      "model_name": "ProgressStyleModel",
      "state": {
       "description_width": ""
      }
     },
     "229bd45126114716b7b6616f5b2f8a6b": {
      "model_module": "@jupyter-widgets/controls",
      "model_module_version": "1.5.0",
      "model_name": "HTMLModel",
      "state": {
       "layout": "IPY_MODEL_6a5876ab19d6475788b066834d388b99",
       "style": "IPY_MODEL_87294564b1cf4e2eba84afdf7bae6d86",
       "value": " 0/5 [00:12&lt;?, ?it/s]"
      }
     },
     "2786a977b60745a29d55cb9ab1833a8e": {
      "model_module": "@jupyter-widgets/base",
      "model_module_version": "1.2.0",
      "model_name": "LayoutModel",
      "state": {}
     },
     "278a1232c22b45cb9e6a6cd3f90a77d0": {
      "model_module": "@jupyter-widgets/controls",
      "model_module_version": "1.5.0",
      "model_name": "DescriptionStyleModel",
      "state": {
       "description_width": ""
      }
     },
     "28238fd3c37c462c87034d246a7dd07c": {
      "model_module": "@jupyter-widgets/controls",
      "model_module_version": "1.5.0",
      "model_name": "FloatProgressModel",
      "state": {
       "bar_style": "success",
       "layout": "IPY_MODEL_004966007d5c4876ab32e5029b22d80e",
       "max": 3,
       "style": "IPY_MODEL_f3e6ff9dfeef4a9aab346cb42fd5fd93",
       "value": 3
      }
     },
     "292ae6bf0b014ab78915f02ad1c0f7b5": {
      "model_module": "@jupyter-widgets/base",
      "model_module_version": "1.2.0",
      "model_name": "LayoutModel",
      "state": {}
     },
     "2a097f24278047df96cc5b2f3bc31b24": {
      "model_module": "@jupyter-widgets/controls",
      "model_module_version": "1.5.0",
      "model_name": "FloatProgressModel",
      "state": {
       "bar_style": "success",
       "layout": "IPY_MODEL_3a9651b9ce4c4892bee95c44d3fced7b",
       "max": 6,
       "style": "IPY_MODEL_22789d4b403d48888ec3c38b840c9d4d",
       "value": 6
      }
     },
     "2b241cc1124d4a338dc106b6b5fbc5a5": {
      "model_module": "@jupyter-widgets/base",
      "model_module_version": "1.2.0",
      "model_name": "LayoutModel",
      "state": {}
     },
     "2b83ee4b7ac240f3abdb8750d2dcd960": {
      "model_module": "@jupyter-widgets/base",
      "model_module_version": "1.2.0",
      "model_name": "LayoutModel",
      "state": {}
     },
     "2bc11fd10765479d8e3a82bbadda54ba": {
      "model_module": "@jupyter-widgets/base",
      "model_module_version": "1.2.0",
      "model_name": "LayoutModel",
      "state": {}
     },
     "2bd3704f12764ac49db0ffb0025bf623": {
      "model_module": "@jupyter-widgets/base",
      "model_module_version": "1.2.0",
      "model_name": "LayoutModel",
      "state": {}
     },
     "2cab78b49ec94672bdd9145e85831c96": {
      "model_module": "@jupyter-widgets/controls",
      "model_module_version": "1.5.0",
      "model_name": "HTMLModel",
      "state": {
       "layout": "IPY_MODEL_e67c095fbf424ef3a2368cb28cedf2f9",
       "style": "IPY_MODEL_196b658d56a64551bdcd7047be834a72",
       "value": " 0/5 [00:28&lt;?, ?it/s]"
      }
     },
     "2e3792b57c5240c18607565b0bcc04ab": {
      "model_module": "@jupyter-widgets/controls",
      "model_module_version": "1.5.0",
      "model_name": "HBoxModel",
      "state": {
       "children": [
        "IPY_MODEL_eec917d03bb14313ae2fffb8bd00ff45",
        "IPY_MODEL_8d1f7c0924e34e46899469ccb8b7ea15",
        "IPY_MODEL_3d1e3b4c9a704d4f91ebb23aa3654ef9"
       ],
       "layout": "IPY_MODEL_32fba966b6c04e5f8960639ece8cd04b"
      }
     },
     "2f57c0f86d0c48d8be9413e44c011db7": {
      "model_module": "@jupyter-widgets/base",
      "model_module_version": "1.2.0",
      "model_name": "LayoutModel",
      "state": {}
     },
     "308ab5a697d84c76a98eaa91b6730636": {
      "model_module": "@jupyter-widgets/base",
      "model_module_version": "1.2.0",
      "model_name": "LayoutModel",
      "state": {}
     },
     "30a43e30959e42c4832a578233615bf2": {
      "model_module": "@jupyter-widgets/base",
      "model_module_version": "1.2.0",
      "model_name": "LayoutModel",
      "state": {}
     },
     "3125abe473994beeab311bc23f2f3beb": {
      "model_module": "@jupyter-widgets/controls",
      "model_module_version": "1.5.0",
      "model_name": "DescriptionStyleModel",
      "state": {
       "description_width": ""
      }
     },
     "3146df3af61548928bd21371fabb947b": {
      "model_module": "@jupyter-widgets/controls",
      "model_module_version": "1.5.0",
      "model_name": "HTMLModel",
      "state": {
       "layout": "IPY_MODEL_095998266afc45b48a1724c32c2c4e37",
       "style": "IPY_MODEL_3125abe473994beeab311bc23f2f3beb",
       "value": " 1000/1000 [16:18&lt;00:00,  1.01s/it]"
      }
     },
     "3161dbb21e9d46d9be75b78355119dc1": {
      "model_module": "@jupyter-widgets/controls",
      "model_module_version": "1.5.0",
      "model_name": "HTMLModel",
      "state": {
       "layout": "IPY_MODEL_66949e779e4541098b85e501604ca773",
       "style": "IPY_MODEL_d3c0fc15278e4ce59742e6675cc44d2a",
       "value": "100%"
      }
     },
     "32c37a6ff1c644d0840045a4f719c7c0": {
      "model_module": "@jupyter-widgets/controls",
      "model_module_version": "1.5.0",
      "model_name": "DescriptionStyleModel",
      "state": {
       "description_width": ""
      }
     },
     "32fba966b6c04e5f8960639ece8cd04b": {
      "model_module": "@jupyter-widgets/base",
      "model_module_version": "1.2.0",
      "model_name": "LayoutModel",
      "state": {}
     },
     "332241f16fe24d9ca2f8f1434d74c605": {
      "model_module": "@jupyter-widgets/controls",
      "model_module_version": "1.5.0",
      "model_name": "FloatProgressModel",
      "state": {
       "bar_style": "success",
       "layout": "IPY_MODEL_efe3475599cb4b40a1fc08349f23a000",
       "max": 399,
       "style": "IPY_MODEL_40ce83808a9d4b85859bd29c141e154e",
       "value": 399
      }
     },
     "3337bd36e5e7445c899292e033fe71b4": {
      "model_module": "@jupyter-widgets/controls",
      "model_module_version": "1.5.0",
      "model_name": "FloatProgressModel",
      "state": {
       "bar_style": "danger",
       "layout": "IPY_MODEL_0442235e40e04b14b9a6f28c4adfbb96",
       "max": 5,
       "style": "IPY_MODEL_336d7f0fb8544ec1ac6e020b8da3ac9a"
      }
     },
     "33525d8fbe304bd6908f1327b43590d9": {
      "model_module": "@jupyter-widgets/base",
      "model_module_version": "1.2.0",
      "model_name": "LayoutModel",
      "state": {}
     },
     "3361df15a8044ee499c75f8fff75f381": {
      "model_module": "@jupyter-widgets/controls",
      "model_module_version": "1.5.0",
      "model_name": "FloatProgressModel",
      "state": {
       "bar_style": "success",
       "layout": "IPY_MODEL_db13b708e0c144e4ad906cab4c92c3cc",
       "max": 5,
       "style": "IPY_MODEL_5961170a5b8b4d6bb859dc1986def693",
       "value": 5
      }
     },
     "336d7f0fb8544ec1ac6e020b8da3ac9a": {
      "model_module": "@jupyter-widgets/controls",
      "model_module_version": "1.5.0",
      "model_name": "ProgressStyleModel",
      "state": {
       "description_width": ""
      }
     },
     "33a08138a8b9441784615d13475e8c97": {
      "model_module": "@jupyter-widgets/controls",
      "model_module_version": "1.5.0",
      "model_name": "DescriptionStyleModel",
      "state": {
       "description_width": ""
      }
     },
     "3505579220224b368b13365477571cfb": {
      "model_module": "@jupyter-widgets/base",
      "model_module_version": "1.2.0",
      "model_name": "LayoutModel",
      "state": {}
     },
     "351092d592f64ee7a1692ddf395e9885": {
      "model_module": "@jupyter-widgets/controls",
      "model_module_version": "1.5.0",
      "model_name": "HBoxModel",
      "state": {
       "children": [
        "IPY_MODEL_7f9038ebf35a4b319fa94e0b7e194587",
        "IPY_MODEL_8176618a27d34602b4c74b9cc58df5e9",
        "IPY_MODEL_21b7161b8a934440b56a9076db074fda"
       ],
       "layout": "IPY_MODEL_f9fdb83e0c3b422cb9c595afb5d2c8cf"
      }
     },
     "37076948ab534b9e9f3b9c0526b27af4": {
      "model_module": "@jupyter-widgets/controls",
      "model_module_version": "1.5.0",
      "model_name": "HTMLModel",
      "state": {
       "layout": "IPY_MODEL_724bd30b4b5b4a8a8eb7cd376720d4d7",
       "style": "IPY_MODEL_184c3d29058444298c4a5586e93d5a69",
       "value": " 4/4 [00:56&lt;00:00, 13.47s/it]"
      }
     },
     "3711a496333c46569fbcdf2c2320b9cb": {
      "model_module": "@jupyter-widgets/controls",
      "model_module_version": "1.5.0",
      "model_name": "ProgressStyleModel",
      "state": {
       "description_width": ""
      }
     },
     "374b5f30733f458ea50696020eecc4cf": {
      "model_module": "@jupyter-widgets/base",
      "model_module_version": "1.2.0",
      "model_name": "LayoutModel",
      "state": {}
     },
     "3776c7f370cf482485ab4b47dcb1e691": {
      "model_module": "@jupyter-widgets/controls",
      "model_module_version": "1.5.0",
      "model_name": "HTMLModel",
      "state": {
       "layout": "IPY_MODEL_da57fac38d224147bf5bfc38d33d860b",
       "style": "IPY_MODEL_33a08138a8b9441784615d13475e8c97",
       "value": "100%"
      }
     },
     "379b56e8596449ac86a4481393e8ecbd": {
      "model_module": "@jupyter-widgets/controls",
      "model_module_version": "1.5.0",
      "model_name": "DescriptionStyleModel",
      "state": {
       "description_width": ""
      }
     },
     "3a9651b9ce4c4892bee95c44d3fced7b": {
      "model_module": "@jupyter-widgets/base",
      "model_module_version": "1.2.0",
      "model_name": "LayoutModel",
      "state": {}
     },
     "3b07b1685cab46c3a32cb81668d2830c": {
      "model_module": "@jupyter-widgets/controls",
      "model_module_version": "1.5.0",
      "model_name": "HBoxModel",
      "state": {
       "children": [
        "IPY_MODEL_a416667220854aabacead0b3b55b5329",
        "IPY_MODEL_3337bd36e5e7445c899292e033fe71b4",
        "IPY_MODEL_229bd45126114716b7b6616f5b2f8a6b"
       ],
       "layout": "IPY_MODEL_87f08488c72444df85861f51977f69e1"
      }
     },
     "3be435e4998044748f5f0aafba21118e": {
      "model_module": "@jupyter-widgets/controls",
      "model_module_version": "1.5.0",
      "model_name": "DescriptionStyleModel",
      "state": {
       "description_width": ""
      }
     },
     "3cc00139353f4873a85e9fba6d04375d": {
      "model_module": "@jupyter-widgets/base",
      "model_module_version": "1.2.0",
      "model_name": "LayoutModel",
      "state": {}
     },
     "3d1e3b4c9a704d4f91ebb23aa3654ef9": {
      "model_module": "@jupyter-widgets/controls",
      "model_module_version": "1.5.0",
      "model_name": "HTMLModel",
      "state": {
       "layout": "IPY_MODEL_700589ed8a0540e9b03de69149d68949",
       "style": "IPY_MODEL_586e8222297d44b9be270b3e85176e04",
       "value": " 1000/1000 [17:48&lt;00:00,  1.03s/it]"
      }
     },
     "3d8afd1e159d4cd5958711a701679cbc": {
      "model_module": "@jupyter-widgets/controls",
      "model_module_version": "1.5.0",
      "model_name": "ProgressStyleModel",
      "state": {
       "description_width": ""
      }
     },
     "3e7b821d98824ad2883492efdda89f25": {
      "model_module": "@jupyter-widgets/base",
      "model_module_version": "1.2.0",
      "model_name": "LayoutModel",
      "state": {}
     },
     "3f65055fad774280a487856114f7db6e": {
      "model_module": "@jupyter-widgets/controls",
      "model_module_version": "1.5.0",
      "model_name": "HTMLModel",
      "state": {
       "layout": "IPY_MODEL_7cebfc2e690145cf9b4b02a15bba464f",
       "style": "IPY_MODEL_815df52707cb4a88b6cb127e875d9e11",
       "value": " 3/3 [00:03&lt;00:00,  1.25s/it]"
      }
     },
     "3f7df430c255447e84825def477e568a": {
      "model_module": "@jupyter-widgets/base",
      "model_module_version": "1.2.0",
      "model_name": "LayoutModel",
      "state": {}
     },
     "40ce83808a9d4b85859bd29c141e154e": {
      "model_module": "@jupyter-widgets/controls",
      "model_module_version": "1.5.0",
      "model_name": "ProgressStyleModel",
      "state": {
       "description_width": ""
      }
     },
     "415e9dbe481c436a96973f07f0516120": {
      "model_module": "@jupyter-widgets/base",
      "model_module_version": "1.2.0",
      "model_name": "LayoutModel",
      "state": {}
     },
     "41c6cdb8bc4741acb3814dcbcbb7c584": {
      "model_module": "@jupyter-widgets/controls",
      "model_module_version": "1.5.0",
      "model_name": "HTMLModel",
      "state": {
       "layout": "IPY_MODEL_2f57c0f86d0c48d8be9413e44c011db7",
       "style": "IPY_MODEL_b74f2690ebc74d9db23636fc51d01ab0",
       "value": " 1949/1949 [37:32&lt;00:00,  1.18s/it]"
      }
     },
     "42f92622ef0945c78a51eac2bfb7cd28": {
      "model_module": "@jupyter-widgets/base",
      "model_module_version": "1.2.0",
      "model_name": "LayoutModel",
      "state": {}
     },
     "4434ebd6311d45598d5fa8bc1f7853c2": {
      "model_module": "@jupyter-widgets/controls",
      "model_module_version": "1.5.0",
      "model_name": "HTMLModel",
      "state": {
       "layout": "IPY_MODEL_42f92622ef0945c78a51eac2bfb7cd28",
       "style": "IPY_MODEL_e33ae3de9d06495cbb68bc3887aaaa06",
       "value": " 5/5 [01:17&lt;00:00, 14.44s/it]"
      }
     },
     "44543c8513bc485481377cb2f0bfce75": {
      "model_module": "@jupyter-widgets/controls",
      "model_module_version": "1.5.0",
      "model_name": "HBoxModel",
      "state": {
       "children": [
        "IPY_MODEL_cc2e12c7f86140be87bb34329e41ef04",
        "IPY_MODEL_57511ca8275143d58dff0f47a64cb791",
        "IPY_MODEL_3146df3af61548928bd21371fabb947b"
       ],
       "layout": "IPY_MODEL_4ebb53f7f1b64416984171b65105e334"
      }
     },
     "45dc16b1e3914a1d8404fd01919a2a48": {
      "model_module": "@jupyter-widgets/controls",
      "model_module_version": "1.5.0",
      "model_name": "HTMLModel",
      "state": {
       "layout": "IPY_MODEL_03acf7c44cb7456a8966a8d18acbe9ac",
       "style": "IPY_MODEL_c00caa7af07544c4a024d03c168c614e",
       "value": " 10/10 [00:30&lt;00:00,  2.29s/it]"
      }
     },
     "466f6244d6e04e49901ba47dc5237c09": {
      "model_module": "@jupyter-widgets/controls",
      "model_module_version": "1.5.0",
      "model_name": "HTMLModel",
      "state": {
       "layout": "IPY_MODEL_5552b0bb629b426dab8d1718f8aa53a5",
       "style": "IPY_MODEL_7ace9f4a4f2e41f2af92b0b32cd740ea",
       "value": " 5/5 [01:12&lt;00:00, 14.26s/it]"
      }
     },
     "4716ae47163b44088cbb308390d396dc": {
      "model_module": "@jupyter-widgets/controls",
      "model_module_version": "1.5.0",
      "model_name": "HTMLModel",
      "state": {
       "layout": "IPY_MODEL_e32964c9565446dda43d2d3309fd494a",
       "style": "IPY_MODEL_208502e9d6304742bc149c9beea83fdd",
       "value": "100%"
      }
     },
     "4835c8c99b084d979fbad6346218adc5": {
      "model_module": "@jupyter-widgets/controls",
      "model_module_version": "1.5.0",
      "model_name": "DescriptionStyleModel",
      "state": {
       "description_width": ""
      }
     },
     "488015d18a3b4586809966c7d61b59b9": {
      "model_module": "@jupyter-widgets/controls",
      "model_module_version": "1.5.0",
      "model_name": "DescriptionStyleModel",
      "state": {
       "description_width": ""
      }
     },
     "48e52634d9ac4dd1a7d15408ece13d42": {
      "model_module": "@jupyter-widgets/controls",
      "model_module_version": "1.5.0",
      "model_name": "HBoxModel",
      "state": {
       "children": [
        "IPY_MODEL_3161dbb21e9d46d9be75b78355119dc1",
        "IPY_MODEL_f830f79c31f24148b69090aadc84c857",
        "IPY_MODEL_6eba0a297a7f4da3a824d4f90b82f337"
       ],
       "layout": "IPY_MODEL_c6f906261d454677a2c87d919ba86f5f"
      }
     },
     "49c726c4c9674b13aa9b34c8cbd1c6df": {
      "model_module": "@jupyter-widgets/base",
      "model_module_version": "1.2.0",
      "model_name": "LayoutModel",
      "state": {}
     },
     "4a6e010f141542c69dc844541ef1cc43": {
      "model_module": "@jupyter-widgets/base",
      "model_module_version": "1.2.0",
      "model_name": "LayoutModel",
      "state": {}
     },
     "4bafd196a48547d4ae655ddec877a60a": {
      "model_module": "@jupyter-widgets/controls",
      "model_module_version": "1.5.0",
      "model_name": "HBoxModel",
      "state": {
       "children": [
        "IPY_MODEL_f45e9e4c3dfb47ebab29d9aefe0044dd",
        "IPY_MODEL_5304a5aef9dc4e0a95032098a7af5373",
        "IPY_MODEL_9bcb688308364923bcfba0573251d598"
       ],
       "layout": "IPY_MODEL_7fb228302b0e4173bf12a2b169d15148"
      }
     },
     "4c3403a00fab4224bdcb90a02deca6fb": {
      "model_module": "@jupyter-widgets/controls",
      "model_module_version": "1.5.0",
      "model_name": "HTMLModel",
      "state": {
       "layout": "IPY_MODEL_3f7df430c255447e84825def477e568a",
       "style": "IPY_MODEL_c47f9fc5b87945d6a0db0643bb30d5b4",
       "value": "100%"
      }
     },
     "4d4d3c1efe4b4b9883f8477445ed4986": {
      "model_module": "@jupyter-widgets/base",
      "model_module_version": "1.2.0",
      "model_name": "LayoutModel",
      "state": {}
     },
     "4d712a48df3a4d61946d87b81d9d2482": {
      "model_module": "@jupyter-widgets/controls",
      "model_module_version": "1.5.0",
      "model_name": "HTMLModel",
      "state": {
       "layout": "IPY_MODEL_f5fc7b9955f7464a86d2a1c62971ce9a",
       "style": "IPY_MODEL_b207fe857883401dbf85c821d3087e25",
       "value": " 6/6 [00:17&lt;00:00,  3.01s/it]"
      }
     },
     "4e60e4d41b3f4d7688a99875a1f05ef0": {
      "model_module": "@jupyter-widgets/controls",
      "model_module_version": "1.5.0",
      "model_name": "DescriptionStyleModel",
      "state": {
       "description_width": ""
      }
     },
     "4e970bce9e304575add4ba4742753345": {
      "model_module": "@jupyter-widgets/controls",
      "model_module_version": "1.5.0",
      "model_name": "ProgressStyleModel",
      "state": {
       "description_width": ""
      }
     },
     "4ebb53f7f1b64416984171b65105e334": {
      "model_module": "@jupyter-widgets/base",
      "model_module_version": "1.2.0",
      "model_name": "LayoutModel",
      "state": {}
     },
     "4f8414842d6c4972b607c6f19a51537a": {
      "model_module": "@jupyter-widgets/controls",
      "model_module_version": "1.5.0",
      "model_name": "ProgressStyleModel",
      "state": {
       "description_width": ""
      }
     },
     "4fba25f9a20141e5a946cd28569b2066": {
      "model_module": "@jupyter-widgets/base",
      "model_module_version": "1.2.0",
      "model_name": "LayoutModel",
      "state": {}
     },
     "5035ae0ac218414f96441c87b6d68212": {
      "model_module": "@jupyter-widgets/base",
      "model_module_version": "1.2.0",
      "model_name": "LayoutModel",
      "state": {}
     },
     "519e1730d4e14b638bf57da0e2c4d037": {
      "model_module": "@jupyter-widgets/base",
      "model_module_version": "1.2.0",
      "model_name": "LayoutModel",
      "state": {}
     },
     "52230dcf66124a0181a6ff729a73cd05": {
      "model_module": "@jupyter-widgets/controls",
      "model_module_version": "1.5.0",
      "model_name": "HBoxModel",
      "state": {
       "children": [
        "IPY_MODEL_dfaadc758bc64023b97e72188ec686b7",
        "IPY_MODEL_110e9db736c44d8e8dc9473d7f0e9540",
        "IPY_MODEL_45dc16b1e3914a1d8404fd01919a2a48"
       ],
       "layout": "IPY_MODEL_18ffc9ce652d45f081bc2468093a1156"
      }
     },
     "522826aab9be402e9175d3cc56751a28": {
      "model_module": "@jupyter-widgets/controls",
      "model_module_version": "1.5.0",
      "model_name": "HTMLModel",
      "state": {
       "layout": "IPY_MODEL_f13e529daa7547edab520cb66c99eea0",
       "style": "IPY_MODEL_128b804ec71e47c4baff559ba07befff",
       "value": " 250/250 [04:01&lt;00:00,  1.13it/s]"
      }
     },
     "528ff2ad770c44049c384e612166aa81": {
      "model_module": "@jupyter-widgets/controls",
      "model_module_version": "1.5.0",
      "model_name": "FloatProgressModel",
      "state": {
       "bar_style": "success",
       "layout": "IPY_MODEL_a746ce458c9742d58b0ae66d5b5d000e",
       "max": 5,
       "style": "IPY_MODEL_a2a9c95f3a3348a3a1cceab6082036b6",
       "value": 5
      }
     },
     "52d0ee6ec41c41dbb8af88bb03230499": {
      "model_module": "@jupyter-widgets/base",
      "model_module_version": "1.2.0",
      "model_name": "LayoutModel",
      "state": {}
     },
     "5304a5aef9dc4e0a95032098a7af5373": {
      "model_module": "@jupyter-widgets/controls",
      "model_module_version": "1.5.0",
      "model_name": "FloatProgressModel",
      "state": {
       "bar_style": "success",
       "layout": "IPY_MODEL_e4046505e90e49bfbbcbd8e795c5c295",
       "max": 3,
       "style": "IPY_MODEL_b8ae657f4ad04c1795270a11f462ab7c",
       "value": 3
      }
     },
     "53f01d1442a842bf9bd844da65738109": {
      "model_module": "@jupyter-widgets/controls",
      "model_module_version": "1.5.0",
      "model_name": "HTMLModel",
      "state": {
       "layout": "IPY_MODEL_5035ae0ac218414f96441c87b6d68212",
       "style": "IPY_MODEL_4e60e4d41b3f4d7688a99875a1f05ef0",
       "value": "100%"
      }
     },
     "5426f85f2c62436d9b98237df000ea39": {
      "model_module": "@jupyter-widgets/controls",
      "model_module_version": "1.5.0",
      "model_name": "DescriptionStyleModel",
      "state": {
       "description_width": ""
      }
     },
     "552da688b65c408cbdf4b3264e683555": {
      "model_module": "@jupyter-widgets/controls",
      "model_module_version": "1.5.0",
      "model_name": "FloatProgressModel",
      "state": {
       "bar_style": "success",
       "layout": "IPY_MODEL_75e42f1ce4dd43a1a2262ecd87c40554",
       "max": 10,
       "style": "IPY_MODEL_5b1d73f050544b7a9673da15988bd30a",
       "value": 10
      }
     },
     "5552b0bb629b426dab8d1718f8aa53a5": {
      "model_module": "@jupyter-widgets/base",
      "model_module_version": "1.2.0",
      "model_name": "LayoutModel",
      "state": {}
     },
     "56bd38cd331f4bc69d4485e70020c7fa": {
      "model_module": "@jupyter-widgets/controls",
      "model_module_version": "1.5.0",
      "model_name": "DescriptionStyleModel",
      "state": {
       "description_width": ""
      }
     },
     "57511ca8275143d58dff0f47a64cb791": {
      "model_module": "@jupyter-widgets/controls",
      "model_module_version": "1.5.0",
      "model_name": "FloatProgressModel",
      "state": {
       "bar_style": "success",
       "layout": "IPY_MODEL_64a5e09207784c4cbfd0ce1c7fc5a194",
       "max": 1000,
       "style": "IPY_MODEL_671d83ff66354b24916e59929ef57bed",
       "value": 1000
      }
     },
     "586e8222297d44b9be270b3e85176e04": {
      "model_module": "@jupyter-widgets/controls",
      "model_module_version": "1.5.0",
      "model_name": "DescriptionStyleModel",
      "state": {
       "description_width": ""
      }
     },
     "58e63633d5df40ecab2b770c6409c6eb": {
      "model_module": "@jupyter-widgets/controls",
      "model_module_version": "1.5.0",
      "model_name": "HTMLModel",
      "state": {
       "layout": "IPY_MODEL_2bc11fd10765479d8e3a82bbadda54ba",
       "style": "IPY_MODEL_103257c890e441d8ac8228ba8b1cc193",
       "value": "100%"
      }
     },
     "5961170a5b8b4d6bb859dc1986def693": {
      "model_module": "@jupyter-widgets/controls",
      "model_module_version": "1.5.0",
      "model_name": "ProgressStyleModel",
      "state": {
       "description_width": ""
      }
     },
     "5a020ddf6bd9410989ad37cb6239572a": {
      "model_module": "@jupyter-widgets/controls",
      "model_module_version": "1.5.0",
      "model_name": "DescriptionStyleModel",
      "state": {
       "description_width": ""
      }
     },
     "5a5d20056d584a71b89888a5960d0dca": {
      "model_module": "@jupyter-widgets/base",
      "model_module_version": "1.2.0",
      "model_name": "LayoutModel",
      "state": {}
     },
     "5b1d73f050544b7a9673da15988bd30a": {
      "model_module": "@jupyter-widgets/controls",
      "model_module_version": "1.5.0",
      "model_name": "ProgressStyleModel",
      "state": {
       "description_width": ""
      }
     },
     "5b93bd8c270c4856b6399d5cde0970ed": {
      "model_module": "@jupyter-widgets/controls",
      "model_module_version": "1.5.0",
      "model_name": "HTMLModel",
      "state": {
       "layout": "IPY_MODEL_5bac4de1cbd84c93a10720ae73d40a27",
       "style": "IPY_MODEL_81df65c2a01840a3a6e0e7c9e4647698",
       "value": "100%"
      }
     },
     "5bac4de1cbd84c93a10720ae73d40a27": {
      "model_module": "@jupyter-widgets/base",
      "model_module_version": "1.2.0",
      "model_name": "LayoutModel",
      "state": {}
     },
     "5bc9de4d5c8e41c6a4d791476c9c887f": {
      "model_module": "@jupyter-widgets/controls",
      "model_module_version": "1.5.0",
      "model_name": "ProgressStyleModel",
      "state": {
       "description_width": ""
      }
     },
     "5cd4a58b934d4108acf07e88755c828a": {
      "model_module": "@jupyter-widgets/controls",
      "model_module_version": "1.5.0",
      "model_name": "HTMLModel",
      "state": {
       "layout": "IPY_MODEL_415e9dbe481c436a96973f07f0516120",
       "style": "IPY_MODEL_5426f85f2c62436d9b98237df000ea39",
       "value": "100%"
      }
     },
     "5dc2345b87f04288a7d266c5dd231713": {
      "model_module": "@jupyter-widgets/base",
      "model_module_version": "1.2.0",
      "model_name": "LayoutModel",
      "state": {}
     },
     "5e3cc9d26a224bf68977db164b260878": {
      "model_module": "@jupyter-widgets/controls",
      "model_module_version": "1.5.0",
      "model_name": "HTMLModel",
      "state": {
       "layout": "IPY_MODEL_c0f48112aac14df8a52b28a5fc6353a8",
       "style": "IPY_MODEL_78591ade62ca4bf488826806e9acc622",
       "value": " 250/250 [04:11&lt;00:00,  1.11s/it]"
      }
     },
     "5e80d90aaada4527b978901ca42fd951": {
      "model_module": "@jupyter-widgets/base",
      "model_module_version": "1.2.0",
      "model_name": "LayoutModel",
      "state": {}
     },
     "5eb14610ed0c42e3a0f30f819813576a": {
      "model_module": "@jupyter-widgets/base",
      "model_module_version": "1.2.0",
      "model_name": "LayoutModel",
      "state": {}
     },
     "5fcf75e57d8948f6b6d5e402516b83ca": {
      "model_module": "@jupyter-widgets/controls",
      "model_module_version": "1.5.0",
      "model_name": "HTMLModel",
      "state": {
       "layout": "IPY_MODEL_4fba25f9a20141e5a946cd28569b2066",
       "style": "IPY_MODEL_a1d430e21539497ba401faffe0ccf3b2",
       "value": "100%"
      }
     },
     "6117999ff4bb4598a518d38e45bea9e4": {
      "model_module": "@jupyter-widgets/controls",
      "model_module_version": "1.5.0",
      "model_name": "HTMLModel",
      "state": {
       "layout": "IPY_MODEL_d489434633ec4fa99fc61dd5d6532049",
       "style": "IPY_MODEL_1cca8af6dab44637b867ab1233e9e15f",
       "value": " 5/5 [00:58&lt;00:00, 11.62s/it]"
      }
     },
     "6183ecf961d24ed38728b234888e5cbb": {
      "model_module": "@jupyter-widgets/base",
      "model_module_version": "1.2.0",
      "model_name": "LayoutModel",
      "state": {}
     },
     "64a5e09207784c4cbfd0ce1c7fc5a194": {
      "model_module": "@jupyter-widgets/base",
      "model_module_version": "1.2.0",
      "model_name": "LayoutModel",
      "state": {}
     },
     "64d968f8edea40289acea13dce51ea76": {
      "model_module": "@jupyter-widgets/controls",
      "model_module_version": "1.5.0",
      "model_name": "DescriptionStyleModel",
      "state": {
       "description_width": ""
      }
     },
     "6539f0ef64ae4076b5d78d31de4ea631": {
      "model_module": "@jupyter-widgets/controls",
      "model_module_version": "1.5.0",
      "model_name": "FloatProgressModel",
      "state": {
       "bar_style": "success",
       "layout": "IPY_MODEL_144b7b228c464a038d458ddc99fb989c",
       "max": 5,
       "style": "IPY_MODEL_b81b8e4253b9459b82491a819ba19898",
       "value": 5
      }
     },
     "66949e779e4541098b85e501604ca773": {
      "model_module": "@jupyter-widgets/base",
      "model_module_version": "1.2.0",
      "model_name": "LayoutModel",
      "state": {}
     },
     "66c5d460b9e0440db55473b040a4ab60": {
      "model_module": "@jupyter-widgets/controls",
      "model_module_version": "1.5.0",
      "model_name": "HTMLModel",
      "state": {
       "layout": "IPY_MODEL_8e0976b4f7464d1e9ed42875452b79ac",
       "style": "IPY_MODEL_a331339e0f594e1dbd8313988eb357e6",
       "value": "100%"
      }
     },
     "671d83ff66354b24916e59929ef57bed": {
      "model_module": "@jupyter-widgets/controls",
      "model_module_version": "1.5.0",
      "model_name": "ProgressStyleModel",
      "state": {
       "description_width": ""
      }
     },
     "67a3913e638b4ed0b29e8100b858344e": {
      "model_module": "@jupyter-widgets/base",
      "model_module_version": "1.2.0",
      "model_name": "LayoutModel",
      "state": {}
     },
     "68845f9de41a4a10869571172e03f1ef": {
      "model_module": "@jupyter-widgets/base",
      "model_module_version": "1.2.0",
      "model_name": "LayoutModel",
      "state": {}
     },
     "6a5876ab19d6475788b066834d388b99": {
      "model_module": "@jupyter-widgets/base",
      "model_module_version": "1.2.0",
      "model_name": "LayoutModel",
      "state": {}
     },
     "6c72623f448f42219e87e7610ebf8b6d": {
      "model_module": "@jupyter-widgets/controls",
      "model_module_version": "1.5.0",
      "model_name": "HBoxModel",
      "state": {
       "children": [
        "IPY_MODEL_4c3403a00fab4224bdcb90a02deca6fb",
        "IPY_MODEL_75826257aca74940b037bed6e4b0b4c7",
        "IPY_MODEL_de5512d1baa444349665dedfdc95b941"
       ],
       "layout": "IPY_MODEL_3505579220224b368b13365477571cfb"
      }
     },
     "6eba0a297a7f4da3a824d4f90b82f337": {
      "model_module": "@jupyter-widgets/controls",
      "model_module_version": "1.5.0",
      "model_name": "HTMLModel",
      "state": {
       "layout": "IPY_MODEL_07c04df45dd54770b3e6477139f25924",
       "style": "IPY_MODEL_1f69caf8081740e58fc0b57f245e3c26",
       "value": " 4/4 [00:22&lt;00:00,  5.66s/it]"
      }
     },
     "6f8418c90d87413a8a492ac88c39d50f": {
      "model_module": "@jupyter-widgets/base",
      "model_module_version": "1.2.0",
      "model_name": "LayoutModel",
      "state": {}
     },
     "700589ed8a0540e9b03de69149d68949": {
      "model_module": "@jupyter-widgets/base",
      "model_module_version": "1.2.0",
      "model_name": "LayoutModel",
      "state": {}
     },
     "709a6af358bb4d3ab9052bb1f98a93bf": {
      "model_module": "@jupyter-widgets/controls",
      "model_module_version": "1.5.0",
      "model_name": "DescriptionStyleModel",
      "state": {
       "description_width": ""
      }
     },
     "713fb3e2ecd64c82801669eee4efb90f": {
      "model_module": "@jupyter-widgets/controls",
      "model_module_version": "1.5.0",
      "model_name": "HBoxModel",
      "state": {
       "children": [
        "IPY_MODEL_3776c7f370cf482485ab4b47dcb1e691",
        "IPY_MODEL_528ff2ad770c44049c384e612166aa81",
        "IPY_MODEL_466f6244d6e04e49901ba47dc5237c09"
       ],
       "layout": "IPY_MODEL_721de7fbb0c64f909c5f674c31db4a03"
      }
     },
     "721de7fbb0c64f909c5f674c31db4a03": {
      "model_module": "@jupyter-widgets/base",
      "model_module_version": "1.2.0",
      "model_name": "LayoutModel",
      "state": {}
     },
     "72480180f6e542c9bbb06bc213c76b24": {
      "model_module": "@jupyter-widgets/controls",
      "model_module_version": "1.5.0",
      "model_name": "FloatProgressModel",
      "state": {
       "bar_style": "success",
       "layout": "IPY_MODEL_08f7716024be4cf98d03954112a63af1",
       "max": 6,
       "style": "IPY_MODEL_e2c957b83610439ab9af60a5d59735f3",
       "value": 6
      }
     },
     "724bd30b4b5b4a8a8eb7cd376720d4d7": {
      "model_module": "@jupyter-widgets/base",
      "model_module_version": "1.2.0",
      "model_name": "LayoutModel",
      "state": {}
     },
     "73188133d8334d1c930d0900f6e57b80": {
      "model_module": "@jupyter-widgets/controls",
      "model_module_version": "1.5.0",
      "model_name": "DescriptionStyleModel",
      "state": {
       "description_width": ""
      }
     },
     "736d905da28f43dcbff91873940a0b60": {
      "model_module": "@jupyter-widgets/controls",
      "model_module_version": "1.5.0",
      "model_name": "DescriptionStyleModel",
      "state": {
       "description_width": ""
      }
     },
     "75826257aca74940b037bed6e4b0b4c7": {
      "model_module": "@jupyter-widgets/controls",
      "model_module_version": "1.5.0",
      "model_name": "FloatProgressModel",
      "state": {
       "bar_style": "success",
       "layout": "IPY_MODEL_e5664a7b9d10495dafe21f2e73d79268",
       "max": 5,
       "style": "IPY_MODEL_c91643f8e92e42de92ace697d6006c64",
       "value": 5
      }
     },
     "75aea47c03d94d6ab44fade44843bebc": {
      "model_module": "@jupyter-widgets/controls",
      "model_module_version": "1.5.0",
      "model_name": "DescriptionStyleModel",
      "state": {
       "description_width": ""
      }
     },
     "75e42f1ce4dd43a1a2262ecd87c40554": {
      "model_module": "@jupyter-widgets/base",
      "model_module_version": "1.2.0",
      "model_name": "LayoutModel",
      "state": {}
     },
     "764dd34d01be460bb249ee4fe5806780": {
      "model_module": "@jupyter-widgets/controls",
      "model_module_version": "1.5.0",
      "model_name": "HBoxModel",
      "state": {
       "children": [
        "IPY_MODEL_85921be780f84599afd65f0431113edf",
        "IPY_MODEL_0741965828194e338ced3d458c84b177",
        "IPY_MODEL_5e3cc9d26a224bf68977db164b260878"
       ],
       "layout": "IPY_MODEL_aaf62c4edb1a4fb2b050ee9500894670"
      }
     },
     "76e2e4a363d342e08912dc70060365f8": {
      "model_module": "@jupyter-widgets/controls",
      "model_module_version": "1.5.0",
      "model_name": "HBoxModel",
      "state": {
       "children": [
        "IPY_MODEL_d7c05d8eb77649fa95165ad6f95c32c0",
        "IPY_MODEL_332241f16fe24d9ca2f8f1434d74c605",
        "IPY_MODEL_165307e9047f408f9203c730b52fbd68"
       ],
       "layout": "IPY_MODEL_20f3b7255e7144e99f57f258d42915d6"
      }
     },
     "78591ade62ca4bf488826806e9acc622": {
      "model_module": "@jupyter-widgets/controls",
      "model_module_version": "1.5.0",
      "model_name": "DescriptionStyleModel",
      "state": {
       "description_width": ""
      }
     },
     "7a9926088e284c6885e1542531bdb9f6": {
      "model_module": "@jupyter-widgets/controls",
      "model_module_version": "1.5.0",
      "model_name": "HTMLModel",
      "state": {
       "layout": "IPY_MODEL_0fa4566e38cd4cd280dc1fd9e53a813c",
       "style": "IPY_MODEL_80856a280c284372aa367ab34116e339",
       "value": " 4/6 [04:03&lt;00:06,  3.27s/it]"
      }
     },
     "7ace9f4a4f2e41f2af92b0b32cd740ea": {
      "model_module": "@jupyter-widgets/controls",
      "model_module_version": "1.5.0",
      "model_name": "DescriptionStyleModel",
      "state": {
       "description_width": ""
      }
     },
     "7c91ff76cfb548b28a5fc2384dec1060": {
      "model_module": "@jupyter-widgets/controls",
      "model_module_version": "1.5.0",
      "model_name": "HBoxModel",
      "state": {
       "children": [
        "IPY_MODEL_be6c083d0e994015a2003839efbf3e60",
        "IPY_MODEL_d419b14dd2c148b5b3d36b4cc05d5d3b",
        "IPY_MODEL_2cab78b49ec94672bdd9145e85831c96"
       ],
       "layout": "IPY_MODEL_2786a977b60745a29d55cb9ab1833a8e"
      }
     },
     "7cd80a8a17244ce78b9c739d3f33b337": {
      "model_module": "@jupyter-widgets/controls",
      "model_module_version": "1.5.0",
      "model_name": "HBoxModel",
      "state": {
       "children": [
        "IPY_MODEL_aa818f5ac3cd4f1d8bf9cf3d9f7e401f",
        "IPY_MODEL_9406420b31fb4d6192d5bd45a39fba86",
        "IPY_MODEL_7a9926088e284c6885e1542531bdb9f6"
       ],
       "layout": "IPY_MODEL_22529701a45e4d80a192cd16e5eb8cc4"
      }
     },
     "7cebfc2e690145cf9b4b02a15bba464f": {
      "model_module": "@jupyter-widgets/base",
      "model_module_version": "1.2.0",
      "model_name": "LayoutModel",
      "state": {}
     },
     "7f9038ebf35a4b319fa94e0b7e194587": {
      "model_module": "@jupyter-widgets/controls",
      "model_module_version": "1.5.0",
      "model_name": "HTMLModel",
      "state": {
       "layout": "IPY_MODEL_9b35e16f6abd4d2685e85b6c9a9a5b3c",
       "style": "IPY_MODEL_709a6af358bb4d3ab9052bb1f98a93bf",
       "value": "100%"
      }
     },
     "7fb228302b0e4173bf12a2b169d15148": {
      "model_module": "@jupyter-widgets/base",
      "model_module_version": "1.2.0",
      "model_name": "LayoutModel",
      "state": {}
     },
     "80856a280c284372aa367ab34116e339": {
      "model_module": "@jupyter-widgets/controls",
      "model_module_version": "1.5.0",
      "model_name": "DescriptionStyleModel",
      "state": {
       "description_width": ""
      }
     },
     "815df52707cb4a88b6cb127e875d9e11": {
      "model_module": "@jupyter-widgets/controls",
      "model_module_version": "1.5.0",
      "model_name": "DescriptionStyleModel",
      "state": {
       "description_width": ""
      }
     },
     "8176618a27d34602b4c74b9cc58df5e9": {
      "model_module": "@jupyter-widgets/controls",
      "model_module_version": "1.5.0",
      "model_name": "FloatProgressModel",
      "state": {
       "bar_style": "success",
       "layout": "IPY_MODEL_30a43e30959e42c4832a578233615bf2",
       "max": 300,
       "style": "IPY_MODEL_a2429889dcf94d17acb416ec5043e457",
       "value": 300
      }
     },
     "81df65c2a01840a3a6e0e7c9e4647698": {
      "model_module": "@jupyter-widgets/controls",
      "model_module_version": "1.5.0",
      "model_name": "DescriptionStyleModel",
      "state": {
       "description_width": ""
      }
     },
     "825bfc80e9bd41b9b31683fb282e7b6a": {
      "model_module": "@jupyter-widgets/base",
      "model_module_version": "1.2.0",
      "model_name": "LayoutModel",
      "state": {}
     },
     "825e6066de194713bc1ca646ad214f01": {
      "model_module": "@jupyter-widgets/controls",
      "model_module_version": "1.5.0",
      "model_name": "HTMLModel",
      "state": {
       "layout": "IPY_MODEL_519e1730d4e14b638bf57da0e2c4d037",
       "style": "IPY_MODEL_73188133d8334d1c930d0900f6e57b80",
       "value": "100%"
      }
     },
     "83158cbe52dd42b6accdd18059bb1eeb": {
      "model_module": "@jupyter-widgets/controls",
      "model_module_version": "1.5.0",
      "model_name": "HTMLModel",
      "state": {
       "layout": "IPY_MODEL_d76e3854e27640a2a8e6e7a3733b71ff",
       "style": "IPY_MODEL_a047a18fab074c6bab805dac0357cf03",
       "value": " 52%"
      }
     },
     "853b183eebf14e0bbbfce5e26d62ea37": {
      "model_module": "@jupyter-widgets/base",
      "model_module_version": "1.2.0",
      "model_name": "LayoutModel",
      "state": {}
     },
     "85921be780f84599afd65f0431113edf": {
      "model_module": "@jupyter-widgets/controls",
      "model_module_version": "1.5.0",
      "model_name": "HTMLModel",
      "state": {
       "layout": "IPY_MODEL_68845f9de41a4a10869571172e03f1ef",
       "style": "IPY_MODEL_fd1dcd84d294428e903fcc29a013b9f4",
       "value": "100%"
      }
     },
     "860767e3a71f4888965c8926d9961889": {
      "model_module": "@jupyter-widgets/base",
      "model_module_version": "1.2.0",
      "model_name": "LayoutModel",
      "state": {}
     },
     "863f4b4f2c844e3889e0a4a4cf39eccf": {
      "model_module": "@jupyter-widgets/controls",
      "model_module_version": "1.5.0",
      "model_name": "HBoxModel",
      "state": {
       "children": [
        "IPY_MODEL_b076968c949a4963bc71afce902b1798",
        "IPY_MODEL_6539f0ef64ae4076b5d78d31de4ea631",
        "IPY_MODEL_6117999ff4bb4598a518d38e45bea9e4"
       ],
       "layout": "IPY_MODEL_d8ffa63acdb149f49289d0deb8817d76"
      }
     },
     "86b02be7d6b1474ebcd14ae0da7967d4": {
      "model_module": "@jupyter-widgets/controls",
      "model_module_version": "1.5.0",
      "model_name": "HTMLModel",
      "state": {
       "layout": "IPY_MODEL_49c726c4c9674b13aa9b34c8cbd1c6df",
       "style": "IPY_MODEL_c6d89543e29c457698f591a4882b789b",
       "value": " 4/4 [00:23&lt;00:00,  6.00s/it]"
      }
     },
     "86d3ca149af14aa184f3a8e6aed32a2a": {
      "model_module": "@jupyter-widgets/controls",
      "model_module_version": "1.5.0",
      "model_name": "FloatProgressModel",
      "state": {
       "bar_style": "success",
       "layout": "IPY_MODEL_c26d78415be5403c8c173d4377118dbb",
       "max": 3,
       "style": "IPY_MODEL_da34f4e26fa34ae78eba08bdb8576bc0",
       "value": 3
      }
     },
     "87294564b1cf4e2eba84afdf7bae6d86": {
      "model_module": "@jupyter-widgets/controls",
      "model_module_version": "1.5.0",
      "model_name": "DescriptionStyleModel",
      "state": {
       "description_width": ""
      }
     },
     "87f08488c72444df85861f51977f69e1": {
      "model_module": "@jupyter-widgets/base",
      "model_module_version": "1.2.0",
      "model_name": "LayoutModel",
      "state": {}
     },
     "87f3180967a2492c99412c8b6019fb4c": {
      "model_module": "@jupyter-widgets/base",
      "model_module_version": "1.2.0",
      "model_name": "LayoutModel",
      "state": {}
     },
     "8831033d7eec4a14a1cb89abe2a0020d": {
      "model_module": "@jupyter-widgets/controls",
      "model_module_version": "1.5.0",
      "model_name": "ProgressStyleModel",
      "state": {
       "description_width": ""
      }
     },
     "8b217b1cbcaf42f6bfc3fabb675599ea": {
      "model_module": "@jupyter-widgets/controls",
      "model_module_version": "1.5.0",
      "model_name": "ProgressStyleModel",
      "state": {
       "description_width": ""
      }
     },
     "8be0f56f2b3e4a27892109065eee3a71": {
      "model_module": "@jupyter-widgets/base",
      "model_module_version": "1.2.0",
      "model_name": "LayoutModel",
      "state": {}
     },
     "8d1f7c0924e34e46899469ccb8b7ea15": {
      "model_module": "@jupyter-widgets/controls",
      "model_module_version": "1.5.0",
      "model_name": "FloatProgressModel",
      "state": {
       "bar_style": "success",
       "layout": "IPY_MODEL_1305397ff14e477a8a5b22e4df03cbd5",
       "max": 1000,
       "style": "IPY_MODEL_3d8afd1e159d4cd5958711a701679cbc",
       "value": 1000
      }
     },
     "8d9e8f5c8c714054b2d4495a034b82a3": {
      "model_module": "@jupyter-widgets/base",
      "model_module_version": "1.2.0",
      "model_name": "LayoutModel",
      "state": {}
     },
     "8e0976b4f7464d1e9ed42875452b79ac": {
      "model_module": "@jupyter-widgets/base",
      "model_module_version": "1.2.0",
      "model_name": "LayoutModel",
      "state": {}
     },
     "8e0e7b6ecbc3416d93bd8c65450476df": {
      "model_module": "@jupyter-widgets/base",
      "model_module_version": "1.2.0",
      "model_name": "LayoutModel",
      "state": {}
     },
     "8e59765637af401891570dad3b4b393b": {
      "model_module": "@jupyter-widgets/base",
      "model_module_version": "1.2.0",
      "model_name": "LayoutModel",
      "state": {}
     },
     "90eaebe189d6428aa30046d06413190c": {
      "model_module": "@jupyter-widgets/base",
      "model_module_version": "1.2.0",
      "model_name": "LayoutModel",
      "state": {}
     },
     "91381bd64c0b4be0ae164dda4f028e7f": {
      "model_module": "@jupyter-widgets/controls",
      "model_module_version": "1.5.0",
      "model_name": "HTMLModel",
      "state": {
       "layout": "IPY_MODEL_4a6e010f141542c69dc844541ef1cc43",
       "style": "IPY_MODEL_bc4035256e8a45efbb39231f42e8aedc",
       "value": "100%"
      }
     },
     "925c2f38708c4213b19e078ec3b61802": {
      "model_module": "@jupyter-widgets/controls",
      "model_module_version": "1.5.0",
      "model_name": "HTMLModel",
      "state": {
       "layout": "IPY_MODEL_e850cfaf0b8746259d2980fcb84dd08e",
       "style": "IPY_MODEL_9b4fa5042a0942748c079a346b78e938",
       "value": "100%"
      }
     },
     "9406420b31fb4d6192d5bd45a39fba86": {
      "model_module": "@jupyter-widgets/controls",
      "model_module_version": "1.5.0",
      "model_name": "FloatProgressModel",
      "state": {
       "bar_style": "danger",
       "layout": "IPY_MODEL_5e80d90aaada4527b978901ca42fd951",
       "max": 6,
       "style": "IPY_MODEL_4e970bce9e304575add4ba4742753345",
       "value": 4
      }
     },
     "944ec378336f46c1b0e7de2e068aa4f0": {
      "model_module": "@jupyter-widgets/base",
      "model_module_version": "1.2.0",
      "model_name": "LayoutModel",
      "state": {}
     },
     "946ee62e1710428dabff27db73e3f514": {
      "model_module": "@jupyter-widgets/controls",
      "model_module_version": "1.5.0",
      "model_name": "ProgressStyleModel",
      "state": {
       "description_width": ""
      }
     },
     "99928d0c7fb04989963a2a928daac8e1": {
      "model_module": "@jupyter-widgets/controls",
      "model_module_version": "1.5.0",
      "model_name": "FloatProgressModel",
      "state": {
       "bar_style": "success",
       "layout": "IPY_MODEL_201c201cd3ea40afafabd0dc2bf81010",
       "max": 250,
       "style": "IPY_MODEL_4f8414842d6c4972b607c6f19a51537a",
       "value": 250
      }
     },
     "9b0b13f71984401bb011f4faa6d061cb": {
      "model_module": "@jupyter-widgets/base",
      "model_module_version": "1.2.0",
      "model_name": "LayoutModel",
      "state": {}
     },
     "9b35e16f6abd4d2685e85b6c9a9a5b3c": {
      "model_module": "@jupyter-widgets/base",
      "model_module_version": "1.2.0",
      "model_name": "LayoutModel",
      "state": {}
     },
     "9b4fa5042a0942748c079a346b78e938": {
      "model_module": "@jupyter-widgets/controls",
      "model_module_version": "1.5.0",
      "model_name": "DescriptionStyleModel",
      "state": {
       "description_width": ""
      }
     },
     "9bcb688308364923bcfba0573251d598": {
      "model_module": "@jupyter-widgets/controls",
      "model_module_version": "1.5.0",
      "model_name": "HTMLModel",
      "state": {
       "layout": "IPY_MODEL_33525d8fbe304bd6908f1327b43590d9",
       "style": "IPY_MODEL_56bd38cd331f4bc69d4485e70020c7fa",
       "value": " 3/3 [00:03&lt;00:00,  1.30s/it]"
      }
     },
     "9c9662b15e3547eaa8147dd7409cb7a2": {
      "model_module": "@jupyter-widgets/controls",
      "model_module_version": "1.5.0",
      "model_name": "HBoxModel",
      "state": {
       "children": [
        "IPY_MODEL_58e63633d5df40ecab2b770c6409c6eb",
        "IPY_MODEL_faaad911356e49fcbfc3df074d45b8b6",
        "IPY_MODEL_bafd1d71ba7c49d385f82d38ded6cbd8"
       ],
       "layout": "IPY_MODEL_f57b54c1a14f491d988de6333128796e"
      }
     },
     "9e2c6cb54c774e029667bfe0cad56e8e": {
      "model_module": "@jupyter-widgets/controls",
      "model_module_version": "1.5.0",
      "model_name": "DescriptionStyleModel",
      "state": {
       "description_width": ""
      }
     },
     "9ede373a7e1740ea9ecbf5a7a6184b44": {
      "model_module": "@jupyter-widgets/controls",
      "model_module_version": "1.5.0",
      "model_name": "DescriptionStyleModel",
      "state": {
       "description_width": ""
      }
     },
     "a017a298426f4e26b82f547c003ef609": {
      "model_module": "@jupyter-widgets/base",
      "model_module_version": "1.2.0",
      "model_name": "LayoutModel",
      "state": {}
     },
     "a047a18fab074c6bab805dac0357cf03": {
      "model_module": "@jupyter-widgets/controls",
      "model_module_version": "1.5.0",
      "model_name": "DescriptionStyleModel",
      "state": {
       "description_width": ""
      }
     },
     "a0a3e359aab74217bdf1ce2337ecc8dd": {
      "model_module": "@jupyter-widgets/base",
      "model_module_version": "1.2.0",
      "model_name": "LayoutModel",
      "state": {}
     },
     "a1ca1c8f42f544c6869ad1815cf4da69": {
      "model_module": "@jupyter-widgets/base",
      "model_module_version": "1.2.0",
      "model_name": "LayoutModel",
      "state": {}
     },
     "a1d430e21539497ba401faffe0ccf3b2": {
      "model_module": "@jupyter-widgets/controls",
      "model_module_version": "1.5.0",
      "model_name": "DescriptionStyleModel",
      "state": {
       "description_width": ""
      }
     },
     "a2429889dcf94d17acb416ec5043e457": {
      "model_module": "@jupyter-widgets/controls",
      "model_module_version": "1.5.0",
      "model_name": "ProgressStyleModel",
      "state": {
       "description_width": ""
      }
     },
     "a2a9c95f3a3348a3a1cceab6082036b6": {
      "model_module": "@jupyter-widgets/controls",
      "model_module_version": "1.5.0",
      "model_name": "ProgressStyleModel",
      "state": {
       "description_width": ""
      }
     },
     "a331339e0f594e1dbd8313988eb357e6": {
      "model_module": "@jupyter-widgets/controls",
      "model_module_version": "1.5.0",
      "model_name": "DescriptionStyleModel",
      "state": {
       "description_width": ""
      }
     },
     "a3cfb0cab5cc4f2a8ac6296b3ad5d088": {
      "model_module": "@jupyter-widgets/controls",
      "model_module_version": "1.5.0",
      "model_name": "ProgressStyleModel",
      "state": {
       "description_width": ""
      }
     },
     "a414a0c2a63a43d0884ecceb0084fde1": {
      "model_module": "@jupyter-widgets/base",
      "model_module_version": "1.2.0",
      "model_name": "LayoutModel",
      "state": {}
     },
     "a416667220854aabacead0b3b55b5329": {
      "model_module": "@jupyter-widgets/controls",
      "model_module_version": "1.5.0",
      "model_name": "HTMLModel",
      "state": {
       "layout": "IPY_MODEL_860767e3a71f4888965c8926d9961889",
       "style": "IPY_MODEL_3be435e4998044748f5f0aafba21118e",
       "value": "  0%"
      }
     },
     "a492b6c84e4f4b428a5179f500e49948": {
      "model_module": "@jupyter-widgets/base",
      "model_module_version": "1.2.0",
      "model_name": "LayoutModel",
      "state": {}
     },
     "a65b55aa58804ebf813cbf0954cc42ae": {
      "model_module": "@jupyter-widgets/controls",
      "model_module_version": "1.5.0",
      "model_name": "HBoxModel",
      "state": {
       "children": [
        "IPY_MODEL_ae08ebf2ca2c445596a23bf45fdd5018",
        "IPY_MODEL_552da688b65c408cbdf4b3264e683555",
        "IPY_MODEL_d707e1445ca74e97aad2bf26abc7187a"
       ],
       "layout": "IPY_MODEL_b309c468b22a4bfd9ae4e86b8266f26c"
      }
     },
     "a69516be941847d4a0f38726b490b5d3": {
      "model_module": "@jupyter-widgets/controls",
      "model_module_version": "1.5.0",
      "model_name": "HTMLModel",
      "state": {
       "layout": "IPY_MODEL_b9c9c39886f54464b6244e7e7dcac776",
       "style": "IPY_MODEL_df54a1cb8c984bb085100c6cc6c37802",
       "value": " 6/6 [00:17&lt;00:00,  3.05s/it]"
      }
     },
     "a6e46f9148c24c228dbb409c57290c90": {
      "model_module": "@jupyter-widgets/controls",
      "model_module_version": "1.5.0",
      "model_name": "ProgressStyleModel",
      "state": {
       "description_width": ""
      }
     },
     "a746ce458c9742d58b0ae66d5b5d000e": {
      "model_module": "@jupyter-widgets/base",
      "model_module_version": "1.2.0",
      "model_name": "LayoutModel",
      "state": {}
     },
     "a837549197e64d8ea90ad3a6029c9f70": {
      "model_module": "@jupyter-widgets/controls",
      "model_module_version": "1.5.0",
      "model_name": "DescriptionStyleModel",
      "state": {
       "description_width": ""
      }
     },
     "a9afbd931fc6438681f903cd2ce314c3": {
      "model_module": "@jupyter-widgets/base",
      "model_module_version": "1.2.0",
      "model_name": "LayoutModel",
      "state": {}
     },
     "aa818f5ac3cd4f1d8bf9cf3d9f7e401f": {
      "model_module": "@jupyter-widgets/controls",
      "model_module_version": "1.5.0",
      "model_name": "HTMLModel",
      "state": {
       "layout": "IPY_MODEL_e2ac5d44ae3e44a0bb055854a6a81e95",
       "style": "IPY_MODEL_bf66c908769a486884675009e3e9a9b0",
       "value": " 67%"
      }
     },
     "aaf62c4edb1a4fb2b050ee9500894670": {
      "model_module": "@jupyter-widgets/base",
      "model_module_version": "1.2.0",
      "model_name": "LayoutModel",
      "state": {}
     },
     "acb4f782459c4c39807ca8ca235031f4": {
      "model_module": "@jupyter-widgets/controls",
      "model_module_version": "1.5.0",
      "model_name": "HTMLModel",
      "state": {
       "layout": "IPY_MODEL_8be0f56f2b3e4a27892109065eee3a71",
       "style": "IPY_MODEL_379b56e8596449ac86a4481393e8ecbd",
       "value": " 5/5 [00:57&lt;00:00, 11.35s/it]"
      }
     },
     "ad0a364dbdc146498b5bf1c6ae5ece1b": {
      "model_module": "@jupyter-widgets/controls",
      "model_module_version": "1.5.0",
      "model_name": "HTMLModel",
      "state": {
       "layout": "IPY_MODEL_a492b6c84e4f4b428a5179f500e49948",
       "style": "IPY_MODEL_b26899d287d640e8ba1996310390f80d",
       "value": " 6/6 [00:35&lt;00:00,  6.46s/it]"
      }
     },
     "ae08ebf2ca2c445596a23bf45fdd5018": {
      "model_module": "@jupyter-widgets/controls",
      "model_module_version": "1.5.0",
      "model_name": "HTMLModel",
      "state": {
       "layout": "IPY_MODEL_3cc00139353f4873a85e9fba6d04375d",
       "style": "IPY_MODEL_736d905da28f43dcbff91873940a0b60",
       "value": "100%"
      }
     },
     "b02224d7e9254ed7be629fcfab0b3dd6": {
      "model_module": "@jupyter-widgets/base",
      "model_module_version": "1.2.0",
      "model_name": "LayoutModel",
      "state": {}
     },
     "b076968c949a4963bc71afce902b1798": {
      "model_module": "@jupyter-widgets/controls",
      "model_module_version": "1.5.0",
      "model_name": "HTMLModel",
      "state": {
       "layout": "IPY_MODEL_6183ecf961d24ed38728b234888e5cbb",
       "style": "IPY_MODEL_278a1232c22b45cb9e6a6cd3f90a77d0",
       "value": "100%"
      }
     },
     "b207fe857883401dbf85c821d3087e25": {
      "model_module": "@jupyter-widgets/controls",
      "model_module_version": "1.5.0",
      "model_name": "DescriptionStyleModel",
      "state": {
       "description_width": ""
      }
     },
     "b26899d287d640e8ba1996310390f80d": {
      "model_module": "@jupyter-widgets/controls",
      "model_module_version": "1.5.0",
      "model_name": "DescriptionStyleModel",
      "state": {
       "description_width": ""
      }
     },
     "b309c468b22a4bfd9ae4e86b8266f26c": {
      "model_module": "@jupyter-widgets/base",
      "model_module_version": "1.2.0",
      "model_name": "LayoutModel",
      "state": {}
     },
     "b3fbdf46fdfb44c98979a84e3344dfa1": {
      "model_module": "@jupyter-widgets/controls",
      "model_module_version": "1.5.0",
      "model_name": "HBoxModel",
      "state": {
       "children": [
        "IPY_MODEL_4716ae47163b44088cbb308390d396dc",
        "IPY_MODEL_28238fd3c37c462c87034d246a7dd07c",
        "IPY_MODEL_d79e871227de4c77b6ca315eca0ea0e5"
       ],
       "layout": "IPY_MODEL_6f8418c90d87413a8a492ac88c39d50f"
      }
     },
     "b5e85a60cef74a5499205d9703051425": {
      "model_module": "@jupyter-widgets/controls",
      "model_module_version": "1.5.0",
      "model_name": "HBoxModel",
      "state": {
       "children": [
        "IPY_MODEL_66c5d460b9e0440db55473b040a4ab60",
        "IPY_MODEL_d2d1da4ced1b48fdbe57075282b65e33",
        "IPY_MODEL_a69516be941847d4a0f38726b490b5d3"
       ],
       "layout": "IPY_MODEL_9b0b13f71984401bb011f4faa6d061cb"
      }
     },
     "b74f2690ebc74d9db23636fc51d01ab0": {
      "model_module": "@jupyter-widgets/controls",
      "model_module_version": "1.5.0",
      "model_name": "DescriptionStyleModel",
      "state": {
       "description_width": ""
      }
     },
     "b76914501452418f8ed8ec78123430d7": {
      "model_module": "@jupyter-widgets/controls",
      "model_module_version": "1.5.0",
      "model_name": "HBoxModel",
      "state": {
       "children": [
        "IPY_MODEL_f1659dd0dff5457a8200231573fb2319",
        "IPY_MODEL_86d3ca149af14aa184f3a8e6aed32a2a",
        "IPY_MODEL_3f65055fad774280a487856114f7db6e"
       ],
       "layout": "IPY_MODEL_2b83ee4b7ac240f3abdb8750d2dcd960"
      }
     },
     "b81b8e4253b9459b82491a819ba19898": {
      "model_module": "@jupyter-widgets/controls",
      "model_module_version": "1.5.0",
      "model_name": "ProgressStyleModel",
      "state": {
       "description_width": ""
      }
     },
     "b8ae657f4ad04c1795270a11f462ab7c": {
      "model_module": "@jupyter-widgets/controls",
      "model_module_version": "1.5.0",
      "model_name": "ProgressStyleModel",
      "state": {
       "description_width": ""
      }
     },
     "b9c9c39886f54464b6244e7e7dcac776": {
      "model_module": "@jupyter-widgets/base",
      "model_module_version": "1.2.0",
      "model_name": "LayoutModel",
      "state": {}
     },
     "ba3336bd536c41ce890949a1979a4823": {
      "model_module": "@jupyter-widgets/base",
      "model_module_version": "1.2.0",
      "model_name": "LayoutModel",
      "state": {}
     },
     "bafd1d71ba7c49d385f82d38ded6cbd8": {
      "model_module": "@jupyter-widgets/controls",
      "model_module_version": "1.5.0",
      "model_name": "HTMLModel",
      "state": {
       "layout": "IPY_MODEL_67a3913e638b4ed0b29e8100b858344e",
       "style": "IPY_MODEL_eff1e4a833cf4e1a9f6fae0e45289805",
       "value": " 3/3 [00:04&lt;00:00,  1.37s/it]"
      }
     },
     "bc4035256e8a45efbb39231f42e8aedc": {
      "model_module": "@jupyter-widgets/controls",
      "model_module_version": "1.5.0",
      "model_name": "DescriptionStyleModel",
      "state": {
       "description_width": ""
      }
     },
     "bc7ec611a1a843bf99f1eecec949b083": {
      "model_module": "@jupyter-widgets/controls",
      "model_module_version": "1.5.0",
      "model_name": "DescriptionStyleModel",
      "state": {
       "description_width": ""
      }
     },
     "be38cc4e06ce49e785caa648747d04a1": {
      "model_module": "@jupyter-widgets/controls",
      "model_module_version": "1.5.0",
      "model_name": "HTMLModel",
      "state": {
       "layout": "IPY_MODEL_4d4d3c1efe4b4b9883f8477445ed4986",
       "style": "IPY_MODEL_fc2f5f2889724875af3470c772166366",
       "value": " 10/10 [00:13&lt;00:00,  1.39s/it]"
      }
     },
     "be6c083d0e994015a2003839efbf3e60": {
      "model_module": "@jupyter-widgets/controls",
      "model_module_version": "1.5.0",
      "model_name": "HTMLModel",
      "state": {
       "layout": "IPY_MODEL_374b5f30733f458ea50696020eecc4cf",
       "style": "IPY_MODEL_5a020ddf6bd9410989ad37cb6239572a",
       "value": "  0%"
      }
     },
     "bf38c7fa5712484cbcd01702cd639b61": {
      "model_module": "@jupyter-widgets/base",
      "model_module_version": "1.2.0",
      "model_name": "LayoutModel",
      "state": {}
     },
     "bf66c908769a486884675009e3e9a9b0": {
      "model_module": "@jupyter-widgets/controls",
      "model_module_version": "1.5.0",
      "model_name": "DescriptionStyleModel",
      "state": {
       "description_width": ""
      }
     },
     "bfac673181ef472b9895fce234ad918a": {
      "model_module": "@jupyter-widgets/controls",
      "model_module_version": "1.5.0",
      "model_name": "HBoxModel",
      "state": {
       "children": [
        "IPY_MODEL_5b93bd8c270c4856b6399d5cde0970ed",
        "IPY_MODEL_cdaf0a2f3f74413ea5626a5a1cbccae2",
        "IPY_MODEL_86b02be7d6b1474ebcd14ae0da7967d4"
       ],
       "layout": "IPY_MODEL_5eb14610ed0c42e3a0f30f819813576a"
      }
     },
     "c00caa7af07544c4a024d03c168c614e": {
      "model_module": "@jupyter-widgets/controls",
      "model_module_version": "1.5.0",
      "model_name": "DescriptionStyleModel",
      "state": {
       "description_width": ""
      }
     },
     "c0f48112aac14df8a52b28a5fc6353a8": {
      "model_module": "@jupyter-widgets/base",
      "model_module_version": "1.2.0",
      "model_name": "LayoutModel",
      "state": {}
     },
     "c26d78415be5403c8c173d4377118dbb": {
      "model_module": "@jupyter-widgets/base",
      "model_module_version": "1.2.0",
      "model_name": "LayoutModel",
      "state": {}
     },
     "c2b7d517f50341689323fa65b6a68534": {
      "model_module": "@jupyter-widgets/controls",
      "model_module_version": "1.5.0",
      "model_name": "FloatProgressModel",
      "state": {
       "bar_style": "success",
       "layout": "IPY_MODEL_ba3336bd536c41ce890949a1979a4823",
       "max": 300,
       "style": "IPY_MODEL_1c78a6e0d74643b5bd8d01d26cb91f12",
       "value": 300
      }
     },
     "c317dcacb0b947a99416847ecea29d54": {
      "model_module": "@jupyter-widgets/base",
      "model_module_version": "1.2.0",
      "model_name": "LayoutModel",
      "state": {}
     },
     "c47f9fc5b87945d6a0db0643bb30d5b4": {
      "model_module": "@jupyter-widgets/controls",
      "model_module_version": "1.5.0",
      "model_name": "DescriptionStyleModel",
      "state": {
       "description_width": ""
      }
     },
     "c4896ff45cdb425fbb5f3881124c467b": {
      "model_module": "@jupyter-widgets/base",
      "model_module_version": "1.2.0",
      "model_name": "LayoutModel",
      "state": {}
     },
     "c6a08d6ce4d543b1a533af62bb8a6e26": {
      "model_module": "@jupyter-widgets/controls",
      "model_module_version": "1.5.0",
      "model_name": "FloatProgressModel",
      "state": {
       "bar_style": "danger",
       "layout": "IPY_MODEL_075990cb40794ab68b887381a3044884",
       "max": 1000,
       "style": "IPY_MODEL_100f037e88a943cfb97b82d7f6352c27",
       "value": 518
      }
     },
     "c6d89543e29c457698f591a4882b789b": {
      "model_module": "@jupyter-widgets/controls",
      "model_module_version": "1.5.0",
      "model_name": "DescriptionStyleModel",
      "state": {
       "description_width": ""
      }
     },
     "c6f906261d454677a2c87d919ba86f5f": {
      "model_module": "@jupyter-widgets/base",
      "model_module_version": "1.2.0",
      "model_name": "LayoutModel",
      "state": {}
     },
     "c83ed30986854ebc88e0a2771981e68a": {
      "model_module": "@jupyter-widgets/controls",
      "model_module_version": "1.5.0",
      "model_name": "HTMLModel",
      "state": {
       "layout": "IPY_MODEL_f4a23e3c4c1d43749d8a10a9363f97ed",
       "style": "IPY_MODEL_64d968f8edea40289acea13dce51ea76",
       "value": "100%"
      }
     },
     "c91643f8e92e42de92ace697d6006c64": {
      "model_module": "@jupyter-widgets/controls",
      "model_module_version": "1.5.0",
      "model_name": "ProgressStyleModel",
      "state": {
       "description_width": ""
      }
     },
     "c99bcc3b188446339d6df0fadea140c7": {
      "model_module": "@jupyter-widgets/controls",
      "model_module_version": "1.5.0",
      "model_name": "HBoxModel",
      "state": {
       "children": [
        "IPY_MODEL_83158cbe52dd42b6accdd18059bb1eeb",
        "IPY_MODEL_c6a08d6ce4d543b1a533af62bb8a6e26",
        "IPY_MODEL_19771242dee3426db16d139fe9f862d8"
       ],
       "layout": "IPY_MODEL_f595949561f74a088e8888add58a58d1"
      }
     },
     "caa275c9edd64e389512ec61bbab0e6e": {
      "model_module": "@jupyter-widgets/controls",
      "model_module_version": "1.5.0",
      "model_name": "DescriptionStyleModel",
      "state": {
       "description_width": ""
      }
     },
     "cc2e12c7f86140be87bb34329e41ef04": {
      "model_module": "@jupyter-widgets/controls",
      "model_module_version": "1.5.0",
      "model_name": "HTMLModel",
      "state": {
       "layout": "IPY_MODEL_a414a0c2a63a43d0884ecceb0084fde1",
       "style": "IPY_MODEL_32c37a6ff1c644d0840045a4f719c7c0",
       "value": "100%"
      }
     },
     "cc6e63715de049f19cc1f488223ad063": {
      "model_module": "@jupyter-widgets/controls",
      "model_module_version": "1.5.0",
      "model_name": "HBoxModel",
      "state": {
       "children": [
        "IPY_MODEL_d1972f20a320449e949bb505a7cfce91",
        "IPY_MODEL_99928d0c7fb04989963a2a928daac8e1",
        "IPY_MODEL_522826aab9be402e9175d3cc56751a28"
       ],
       "layout": "IPY_MODEL_f8815df0ba014c61bf3b8767ddd9758f"
      }
     },
     "cd3990c72c5a432eadd6f9ce11038226": {
      "model_module": "@jupyter-widgets/controls",
      "model_module_version": "1.5.0",
      "model_name": "HBoxModel",
      "state": {
       "children": [
        "IPY_MODEL_5fcf75e57d8948f6b6d5e402516b83ca",
        "IPY_MODEL_0b4fadcaf7df4500b3c20aaad6a77304",
        "IPY_MODEL_be38cc4e06ce49e785caa648747d04a1"
       ],
       "layout": "IPY_MODEL_52d0ee6ec41c41dbb8af88bb03230499"
      }
     },
     "cdaf0a2f3f74413ea5626a5a1cbccae2": {
      "model_module": "@jupyter-widgets/controls",
      "model_module_version": "1.5.0",
      "model_name": "FloatProgressModel",
      "state": {
       "bar_style": "success",
       "layout": "IPY_MODEL_b02224d7e9254ed7be629fcfab0b3dd6",
       "max": 4,
       "style": "IPY_MODEL_946ee62e1710428dabff27db73e3f514",
       "value": 4
      }
     },
     "cf62aa4832554a439cd41a015acbbcbd": {
      "model_module": "@jupyter-widgets/controls",
      "model_module_version": "1.5.0",
      "model_name": "HTMLModel",
      "state": {
       "layout": "IPY_MODEL_5dc2345b87f04288a7d266c5dd231713",
       "style": "IPY_MODEL_fc580fa885584c3b9a4ff8a40da5fcfd",
       "value": "100%"
      }
     },
     "d049b822b49d4dc18fb272838f7458c4": {
      "model_module": "@jupyter-widgets/controls",
      "model_module_version": "1.5.0",
      "model_name": "HBoxModel",
      "state": {
       "children": [
        "IPY_MODEL_c83ed30986854ebc88e0a2771981e68a",
        "IPY_MODEL_13a98fd72a6c4a46be6095c38943852a",
        "IPY_MODEL_37076948ab534b9e9f3b9c0526b27af4"
       ],
       "layout": "IPY_MODEL_c4896ff45cdb425fbb5f3881124c467b"
      }
     },
     "d126f104f512433782a30ac40182bc07": {
      "model_module": "@jupyter-widgets/controls",
      "model_module_version": "1.5.0",
      "model_name": "ProgressStyleModel",
      "state": {
       "description_width": ""
      }
     },
     "d1972f20a320449e949bb505a7cfce91": {
      "model_module": "@jupyter-widgets/controls",
      "model_module_version": "1.5.0",
      "model_name": "HTMLModel",
      "state": {
       "layout": "IPY_MODEL_a9afbd931fc6438681f903cd2ce314c3",
       "style": "IPY_MODEL_da9814cc9e484d25a292332a7b07a9f5",
       "value": "100%"
      }
     },
     "d21e325f12a1451c973e791f7695f2e9": {
      "model_module": "@jupyter-widgets/controls",
      "model_module_version": "1.5.0",
      "model_name": "FloatProgressModel",
      "state": {
       "bar_style": "success",
       "layout": "IPY_MODEL_8e0e7b6ecbc3416d93bd8c65450476df",
       "max": 5,
       "style": "IPY_MODEL_a6e46f9148c24c228dbb409c57290c90",
       "value": 5
      }
     },
     "d2d1da4ced1b48fdbe57075282b65e33": {
      "model_module": "@jupyter-widgets/controls",
      "model_module_version": "1.5.0",
      "model_name": "FloatProgressModel",
      "state": {
       "bar_style": "success",
       "layout": "IPY_MODEL_fcd1ba0506e74190b6ad41e6a18c2867",
       "max": 6,
       "style": "IPY_MODEL_8831033d7eec4a14a1cb89abe2a0020d",
       "value": 6
      }
     },
     "d3c0fc15278e4ce59742e6675cc44d2a": {
      "model_module": "@jupyter-widgets/controls",
      "model_module_version": "1.5.0",
      "model_name": "DescriptionStyleModel",
      "state": {
       "description_width": ""
      }
     },
     "d419b14dd2c148b5b3d36b4cc05d5d3b": {
      "model_module": "@jupyter-widgets/controls",
      "model_module_version": "1.5.0",
      "model_name": "FloatProgressModel",
      "state": {
       "bar_style": "danger",
       "layout": "IPY_MODEL_0e954cf364f341fea8fe7f9170e7d266",
       "max": 5,
       "style": "IPY_MODEL_3711a496333c46569fbcdf2c2320b9cb"
      }
     },
     "d489434633ec4fa99fc61dd5d6532049": {
      "model_module": "@jupyter-widgets/base",
      "model_module_version": "1.2.0",
      "model_name": "LayoutModel",
      "state": {}
     },
     "d51e84d70fe44bdcb07eee609e273834": {
      "model_module": "@jupyter-widgets/base",
      "model_module_version": "1.2.0",
      "model_name": "LayoutModel",
      "state": {}
     },
     "d707e1445ca74e97aad2bf26abc7187a": {
      "model_module": "@jupyter-widgets/controls",
      "model_module_version": "1.5.0",
      "model_name": "HTMLModel",
      "state": {
       "layout": "IPY_MODEL_16b61f107efb4878b0e03289bfa48502",
       "style": "IPY_MODEL_f2ad2ab5f5fc4aa8a7766e55eb6db5df",
       "value": " 10/10 [00:15&lt;00:00,  1.52s/it]"
      }
     },
     "d76e3854e27640a2a8e6e7a3733b71ff": {
      "model_module": "@jupyter-widgets/base",
      "model_module_version": "1.2.0",
      "model_name": "LayoutModel",
      "state": {}
     },
     "d79e871227de4c77b6ca315eca0ea0e5": {
      "model_module": "@jupyter-widgets/controls",
      "model_module_version": "1.5.0",
      "model_name": "HTMLModel",
      "state": {
       "layout": "IPY_MODEL_f069a746d54e4cc4a7ea83280e6f2bd3",
       "style": "IPY_MODEL_caa275c9edd64e389512ec61bbab0e6e",
       "value": " 3/3 [00:04&lt;00:00,  1.34s/it]"
      }
     },
     "d7c05d8eb77649fa95165ad6f95c32c0": {
      "model_module": "@jupyter-widgets/controls",
      "model_module_version": "1.5.0",
      "model_name": "HTMLModel",
      "state": {
       "layout": "IPY_MODEL_d7ed151fe9e543848bcf60812472d53b",
       "style": "IPY_MODEL_1d9e016164c047e785ffd081d44f1120",
       "value": "100%"
      }
     },
     "d7ed151fe9e543848bcf60812472d53b": {
      "model_module": "@jupyter-widgets/base",
      "model_module_version": "1.2.0",
      "model_name": "LayoutModel",
      "state": {}
     },
     "d8ffa63acdb149f49289d0deb8817d76": {
      "model_module": "@jupyter-widgets/base",
      "model_module_version": "1.2.0",
      "model_name": "LayoutModel",
      "state": {}
     },
     "da34f4e26fa34ae78eba08bdb8576bc0": {
      "model_module": "@jupyter-widgets/controls",
      "model_module_version": "1.5.0",
      "model_name": "ProgressStyleModel",
      "state": {
       "description_width": ""
      }
     },
     "da57fac38d224147bf5bfc38d33d860b": {
      "model_module": "@jupyter-widgets/base",
      "model_module_version": "1.2.0",
      "model_name": "LayoutModel",
      "state": {}
     },
     "da9814cc9e484d25a292332a7b07a9f5": {
      "model_module": "@jupyter-widgets/controls",
      "model_module_version": "1.5.0",
      "model_name": "DescriptionStyleModel",
      "state": {
       "description_width": ""
      }
     },
     "daccab33d4474079b431402eb28aa967": {
      "model_module": "@jupyter-widgets/controls",
      "model_module_version": "1.5.0",
      "model_name": "FloatProgressModel",
      "state": {
       "bar_style": "success",
       "layout": "IPY_MODEL_3e7b821d98824ad2883492efdda89f25",
       "max": 399,
       "style": "IPY_MODEL_216e5ad775de4eaf98ad0c4d28e3d147",
       "value": 399
      }
     },
     "db13b708e0c144e4ad906cab4c92c3cc": {
      "model_module": "@jupyter-widgets/base",
      "model_module_version": "1.2.0",
      "model_name": "LayoutModel",
      "state": {}
     },
     "de5512d1baa444349665dedfdc95b941": {
      "model_module": "@jupyter-widgets/controls",
      "model_module_version": "1.5.0",
      "model_name": "HTMLModel",
      "state": {
       "layout": "IPY_MODEL_f9a6c2d5afaf4ca2a45fa6e1df0292b0",
       "style": "IPY_MODEL_9e2c6cb54c774e029667bfe0cad56e8e",
       "value": " 5/5 [01:19&lt;00:00, 16.94s/it]"
      }
     },
     "df54a1cb8c984bb085100c6cc6c37802": {
      "model_module": "@jupyter-widgets/controls",
      "model_module_version": "1.5.0",
      "model_name": "DescriptionStyleModel",
      "state": {
       "description_width": ""
      }
     },
     "dfaadc758bc64023b97e72188ec686b7": {
      "model_module": "@jupyter-widgets/controls",
      "model_module_version": "1.5.0",
      "model_name": "HTMLModel",
      "state": {
       "layout": "IPY_MODEL_14655e5bef7243c2a25170f2e31ae804",
       "style": "IPY_MODEL_05349020101948488db2a8449b55212c",
       "value": "100%"
      }
     },
     "e1b3ad2307b444aea2c5c115fa364133": {
      "model_module": "@jupyter-widgets/controls",
      "model_module_version": "1.5.0",
      "model_name": "HBoxModel",
      "state": {
       "children": [
        "IPY_MODEL_91381bd64c0b4be0ae164dda4f028e7f",
        "IPY_MODEL_72480180f6e542c9bbb06bc213c76b24",
        "IPY_MODEL_4d712a48df3a4d61946d87b81d9d2482"
       ],
       "layout": "IPY_MODEL_e93e54f98a214f11b85782ef29defd69"
      }
     },
     "e2ac5d44ae3e44a0bb055854a6a81e95": {
      "model_module": "@jupyter-widgets/base",
      "model_module_version": "1.2.0",
      "model_name": "LayoutModel",
      "state": {}
     },
     "e2c957b83610439ab9af60a5d59735f3": {
      "model_module": "@jupyter-widgets/controls",
      "model_module_version": "1.5.0",
      "model_name": "ProgressStyleModel",
      "state": {
       "description_width": ""
      }
     },
     "e32964c9565446dda43d2d3309fd494a": {
      "model_module": "@jupyter-widgets/base",
      "model_module_version": "1.2.0",
      "model_name": "LayoutModel",
      "state": {}
     },
     "e33ae3de9d06495cbb68bc3887aaaa06": {
      "model_module": "@jupyter-widgets/controls",
      "model_module_version": "1.5.0",
      "model_name": "DescriptionStyleModel",
      "state": {
       "description_width": ""
      }
     },
     "e3aff9d8911d4c2aa837887f36e44ebb": {
      "model_module": "@jupyter-widgets/controls",
      "model_module_version": "1.5.0",
      "model_name": "ProgressStyleModel",
      "state": {
       "description_width": ""
      }
     },
     "e4046505e90e49bfbbcbd8e795c5c295": {
      "model_module": "@jupyter-widgets/base",
      "model_module_version": "1.2.0",
      "model_name": "LayoutModel",
      "state": {}
     },
     "e4c21454551d4cfbb75d509f134517d7": {
      "model_module": "@jupyter-widgets/controls",
      "model_module_version": "1.5.0",
      "model_name": "HTMLModel",
      "state": {
       "layout": "IPY_MODEL_825bfc80e9bd41b9b31683fb282e7b6a",
       "style": "IPY_MODEL_bc7ec611a1a843bf99f1eecec949b083",
       "value": " 399/399 [06:23&lt;00:00,  1.03it/s]"
      }
     },
     "e4d2689568684eefb25a09db811724c6": {
      "model_module": "@jupyter-widgets/base",
      "model_module_version": "1.2.0",
      "model_name": "LayoutModel",
      "state": {}
     },
     "e5664a7b9d10495dafe21f2e73d79268": {
      "model_module": "@jupyter-widgets/base",
      "model_module_version": "1.2.0",
      "model_name": "LayoutModel",
      "state": {}
     },
     "e5732654a40c479ebcf7c54f19762ffa": {
      "model_module": "@jupyter-widgets/base",
      "model_module_version": "1.2.0",
      "model_name": "LayoutModel",
      "state": {}
     },
     "e67c095fbf424ef3a2368cb28cedf2f9": {
      "model_module": "@jupyter-widgets/base",
      "model_module_version": "1.2.0",
      "model_name": "LayoutModel",
      "state": {}
     },
     "e850cfaf0b8746259d2980fcb84dd08e": {
      "model_module": "@jupyter-widgets/base",
      "model_module_version": "1.2.0",
      "model_name": "LayoutModel",
      "state": {}
     },
     "e93e54f98a214f11b85782ef29defd69": {
      "model_module": "@jupyter-widgets/base",
      "model_module_version": "1.2.0",
      "model_name": "LayoutModel",
      "state": {}
     },
     "ea15eaa253bc4f5abea68db11c44f1a8": {
      "model_module": "@jupyter-widgets/controls",
      "model_module_version": "1.5.0",
      "model_name": "ProgressStyleModel",
      "state": {
       "description_width": ""
      }
     },
     "ec9bbe8d90c74ba28b681101c63c11dc": {
      "model_module": "@jupyter-widgets/controls",
      "model_module_version": "1.5.0",
      "model_name": "HBoxModel",
      "state": {
       "children": [
        "IPY_MODEL_19e2229756ae468e9afe6bcd76f063e9",
        "IPY_MODEL_07b85a8174c742ad8741d540e410b3ab",
        "IPY_MODEL_41c6cdb8bc4741acb3814dcbcbb7c584"
       ],
       "layout": "IPY_MODEL_d51e84d70fe44bdcb07eee609e273834"
      }
     },
     "eec917d03bb14313ae2fffb8bd00ff45": {
      "model_module": "@jupyter-widgets/controls",
      "model_module_version": "1.5.0",
      "model_name": "HTMLModel",
      "state": {
       "layout": "IPY_MODEL_2b241cc1124d4a338dc106b6b5fbc5a5",
       "style": "IPY_MODEL_488015d18a3b4586809966c7d61b59b9",
       "value": "100%"
      }
     },
     "ef8cba280a98415fab0c52876c5b0cef": {
      "model_module": "@jupyter-widgets/base",
      "model_module_version": "1.2.0",
      "model_name": "LayoutModel",
      "state": {}
     },
     "efe3475599cb4b40a1fc08349f23a000": {
      "model_module": "@jupyter-widgets/base",
      "model_module_version": "1.2.0",
      "model_name": "LayoutModel",
      "state": {}
     },
     "eff1e4a833cf4e1a9f6fae0e45289805": {
      "model_module": "@jupyter-widgets/controls",
      "model_module_version": "1.5.0",
      "model_name": "DescriptionStyleModel",
      "state": {
       "description_width": ""
      }
     },
     "f069a746d54e4cc4a7ea83280e6f2bd3": {
      "model_module": "@jupyter-widgets/base",
      "model_module_version": "1.2.0",
      "model_name": "LayoutModel",
      "state": {}
     },
     "f13e529daa7547edab520cb66c99eea0": {
      "model_module": "@jupyter-widgets/base",
      "model_module_version": "1.2.0",
      "model_name": "LayoutModel",
      "state": {}
     },
     "f1659dd0dff5457a8200231573fb2319": {
      "model_module": "@jupyter-widgets/controls",
      "model_module_version": "1.5.0",
      "model_name": "HTMLModel",
      "state": {
       "layout": "IPY_MODEL_c317dcacb0b947a99416847ecea29d54",
       "style": "IPY_MODEL_9ede373a7e1740ea9ecbf5a7a6184b44",
       "value": "100%"
      }
     },
     "f2ad2ab5f5fc4aa8a7766e55eb6db5df": {
      "model_module": "@jupyter-widgets/controls",
      "model_module_version": "1.5.0",
      "model_name": "DescriptionStyleModel",
      "state": {
       "description_width": ""
      }
     },
     "f3e6ff9dfeef4a9aab346cb42fd5fd93": {
      "model_module": "@jupyter-widgets/controls",
      "model_module_version": "1.5.0",
      "model_name": "ProgressStyleModel",
      "state": {
       "description_width": ""
      }
     },
     "f45e9e4c3dfb47ebab29d9aefe0044dd": {
      "model_module": "@jupyter-widgets/controls",
      "model_module_version": "1.5.0",
      "model_name": "HTMLModel",
      "state": {
       "layout": "IPY_MODEL_8d9e8f5c8c714054b2d4495a034b82a3",
       "style": "IPY_MODEL_f91ed2f788964f12a08b95caba318bd4",
       "value": "100%"
      }
     },
     "f4a23e3c4c1d43749d8a10a9363f97ed": {
      "model_module": "@jupyter-widgets/base",
      "model_module_version": "1.2.0",
      "model_name": "LayoutModel",
      "state": {}
     },
     "f4e0b391ecc8486386dd0896f3ae8c33": {
      "model_module": "@jupyter-widgets/controls",
      "model_module_version": "1.5.0",
      "model_name": "HBoxModel",
      "state": {
       "children": [
        "IPY_MODEL_825e6066de194713bc1ca646ad214f01",
        "IPY_MODEL_c2b7d517f50341689323fa65b6a68534",
        "IPY_MODEL_1e7409ee47ff42638fedf71922c94353"
       ],
       "layout": "IPY_MODEL_292ae6bf0b014ab78915f02ad1c0f7b5"
      }
     },
     "f57b54c1a14f491d988de6333128796e": {
      "model_module": "@jupyter-widgets/base",
      "model_module_version": "1.2.0",
      "model_name": "LayoutModel",
      "state": {}
     },
     "f595949561f74a088e8888add58a58d1": {
      "model_module": "@jupyter-widgets/base",
      "model_module_version": "1.2.0",
      "model_name": "LayoutModel",
      "state": {}
     },
     "f5bce01b6cc54f2387e467d6ed7bdeff": {
      "model_module": "@jupyter-widgets/controls",
      "model_module_version": "1.5.0",
      "model_name": "HBoxModel",
      "state": {
       "children": [
        "IPY_MODEL_5cd4a58b934d4108acf07e88755c828a",
        "IPY_MODEL_2a097f24278047df96cc5b2f3bc31b24",
        "IPY_MODEL_ad0a364dbdc146498b5bf1c6ae5ece1b"
       ],
       "layout": "IPY_MODEL_2bd3704f12764ac49db0ffb0025bf623"
      }
     },
     "f5fc7b9955f7464a86d2a1c62971ce9a": {
      "model_module": "@jupyter-widgets/base",
      "model_module_version": "1.2.0",
      "model_name": "LayoutModel",
      "state": {}
     },
     "f830f79c31f24148b69090aadc84c857": {
      "model_module": "@jupyter-widgets/controls",
      "model_module_version": "1.5.0",
      "model_name": "FloatProgressModel",
      "state": {
       "bar_style": "success",
       "layout": "IPY_MODEL_e5732654a40c479ebcf7c54f19762ffa",
       "max": 4,
       "style": "IPY_MODEL_e3aff9d8911d4c2aa837887f36e44ebb",
       "value": 4
      }
     },
     "f8815df0ba014c61bf3b8767ddd9758f": {
      "model_module": "@jupyter-widgets/base",
      "model_module_version": "1.2.0",
      "model_name": "LayoutModel",
      "state": {}
     },
     "f91ed2f788964f12a08b95caba318bd4": {
      "model_module": "@jupyter-widgets/controls",
      "model_module_version": "1.5.0",
      "model_name": "DescriptionStyleModel",
      "state": {
       "description_width": ""
      }
     },
     "f9a6c2d5afaf4ca2a45fa6e1df0292b0": {
      "model_module": "@jupyter-widgets/base",
      "model_module_version": "1.2.0",
      "model_name": "LayoutModel",
      "state": {}
     },
     "f9fdb83e0c3b422cb9c595afb5d2c8cf": {
      "model_module": "@jupyter-widgets/base",
      "model_module_version": "1.2.0",
      "model_name": "LayoutModel",
      "state": {}
     },
     "faaad911356e49fcbfc3df074d45b8b6": {
      "model_module": "@jupyter-widgets/controls",
      "model_module_version": "1.5.0",
      "model_name": "FloatProgressModel",
      "state": {
       "bar_style": "success",
       "layout": "IPY_MODEL_87f3180967a2492c99412c8b6019fb4c",
       "max": 3,
       "style": "IPY_MODEL_8b217b1cbcaf42f6bfc3fabb675599ea",
       "value": 3
      }
     },
     "fc2f5f2889724875af3470c772166366": {
      "model_module": "@jupyter-widgets/controls",
      "model_module_version": "1.5.0",
      "model_name": "DescriptionStyleModel",
      "state": {
       "description_width": ""
      }
     },
     "fc580fa885584c3b9a4ff8a40da5fcfd": {
      "model_module": "@jupyter-widgets/controls",
      "model_module_version": "1.5.0",
      "model_name": "DescriptionStyleModel",
      "state": {
       "description_width": ""
      }
     },
     "fc5d52d3c32c4c1bab1f07d4d1967d92": {
      "model_module": "@jupyter-widgets/controls",
      "model_module_version": "1.5.0",
      "model_name": "HBoxModel",
      "state": {
       "children": [
        "IPY_MODEL_925c2f38708c4213b19e078ec3b61802",
        "IPY_MODEL_3361df15a8044ee499c75f8fff75f381",
        "IPY_MODEL_acb4f782459c4c39807ca8ca235031f4"
       ],
       "layout": "IPY_MODEL_a017a298426f4e26b82f547c003ef609"
      }
     },
     "fcd1ba0506e74190b6ad41e6a18c2867": {
      "model_module": "@jupyter-widgets/base",
      "model_module_version": "1.2.0",
      "model_name": "LayoutModel",
      "state": {}
     },
     "fd1dcd84d294428e903fcc29a013b9f4": {
      "model_module": "@jupyter-widgets/controls",
      "model_module_version": "1.5.0",
      "model_name": "DescriptionStyleModel",
      "state": {
       "description_width": ""
      }
     },
     "fd5b156848b147698f042c34f2e5ae51": {
      "model_module": "@jupyter-widgets/controls",
      "model_module_version": "1.5.0",
      "model_name": "HBoxModel",
      "state": {
       "children": [
        "IPY_MODEL_53f01d1442a842bf9bd844da65738109",
        "IPY_MODEL_daccab33d4474079b431402eb28aa967",
        "IPY_MODEL_e4c21454551d4cfbb75d509f134517d7"
       ],
       "layout": "IPY_MODEL_03c12623e7954d85a5d6ca805ff3fd16"
      }
     }
    },
    "version_major": 2,
    "version_minor": 0
   }
  }
 },
 "nbformat": 4,
 "nbformat_minor": 5
}
