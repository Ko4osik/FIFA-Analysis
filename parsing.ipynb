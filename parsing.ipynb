{
 "cells": [
  {
   "cell_type": "markdown",
   "id": "392aa9da",
   "metadata": {
    "id": "392aa9da"
   },
   "source": [
    "# Парсинг данных"
   ]
  },
  {
   "cell_type": "code",
   "execution_count": 34,
   "id": "9fa549c8",
   "metadata": {
    "id": "9fa549c8"
   },
   "outputs": [],
   "source": [
    "import requests\n",
    "from bs4 import BeautifulSoup\n",
    "import pandas as pd\n",
    "import numpy as np\n",
    "import re\n",
    "import time\n",
    "import random\n",
    "from tqdm import tqdm\n",
    "from tqdm.notebook import trange, tqdm"
   ]
  },
  {
   "cell_type": "code",
   "execution_count": 35,
   "id": "ad1e5c96",
   "metadata": {},
   "outputs": [],
   "source": [
    "# Some links are broken\n",
    "def remove_broken_urls(arr):\n",
    "    pattern = re.compile(r'^https://www.futwiz.com/en/fifa23/player//.*$')\n",
    "    mask = np.vectorize(lambda x: bool(pattern.match(x)))\n",
    "    return arr[~mask(arr)]"
   ]
  },
  {
   "cell_type": "code",
   "execution_count": 36,
   "id": "ce28832f",
   "metadata": {},
   "outputs": [],
   "source": [
    "# Parsing all info about the card\n",
    "failed_hrefs = []\n",
    "def parsing_card_info(hrefs):\n",
    "    global failed_hrefs\n",
    "    players = []\n",
    "    for href in tqdm(hrefs):\n",
    "        res = requests.get(href)\n",
    "        tree = BeautifulSoup(res.content, 'html.parser')\n",
    "        if tree.find('div', {'class': 'pname-h1'}) == None: # Sometimes it breaks, so we will remember the failed links\n",
    "            failed_hrefs.append(href)\n",
    "            continue\n",
    "        pars = [item.div.text.strip() for item in tree.find_all('div', {'class': 'player-info-stat'})]\n",
    "        rats = [item.text.strip() for item in tree.find_all('div', {'class': 'headline-stat-num'})]\n",
    "        name = tree.find('div', {'class': 'pname-h1'}).find('h1').text.split()\n",
    "        price = int(''.join(tree.find('div', {'class': 'price-num'}).text.split(',')))\n",
    "        cln = tree.find('div', {'class': 'pname-club'}).find_all('a')\n",
    "        general_rat = int(tree.find('div', {'class': 'card-23-rating'}).text.strip())\n",
    "        full_stats_labels = [item.text for item in tree.find_all('div', {'class' : 'individual-stat-bar-label'})]\n",
    "        full_stats = {} \n",
    "\n",
    "        # Skip goalkeepers (they have different stats)\n",
    "        if pars[8] == 'GK':\n",
    "            continue\n",
    "\n",
    "        for i, stat in enumerate(full_stats_labels):\n",
    "            if stat == 'Long Shots':\n",
    "                stat = 'longshot'\n",
    "            if stat == 'Interceptions':\n",
    "                stat = 'tactaware'\n",
    "            if stat == 'Def. Awareness':\n",
    "                stat = 'marking'\n",
    "            if stat == 'Stand Tackle':\n",
    "                stat = 'standingtackle'\n",
    "\n",
    "            stat = stat.lower().replace(\" \", \"\") + 'stat'\n",
    "            stat = re.sub(r'[^\\w\\s]', '', stat)\n",
    "\n",
    "            stat_label = full_stats_labels[i]\n",
    "            stat_rate = tree.find_all('div', {'class' : f'individual-stat-bar-stat textcolour {stat}'})[0].text\n",
    "\n",
    "            full_stats[stat_label] = stat_rate\n",
    "\n",
    "        stats = {\n",
    "            'Name': ' '.join(name[:name.index('FIFA')]),\n",
    "            'Card Type': ' '.join(name[name.index('23')+1:]),\n",
    "            'Nation': cln[0].text.strip(),\n",
    "            'Club': cln[1].text.strip(),\n",
    "            'League': cln[-1].text.strip(),\n",
    "            'Skills': pars[0],\n",
    "            'W/F': pars[1],\n",
    "            'W/R': pars[2],\n",
    "            'Foot': pars[3],\n",
    "            'Age': pars[4],\n",
    "            'Height': pars[5],\n",
    "            'Weight': pars[6],\n",
    "            'Body Type': pars[7],\n",
    "            'Position': pars[8],\n",
    "            'Alt. Position': pars[9],\n",
    "            'Rating': general_rat,\n",
    "            'PAC': rats[0],\n",
    "            'SHO': rats[1],\n",
    "            'PAS': rats[2],\n",
    "            'DRI': rats[3],\n",
    "            'DEF': rats[4],\n",
    "            'PHY': rats[5],\n",
    "            'Price': price}\n",
    "        stats.update(full_stats)\n",
    "        players.append(stats)\n",
    "    return players"
   ]
  },
  {
   "cell_type": "code",
   "execution_count": 43,
   "id": "3f68a3dc",
   "metadata": {},
   "outputs": [
    {
     "data": {
      "application/vnd.jupyter.widget-view+json": {
       "model_id": "863f4b4f2c844e3889e0a4a4cf39eccf",
       "version_major": 2,
       "version_minor": 0
      },
      "text/plain": [
       "  0%|          | 0/5 [00:00<?, ?it/s]"
      ]
     },
     "metadata": {},
     "output_type": "display_data"
    },
    {
     "data": {
      "application/vnd.jupyter.widget-view+json": {
       "model_id": "44543c8513bc485481377cb2f0bfce75",
       "version_major": 2,
       "version_minor": 0
      },
      "text/plain": [
       "  0%|          | 0/1000 [00:00<?, ?it/s]"
      ]
     },
     "metadata": {},
     "output_type": "display_data"
    }
   ],
   "source": [
    "# Get top five league hrefs\n",
    "top_five_league_hrefs = []\n",
    "for league in tqdm([13, 16, 31, 19, 53]):\n",
    "    league_hrefs = []\n",
    "    for page in range(8):\n",
    "        url = f'https://www.futwiz.com/en/fifa23/players?page={page}&leagues[]={league}'\n",
    "        res = requests.get(url)\n",
    "        tree = BeautifulSoup(res.content, 'html.parser')\n",
    "        my_list = tree.find_all('div', {'class': \"col-2\"})[1:-2]\n",
    "        hrefs = [f'https://www.futwiz.com{item.a.get(\"href\")}' for item in my_list]\n",
    "        league_hrefs += hrefs\n",
    "    top_five_league_hrefs += league_hrefs\n",
    "top_five_league_players = parsing_card_info(remove_broken_urls(np.array(top_five_league_hrefs)))"
   ]
  },
  {
   "cell_type": "code",
   "execution_count": 37,
   "id": "0d03945d",
   "metadata": {},
   "outputs": [
    {
     "data": {
      "application/vnd.jupyter.widget-view+json": {
       "model_id": "e1b3ad2307b444aea2c5c115fa364133",
       "version_major": 2,
       "version_minor": 0
      },
      "text/plain": [
       "  0%|          | 0/6 [00:00<?, ?it/s]"
      ]
     },
     "metadata": {},
     "output_type": "display_data"
    },
    {
     "data": {
      "application/vnd.jupyter.widget-view+json": {
       "model_id": "f4e0b391ecc8486386dd0896f3ae8c33",
       "version_major": 2,
       "version_minor": 0
      },
      "text/plain": [
       "  0%|          | 0/300 [00:00<?, ?it/s]"
      ]
     },
     "metadata": {},
     "output_type": "display_data"
    }
   ],
   "source": [
    "# Get \"bitch\" league hrefs\n",
    "bitch_league_hrefs = []\n",
    "for league in tqdm([10, 14, 308, 39, 68, 1003]):\n",
    "    league_hrefs = []\n",
    "    for page in range(2):\n",
    "        url = f'https://www.futwiz.com/en/fifa23/players?page={page}&leagues[]={league}'\n",
    "        res = requests.get(url)\n",
    "        tree = BeautifulSoup(res.content, 'html.parser')\n",
    "        my_list = tree.find_all('div', {'class': \"col-2\"})[1:-2]\n",
    "        hrefs = [f'https://www.futwiz.com{item.a.get(\"href\")}' for item in my_list]\n",
    "        league_hrefs += hrefs\n",
    "    bitch_league_hrefs += league_hrefs\n",
    "bitch_league_players = parsing_card_info(remove_broken_urls(np.array(bitch_league_hrefs)))"
   ]
  },
  {
   "cell_type": "code",
   "execution_count": 38,
   "id": "4101a106",
   "metadata": {},
   "outputs": [
    {
     "data": {
      "application/vnd.jupyter.widget-view+json": {
       "model_id": "a65b55aa58804ebf813cbf0954cc42ae",
       "version_major": 2,
       "version_minor": 0
      },
      "text/plain": [
       "  0%|          | 0/10 [00:00<?, ?it/s]"
      ]
     },
     "metadata": {},
     "output_type": "display_data"
    },
    {
     "data": {
      "application/vnd.jupyter.widget-view+json": {
       "model_id": "764dd34d01be460bb249ee4fe5806780",
       "version_major": 2,
       "version_minor": 0
      },
      "text/plain": [
       "  0%|          | 0/250 [00:00<?, ?it/s]"
      ]
     },
     "metadata": {},
     "output_type": "display_data"
    }
   ],
   "source": [
    "# Get icons hrefs\n",
    "icons_hrefs = []\n",
    "for page in trange(10):\n",
    "    url = f'https://www.futwiz.com/en/fifa23/players?page={page}&leagues[]=2118'\n",
    "    res = requests.get(url)\n",
    "    tree = BeautifulSoup(res.content, 'html.parser')\n",
    "    my_list = tree.find_all('div', {'class': \"col-2\"})[1:-2]\n",
    "    hrefs = [f'https://www.futwiz.com{item.a.get(\"href\")}' for item in my_list]\n",
    "    icons_hrefs += hrefs\n",
    "icons_players = parsing_card_info(remove_broken_urls(np.array(icons_hrefs)))"
   ]
  },
  {
   "cell_type": "code",
   "execution_count": 39,
   "id": "48903908",
   "metadata": {
    "colab": {
     "base_uri": "https://localhost:8080/",
     "height": 395
    },
    "id": "48903908",
    "outputId": "b48f2361-43b0-431a-d8de-96cc51928969"
   },
   "outputs": [
    {
     "data": {
      "application/vnd.jupyter.widget-view+json": {
       "model_id": "bfac673181ef472b9895fce234ad918a",
       "version_major": 2,
       "version_minor": 0
      },
      "text/plain": [
       "  0%|          | 0/4 [00:00<?, ?it/s]"
      ]
     },
     "metadata": {},
     "output_type": "display_data"
    },
    {
     "data": {
      "application/vnd.jupyter.widget-view+json": {
       "model_id": "fd5b156848b147698f042c34f2e5ae51",
       "version_major": 2,
       "version_minor": 0
      },
      "text/plain": [
       "  0%|          | 0/399 [00:00<?, ?it/s]"
      ]
     },
     "metadata": {},
     "output_type": "display_data"
    }
   ],
   "source": [
    "#Get base cards hrefs\n",
    "base_cards_hrefs = []\n",
    "for type_of_card in tqdm(['raregold', 'commongold', 'nifsilver', 'nifbronze']):\n",
    "    type_hrefs = []\n",
    "    for page in range(4):\n",
    "        url = f'https://www.futwiz.com/en/fifa23/players?page={page}&release={type_of_card}'\n",
    "        res = requests.get(url)\n",
    "        tree = BeautifulSoup(res.content, 'html.parser')\n",
    "        my_list = tree.find_all('div', {'class': \"col-2\"})[1:-2]\n",
    "        hrefs = [f'https://www.futwiz.com{item.a.get(\"href\")}' for item in my_list]\n",
    "        type_hrefs += hrefs\n",
    "    base_cards_hrefs += type_hrefs\n",
    "base_cards_players = parsing_card_info(remove_broken_urls(np.array(base_cards_hrefs)))"
   ]
  },
  {
   "cell_type": "code",
   "execution_count": 51,
   "id": "16383f8d",
   "metadata": {},
   "outputs": [],
   "source": [
    "# Parsing failed linkes\n",
    "failed_players = []\n",
    "while len(failed_hrefs) > 0:\n",
    "    failed_hrefs_hash = failed_hrefs.copy()\n",
    "    failed_hrefs.clear()\n",
    "    failed_players += parsing_card_info(remove_broken_urls(np.array(failed_hrefs_hash)))"
   ]
  },
  {
   "cell_type": "code",
   "execution_count": 30,
   "id": "a58cdbf1",
   "metadata": {
    "scrolled": true
   },
   "outputs": [],
   "source": [
    "players = top_five_league_players + bitch_league_players + icons_players + base_cards_players + failed_players"
   ]
  },
  {
   "cell_type": "code",
   "execution_count": 52,
   "id": "4GIidUHS1Pga",
   "metadata": {
    "colab": {
     "base_uri": "https://localhost:8080/",
     "height": 641
    },
    "id": "4GIidUHS1Pga",
    "outputId": "9a4397bd-da25-4386-8703-e01aa115e107"
   },
   "outputs": [
    {
     "data": {
      "text/html": [
       "<div>\n",
       "<style scoped>\n",
       "    .dataframe tbody tr th:only-of-type {\n",
       "        vertical-align: middle;\n",
       "    }\n",
       "\n",
       "    .dataframe tbody tr th {\n",
       "        vertical-align: top;\n",
       "    }\n",
       "\n",
       "    .dataframe thead th {\n",
       "        text-align: right;\n",
       "    }\n",
       "</style>\n",
       "<table border=\"1\" class=\"dataframe\">\n",
       "  <thead>\n",
       "    <tr style=\"text-align: right;\">\n",
       "      <th></th>\n",
       "      <th>Name</th>\n",
       "      <th>Card Type</th>\n",
       "      <th>Nation</th>\n",
       "      <th>Club</th>\n",
       "      <th>League</th>\n",
       "      <th>Skills</th>\n",
       "      <th>W/F</th>\n",
       "      <th>W/R</th>\n",
       "      <th>Foot</th>\n",
       "      <th>Age</th>\n",
       "      <th>...</th>\n",
       "      <th>Composure</th>\n",
       "      <th>Interceptions</th>\n",
       "      <th>Heading Acc.</th>\n",
       "      <th>Def. Awareness</th>\n",
       "      <th>Stand Tackle</th>\n",
       "      <th>Slide Tackle</th>\n",
       "      <th>Jumping</th>\n",
       "      <th>Stamina</th>\n",
       "      <th>Strength</th>\n",
       "      <th>Aggression</th>\n",
       "    </tr>\n",
       "  </thead>\n",
       "  <tbody>\n",
       "    <tr>\n",
       "      <th>0</th>\n",
       "      <td>Erling Haaland</td>\n",
       "      <td>TOTS</td>\n",
       "      <td>Norway</td>\n",
       "      <td>Manchester City</td>\n",
       "      <td>ENG 1</td>\n",
       "      <td>4</td>\n",
       "      <td>5</td>\n",
       "      <td>H/M</td>\n",
       "      <td>Left</td>\n",
       "      <td>22</td>\n",
       "      <td>...</td>\n",
       "      <td>96</td>\n",
       "      <td>54</td>\n",
       "      <td>98</td>\n",
       "      <td>55</td>\n",
       "      <td>66</td>\n",
       "      <td>36</td>\n",
       "      <td>82</td>\n",
       "      <td>89</td>\n",
       "      <td>99</td>\n",
       "      <td>94</td>\n",
       "    </tr>\n",
       "    <tr>\n",
       "      <th>1</th>\n",
       "      <td>Kevin De Bruyne</td>\n",
       "      <td>TOTS</td>\n",
       "      <td>Belgium</td>\n",
       "      <td>Manchester City</td>\n",
       "      <td>ENG 1</td>\n",
       "      <td>4</td>\n",
       "      <td>5</td>\n",
       "      <td>H/H</td>\n",
       "      <td>Right</td>\n",
       "      <td>31</td>\n",
       "      <td>...</td>\n",
       "      <td>97</td>\n",
       "      <td>88</td>\n",
       "      <td>73</td>\n",
       "      <td>90</td>\n",
       "      <td>86</td>\n",
       "      <td>70</td>\n",
       "      <td>71</td>\n",
       "      <td>99</td>\n",
       "      <td>84</td>\n",
       "      <td>85</td>\n",
       "    </tr>\n",
       "    <tr>\n",
       "      <th>2</th>\n",
       "      <td>Kevin De Bruyne</td>\n",
       "      <td>TOTY</td>\n",
       "      <td>Belgium</td>\n",
       "      <td>Manchester City</td>\n",
       "      <td>ENG 1</td>\n",
       "      <td>4</td>\n",
       "      <td>5</td>\n",
       "      <td>H/H</td>\n",
       "      <td>Right</td>\n",
       "      <td>31</td>\n",
       "      <td>...</td>\n",
       "      <td>96</td>\n",
       "      <td>85</td>\n",
       "      <td>70</td>\n",
       "      <td>86</td>\n",
       "      <td>82</td>\n",
       "      <td>67</td>\n",
       "      <td>70</td>\n",
       "      <td>97</td>\n",
       "      <td>84</td>\n",
       "      <td>83</td>\n",
       "    </tr>\n",
       "    <tr>\n",
       "      <th>3</th>\n",
       "      <td>Mohamed Salah</td>\n",
       "      <td>TOTS</td>\n",
       "      <td>Egypt</td>\n",
       "      <td>Liverpool</td>\n",
       "      <td>ENG 1</td>\n",
       "      <td>5</td>\n",
       "      <td>3</td>\n",
       "      <td>H/M</td>\n",
       "      <td>Left</td>\n",
       "      <td>30</td>\n",
       "      <td>...</td>\n",
       "      <td>99</td>\n",
       "      <td>66</td>\n",
       "      <td>70</td>\n",
       "      <td>46</td>\n",
       "      <td>52</td>\n",
       "      <td>48</td>\n",
       "      <td>76</td>\n",
       "      <td>96</td>\n",
       "      <td>83</td>\n",
       "      <td>70</td>\n",
       "    </tr>\n",
       "    <tr>\n",
       "      <th>4</th>\n",
       "      <td>Ruben Dias</td>\n",
       "      <td>TOTS</td>\n",
       "      <td>Portugal</td>\n",
       "      <td>Manchester City</td>\n",
       "      <td>ENG 1</td>\n",
       "      <td>2</td>\n",
       "      <td>4</td>\n",
       "      <td>M/H</td>\n",
       "      <td>Right</td>\n",
       "      <td>25</td>\n",
       "      <td>...</td>\n",
       "      <td>99</td>\n",
       "      <td>94</td>\n",
       "      <td>96</td>\n",
       "      <td>99</td>\n",
       "      <td>98</td>\n",
       "      <td>94</td>\n",
       "      <td>87</td>\n",
       "      <td>92</td>\n",
       "      <td>99</td>\n",
       "      <td>99</td>\n",
       "    </tr>\n",
       "    <tr>\n",
       "      <th>...</th>\n",
       "      <td>...</td>\n",
       "      <td>...</td>\n",
       "      <td>...</td>\n",
       "      <td>...</td>\n",
       "      <td>...</td>\n",
       "      <td>...</td>\n",
       "      <td>...</td>\n",
       "      <td>...</td>\n",
       "      <td>...</td>\n",
       "      <td>...</td>\n",
       "      <td>...</td>\n",
       "      <td>...</td>\n",
       "      <td>...</td>\n",
       "      <td>...</td>\n",
       "      <td>...</td>\n",
       "      <td>...</td>\n",
       "      <td>...</td>\n",
       "      <td>...</td>\n",
       "      <td>...</td>\n",
       "      <td>...</td>\n",
       "      <td>...</td>\n",
       "    </tr>\n",
       "    <tr>\n",
       "      <th>1789</th>\n",
       "      <td>Magnus Lekven</td>\n",
       "      <td>Non-Inform</td>\n",
       "      <td>Norway</td>\n",
       "      <td>Odds BK</td>\n",
       "      <td>NOR 1</td>\n",
       "      <td>2</td>\n",
       "      <td>4</td>\n",
       "      <td>M/M</td>\n",
       "      <td>Right</td>\n",
       "      <td>34</td>\n",
       "      <td>...</td>\n",
       "      <td>71</td>\n",
       "      <td>61</td>\n",
       "      <td>59</td>\n",
       "      <td>62</td>\n",
       "      <td>60</td>\n",
       "      <td>55</td>\n",
       "      <td>72</td>\n",
       "      <td>75</td>\n",
       "      <td>70</td>\n",
       "      <td>70</td>\n",
       "    </tr>\n",
       "    <tr>\n",
       "      <th>1790</th>\n",
       "      <td>Arda Kizildag</td>\n",
       "      <td>Non-Inform</td>\n",
       "      <td>Turkey</td>\n",
       "      <td>Gaziantep</td>\n",
       "      <td>TUR 1</td>\n",
       "      <td>2</td>\n",
       "      <td>3</td>\n",
       "      <td>M/M</td>\n",
       "      <td>Right</td>\n",
       "      <td>24</td>\n",
       "      <td>...</td>\n",
       "      <td>57</td>\n",
       "      <td>63</td>\n",
       "      <td>69</td>\n",
       "      <td>68</td>\n",
       "      <td>68</td>\n",
       "      <td>62</td>\n",
       "      <td>72</td>\n",
       "      <td>65</td>\n",
       "      <td>64</td>\n",
       "      <td>62</td>\n",
       "    </tr>\n",
       "    <tr>\n",
       "      <th>1791</th>\n",
       "      <td>Dane Scarlett</td>\n",
       "      <td>Non-Inform</td>\n",
       "      <td>England</td>\n",
       "      <td>Portsmouth</td>\n",
       "      <td>ENG 3</td>\n",
       "      <td>3</td>\n",
       "      <td>4</td>\n",
       "      <td>H/M</td>\n",
       "      <td>Right</td>\n",
       "      <td>18</td>\n",
       "      <td>...</td>\n",
       "      <td>54</td>\n",
       "      <td>13</td>\n",
       "      <td>64</td>\n",
       "      <td>17</td>\n",
       "      <td>16</td>\n",
       "      <td>18</td>\n",
       "      <td>76</td>\n",
       "      <td>51</td>\n",
       "      <td>56</td>\n",
       "      <td>57</td>\n",
       "    </tr>\n",
       "    <tr>\n",
       "      <th>1792</th>\n",
       "      <td>Marvin Stefaniak</td>\n",
       "      <td>Non-Inform</td>\n",
       "      <td>Germany</td>\n",
       "      <td>FC Erzgebirge Aue</td>\n",
       "      <td>GER 3</td>\n",
       "      <td>3</td>\n",
       "      <td>4</td>\n",
       "      <td>H/M</td>\n",
       "      <td>Right</td>\n",
       "      <td>27</td>\n",
       "      <td>...</td>\n",
       "      <td>57</td>\n",
       "      <td>27</td>\n",
       "      <td>40</td>\n",
       "      <td>30</td>\n",
       "      <td>25</td>\n",
       "      <td>26</td>\n",
       "      <td>69</td>\n",
       "      <td>67</td>\n",
       "      <td>64</td>\n",
       "      <td>41</td>\n",
       "    </tr>\n",
       "    <tr>\n",
       "      <th>1793</th>\n",
       "      <td>Gaston Veron</td>\n",
       "      <td>Non-Inform</td>\n",
       "      <td>Argentina</td>\n",
       "      <td>Argentinos Jrs.</td>\n",
       "      <td>ARG 1</td>\n",
       "      <td>3</td>\n",
       "      <td>3</td>\n",
       "      <td>M/L</td>\n",
       "      <td>Right</td>\n",
       "      <td>21</td>\n",
       "      <td>...</td>\n",
       "      <td>64</td>\n",
       "      <td>22</td>\n",
       "      <td>65</td>\n",
       "      <td>29</td>\n",
       "      <td>26</td>\n",
       "      <td>27</td>\n",
       "      <td>68</td>\n",
       "      <td>62</td>\n",
       "      <td>65</td>\n",
       "      <td>49</td>\n",
       "    </tr>\n",
       "  </tbody>\n",
       "</table>\n",
       "<p>1794 rows × 52 columns</p>\n",
       "</div>"
      ],
      "text/plain": [
       "                  Name   Card Type     Nation               Club League  \\\n",
       "0       Erling Haaland        TOTS     Norway    Manchester City  ENG 1   \n",
       "1      Kevin De Bruyne        TOTS    Belgium    Manchester City  ENG 1   \n",
       "2      Kevin De Bruyne        TOTY    Belgium    Manchester City  ENG 1   \n",
       "3        Mohamed Salah        TOTS      Egypt          Liverpool  ENG 1   \n",
       "4           Ruben Dias        TOTS   Portugal    Manchester City  ENG 1   \n",
       "...                ...         ...        ...                ...    ...   \n",
       "1789     Magnus Lekven  Non-Inform     Norway            Odds BK  NOR 1   \n",
       "1790     Arda Kizildag  Non-Inform     Turkey          Gaziantep  TUR 1   \n",
       "1791     Dane Scarlett  Non-Inform    England         Portsmouth  ENG 3   \n",
       "1792  Marvin Stefaniak  Non-Inform    Germany  FC Erzgebirge Aue  GER 3   \n",
       "1793      Gaston Veron  Non-Inform  Argentina    Argentinos Jrs.  ARG 1   \n",
       "\n",
       "     Skills W/F  W/R   Foot Age  ... Composure Interceptions Heading Acc.  \\\n",
       "0         4   5  H/M   Left  22  ...        96            54           98   \n",
       "1         4   5  H/H  Right  31  ...        97            88           73   \n",
       "2         4   5  H/H  Right  31  ...        96            85           70   \n",
       "3         5   3  H/M   Left  30  ...        99            66           70   \n",
       "4         2   4  M/H  Right  25  ...        99            94           96   \n",
       "...     ...  ..  ...    ...  ..  ...       ...           ...          ...   \n",
       "1789      2   4  M/M  Right  34  ...        71            61           59   \n",
       "1790      2   3  M/M  Right  24  ...        57            63           69   \n",
       "1791      3   4  H/M  Right  18  ...        54            13           64   \n",
       "1792      3   4  H/M  Right  27  ...        57            27           40   \n",
       "1793      3   3  M/L  Right  21  ...        64            22           65   \n",
       "\n",
       "     Def. Awareness Stand Tackle  Slide Tackle Jumping Stamina Strength  \\\n",
       "0                55           66            36      82      89       99   \n",
       "1                90           86            70      71      99       84   \n",
       "2                86           82            67      70      97       84   \n",
       "3                46           52            48      76      96       83   \n",
       "4                99           98            94      87      92       99   \n",
       "...             ...          ...           ...     ...     ...      ...   \n",
       "1789             62           60            55      72      75       70   \n",
       "1790             68           68            62      72      65       64   \n",
       "1791             17           16            18      76      51       56   \n",
       "1792             30           25            26      69      67       64   \n",
       "1793             29           26            27      68      62       65   \n",
       "\n",
       "     Aggression  \n",
       "0            94  \n",
       "1            85  \n",
       "2            83  \n",
       "3            70  \n",
       "4            99  \n",
       "...         ...  \n",
       "1789         70  \n",
       "1790         62  \n",
       "1791         57  \n",
       "1792         41  \n",
       "1793         49  \n",
       "\n",
       "[1794 rows x 52 columns]"
      ]
     },
     "execution_count": 52,
     "metadata": {},
     "output_type": "execute_result"
    }
   ],
   "source": [
    "df = pd.DataFrame(players)\n",
    "df.drop_duplicates()\n",
    "df"
   ]
  },
  {
   "cell_type": "code",
   "execution_count": null,
   "id": "a23eea7d",
   "metadata": {},
   "outputs": [],
   "source": [
    "df.to_csv(\"C:\\\\Users\\\\ASUS\\\\python_copybooks\\\\AD_HSE\\\\project\\\\players.csv\")"
   ]
  }
 ],
 "metadata": {
  "colab": {
   "provenance": []
  },
  "kernelspec": {
   "display_name": "Python 3 (ipykernel)",
   "language": "python",
   "name": "python3"
  },
  "language_info": {
   "codemirror_mode": {
    "name": "ipython",
    "version": 3
   },
   "file_extension": ".py",
   "mimetype": "text/x-python",
   "name": "python",
   "nbconvert_exporter": "python",
   "pygments_lexer": "ipython3",
   "version": "3.9.7"
  }
 },
 "nbformat": 4,
 "nbformat_minor": 5
}
