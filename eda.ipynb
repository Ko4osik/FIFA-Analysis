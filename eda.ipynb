{
 "cells": [
  {
   "cell_type": "markdown",
   "metadata": {
    "id": "uoJxaSe3Q3Yv"
   },
   "source": [
    "## EDA данных"
   ]
  },
  {
   "cell_type": "markdown",
   "metadata": {},
   "source": [
    "### Table of Contents\n",
    "\n",
    "* [Импорт данных](#Импорт-данных)\n",
    "* [Описание столбцов](#Описание-столбцов)\n",
    "* [Анализ и визуализация данных](#Анализ-и-визуализация-данных)\n",
    "* [Кодирование данных](#Кодирование-данных)\n"
   ]
  },
  {
   "cell_type": "markdown",
   "metadata": {
    "id": "L_y4fL78Q8mA"
   },
   "source": [
    "### Импорт данных"
   ]
  },
  {
   "cell_type": "code",
   "execution_count": null,
   "metadata": {
    "colab": {
     "base_uri": "https://localhost:8080/"
    },
    "id": "CltCDVrxZSNu",
    "outputId": "e6e7450e-06b0-4c82-f119-c4a7da410cf7"
   },
   "outputs": [],
   "source": [
    "!pip3 install geopandas\n",
    "!pip3 install squarify"
   ]
  },
  {
   "cell_type": "code",
   "execution_count": 401,
   "metadata": {
    "colab": {
     "base_uri": "https://localhost:8080/",
     "height": 391
    },
    "id": "Gt4zhbUItFtt",
    "outputId": "b33ea9da-f2ca-4e32-a192-e48f26809d0b"
   },
   "outputs": [
    {
     "data": {
      "text/html": [
       "<div>\n",
       "<style scoped>\n",
       "    .dataframe tbody tr th:only-of-type {\n",
       "        vertical-align: middle;\n",
       "    }\n",
       "\n",
       "    .dataframe tbody tr th {\n",
       "        vertical-align: top;\n",
       "    }\n",
       "\n",
       "    .dataframe thead th {\n",
       "        text-align: right;\n",
       "    }\n",
       "</style>\n",
       "<table border=\"1\" class=\"dataframe\">\n",
       "  <thead>\n",
       "    <tr style=\"text-align: right;\">\n",
       "      <th></th>\n",
       "      <th>Unnamed: 0</th>\n",
       "      <th>Name</th>\n",
       "      <th>Card Type</th>\n",
       "      <th>Nation</th>\n",
       "      <th>Club</th>\n",
       "      <th>League</th>\n",
       "      <th>Skills</th>\n",
       "      <th>W/F</th>\n",
       "      <th>W/R</th>\n",
       "      <th>Foot</th>\n",
       "      <th>...</th>\n",
       "      <th>Composure</th>\n",
       "      <th>Interceptions</th>\n",
       "      <th>Heading Acc.</th>\n",
       "      <th>Def. Awareness</th>\n",
       "      <th>Stand Tackle</th>\n",
       "      <th>Slide Tackle</th>\n",
       "      <th>Jumping</th>\n",
       "      <th>Stamina</th>\n",
       "      <th>Strength</th>\n",
       "      <th>Aggression</th>\n",
       "    </tr>\n",
       "  </thead>\n",
       "  <tbody>\n",
       "    <tr>\n",
       "      <th>0</th>\n",
       "      <td>0</td>\n",
       "      <td>Erling Haaland</td>\n",
       "      <td>TOTS</td>\n",
       "      <td>Norway</td>\n",
       "      <td>Manchester City</td>\n",
       "      <td>ENG 1</td>\n",
       "      <td>4</td>\n",
       "      <td>5</td>\n",
       "      <td>H/M</td>\n",
       "      <td>Left</td>\n",
       "      <td>...</td>\n",
       "      <td>96</td>\n",
       "      <td>54</td>\n",
       "      <td>98</td>\n",
       "      <td>55</td>\n",
       "      <td>66</td>\n",
       "      <td>36</td>\n",
       "      <td>82</td>\n",
       "      <td>89</td>\n",
       "      <td>99</td>\n",
       "      <td>94</td>\n",
       "    </tr>\n",
       "    <tr>\n",
       "      <th>1</th>\n",
       "      <td>1</td>\n",
       "      <td>Kevin De Bruyne</td>\n",
       "      <td>TOTS</td>\n",
       "      <td>Belgium</td>\n",
       "      <td>Manchester City</td>\n",
       "      <td>ENG 1</td>\n",
       "      <td>4</td>\n",
       "      <td>5</td>\n",
       "      <td>H/H</td>\n",
       "      <td>Right</td>\n",
       "      <td>...</td>\n",
       "      <td>97</td>\n",
       "      <td>88</td>\n",
       "      <td>73</td>\n",
       "      <td>90</td>\n",
       "      <td>86</td>\n",
       "      <td>70</td>\n",
       "      <td>71</td>\n",
       "      <td>99</td>\n",
       "      <td>84</td>\n",
       "      <td>85</td>\n",
       "    </tr>\n",
       "    <tr>\n",
       "      <th>2</th>\n",
       "      <td>2</td>\n",
       "      <td>Kevin De Bruyne</td>\n",
       "      <td>TOTY</td>\n",
       "      <td>Belgium</td>\n",
       "      <td>Manchester City</td>\n",
       "      <td>ENG 1</td>\n",
       "      <td>4</td>\n",
       "      <td>5</td>\n",
       "      <td>H/H</td>\n",
       "      <td>Right</td>\n",
       "      <td>...</td>\n",
       "      <td>96</td>\n",
       "      <td>85</td>\n",
       "      <td>70</td>\n",
       "      <td>86</td>\n",
       "      <td>82</td>\n",
       "      <td>67</td>\n",
       "      <td>70</td>\n",
       "      <td>97</td>\n",
       "      <td>84</td>\n",
       "      <td>83</td>\n",
       "    </tr>\n",
       "    <tr>\n",
       "      <th>3</th>\n",
       "      <td>3</td>\n",
       "      <td>Mohamed Salah</td>\n",
       "      <td>TOTS</td>\n",
       "      <td>Egypt</td>\n",
       "      <td>Liverpool</td>\n",
       "      <td>ENG 1</td>\n",
       "      <td>5</td>\n",
       "      <td>3</td>\n",
       "      <td>H/M</td>\n",
       "      <td>Left</td>\n",
       "      <td>...</td>\n",
       "      <td>99</td>\n",
       "      <td>66</td>\n",
       "      <td>70</td>\n",
       "      <td>46</td>\n",
       "      <td>52</td>\n",
       "      <td>48</td>\n",
       "      <td>76</td>\n",
       "      <td>96</td>\n",
       "      <td>83</td>\n",
       "      <td>70</td>\n",
       "    </tr>\n",
       "    <tr>\n",
       "      <th>4</th>\n",
       "      <td>4</td>\n",
       "      <td>Ruben Dias</td>\n",
       "      <td>TOTS</td>\n",
       "      <td>Portugal</td>\n",
       "      <td>Manchester City</td>\n",
       "      <td>ENG 1</td>\n",
       "      <td>2</td>\n",
       "      <td>4</td>\n",
       "      <td>M/H</td>\n",
       "      <td>Right</td>\n",
       "      <td>...</td>\n",
       "      <td>99</td>\n",
       "      <td>94</td>\n",
       "      <td>96</td>\n",
       "      <td>99</td>\n",
       "      <td>98</td>\n",
       "      <td>94</td>\n",
       "      <td>87</td>\n",
       "      <td>92</td>\n",
       "      <td>99</td>\n",
       "      <td>99</td>\n",
       "    </tr>\n",
       "    <tr>\n",
       "      <th>...</th>\n",
       "      <td>...</td>\n",
       "      <td>...</td>\n",
       "      <td>...</td>\n",
       "      <td>...</td>\n",
       "      <td>...</td>\n",
       "      <td>...</td>\n",
       "      <td>...</td>\n",
       "      <td>...</td>\n",
       "      <td>...</td>\n",
       "      <td>...</td>\n",
       "      <td>...</td>\n",
       "      <td>...</td>\n",
       "      <td>...</td>\n",
       "      <td>...</td>\n",
       "      <td>...</td>\n",
       "      <td>...</td>\n",
       "      <td>...</td>\n",
       "      <td>...</td>\n",
       "      <td>...</td>\n",
       "      <td>...</td>\n",
       "      <td>...</td>\n",
       "    </tr>\n",
       "    <tr>\n",
       "      <th>1789</th>\n",
       "      <td>1789</td>\n",
       "      <td>Magnus Lekven</td>\n",
       "      <td>Non-Inform</td>\n",
       "      <td>Norway</td>\n",
       "      <td>Odds BK</td>\n",
       "      <td>NOR 1</td>\n",
       "      <td>2</td>\n",
       "      <td>4</td>\n",
       "      <td>M/M</td>\n",
       "      <td>Right</td>\n",
       "      <td>...</td>\n",
       "      <td>71</td>\n",
       "      <td>61</td>\n",
       "      <td>59</td>\n",
       "      <td>62</td>\n",
       "      <td>60</td>\n",
       "      <td>55</td>\n",
       "      <td>72</td>\n",
       "      <td>75</td>\n",
       "      <td>70</td>\n",
       "      <td>70</td>\n",
       "    </tr>\n",
       "    <tr>\n",
       "      <th>1790</th>\n",
       "      <td>1790</td>\n",
       "      <td>Arda Kizildag</td>\n",
       "      <td>Non-Inform</td>\n",
       "      <td>Turkey</td>\n",
       "      <td>Gaziantep</td>\n",
       "      <td>TUR 1</td>\n",
       "      <td>2</td>\n",
       "      <td>3</td>\n",
       "      <td>M/M</td>\n",
       "      <td>Right</td>\n",
       "      <td>...</td>\n",
       "      <td>57</td>\n",
       "      <td>63</td>\n",
       "      <td>69</td>\n",
       "      <td>68</td>\n",
       "      <td>68</td>\n",
       "      <td>62</td>\n",
       "      <td>72</td>\n",
       "      <td>65</td>\n",
       "      <td>64</td>\n",
       "      <td>62</td>\n",
       "    </tr>\n",
       "    <tr>\n",
       "      <th>1791</th>\n",
       "      <td>1791</td>\n",
       "      <td>Dane Scarlett</td>\n",
       "      <td>Non-Inform</td>\n",
       "      <td>England</td>\n",
       "      <td>Portsmouth</td>\n",
       "      <td>ENG 3</td>\n",
       "      <td>3</td>\n",
       "      <td>4</td>\n",
       "      <td>H/M</td>\n",
       "      <td>Right</td>\n",
       "      <td>...</td>\n",
       "      <td>54</td>\n",
       "      <td>13</td>\n",
       "      <td>64</td>\n",
       "      <td>17</td>\n",
       "      <td>16</td>\n",
       "      <td>18</td>\n",
       "      <td>76</td>\n",
       "      <td>51</td>\n",
       "      <td>56</td>\n",
       "      <td>57</td>\n",
       "    </tr>\n",
       "    <tr>\n",
       "      <th>1792</th>\n",
       "      <td>1792</td>\n",
       "      <td>Marvin Stefaniak</td>\n",
       "      <td>Non-Inform</td>\n",
       "      <td>Germany</td>\n",
       "      <td>FC Erzgebirge Aue</td>\n",
       "      <td>GER 3</td>\n",
       "      <td>3</td>\n",
       "      <td>4</td>\n",
       "      <td>H/M</td>\n",
       "      <td>Right</td>\n",
       "      <td>...</td>\n",
       "      <td>57</td>\n",
       "      <td>27</td>\n",
       "      <td>40</td>\n",
       "      <td>30</td>\n",
       "      <td>25</td>\n",
       "      <td>26</td>\n",
       "      <td>69</td>\n",
       "      <td>67</td>\n",
       "      <td>64</td>\n",
       "      <td>41</td>\n",
       "    </tr>\n",
       "    <tr>\n",
       "      <th>1793</th>\n",
       "      <td>1793</td>\n",
       "      <td>Gaston Veron</td>\n",
       "      <td>Non-Inform</td>\n",
       "      <td>Argentina</td>\n",
       "      <td>Argentinos Jrs.</td>\n",
       "      <td>ARG 1</td>\n",
       "      <td>3</td>\n",
       "      <td>3</td>\n",
       "      <td>M/L</td>\n",
       "      <td>Right</td>\n",
       "      <td>...</td>\n",
       "      <td>64</td>\n",
       "      <td>22</td>\n",
       "      <td>65</td>\n",
       "      <td>29</td>\n",
       "      <td>26</td>\n",
       "      <td>27</td>\n",
       "      <td>68</td>\n",
       "      <td>62</td>\n",
       "      <td>65</td>\n",
       "      <td>49</td>\n",
       "    </tr>\n",
       "  </tbody>\n",
       "</table>\n",
       "<p>1794 rows × 53 columns</p>\n",
       "</div>"
      ],
      "text/plain": [
       "      Unnamed: 0              Name   Card Type     Nation               Club  \\\n",
       "0              0    Erling Haaland        TOTS     Norway    Manchester City   \n",
       "1              1   Kevin De Bruyne        TOTS    Belgium    Manchester City   \n",
       "2              2   Kevin De Bruyne        TOTY    Belgium    Manchester City   \n",
       "3              3     Mohamed Salah        TOTS      Egypt          Liverpool   \n",
       "4              4        Ruben Dias        TOTS   Portugal    Manchester City   \n",
       "...          ...               ...         ...        ...                ...   \n",
       "1789        1789     Magnus Lekven  Non-Inform     Norway            Odds BK   \n",
       "1790        1790     Arda Kizildag  Non-Inform     Turkey          Gaziantep   \n",
       "1791        1791     Dane Scarlett  Non-Inform    England         Portsmouth   \n",
       "1792        1792  Marvin Stefaniak  Non-Inform    Germany  FC Erzgebirge Aue   \n",
       "1793        1793      Gaston Veron  Non-Inform  Argentina    Argentinos Jrs.   \n",
       "\n",
       "     League  Skills  W/F  W/R   Foot  ...  Composure Interceptions  \\\n",
       "0     ENG 1       4    5  H/M   Left  ...         96            54   \n",
       "1     ENG 1       4    5  H/H  Right  ...         97            88   \n",
       "2     ENG 1       4    5  H/H  Right  ...         96            85   \n",
       "3     ENG 1       5    3  H/M   Left  ...         99            66   \n",
       "4     ENG 1       2    4  M/H  Right  ...         99            94   \n",
       "...     ...     ...  ...  ...    ...  ...        ...           ...   \n",
       "1789  NOR 1       2    4  M/M  Right  ...         71            61   \n",
       "1790  TUR 1       2    3  M/M  Right  ...         57            63   \n",
       "1791  ENG 3       3    4  H/M  Right  ...         54            13   \n",
       "1792  GER 3       3    4  H/M  Right  ...         57            27   \n",
       "1793  ARG 1       3    3  M/L  Right  ...         64            22   \n",
       "\n",
       "     Heading Acc. Def. Awareness Stand Tackle Slide Tackle  Jumping  Stamina  \\\n",
       "0              98             55           66           36       82       89   \n",
       "1              73             90           86           70       71       99   \n",
       "2              70             86           82           67       70       97   \n",
       "3              70             46           52           48       76       96   \n",
       "4              96             99           98           94       87       92   \n",
       "...           ...            ...          ...          ...      ...      ...   \n",
       "1789           59             62           60           55       72       75   \n",
       "1790           69             68           68           62       72       65   \n",
       "1791           64             17           16           18       76       51   \n",
       "1792           40             30           25           26       69       67   \n",
       "1793           65             29           26           27       68       62   \n",
       "\n",
       "      Strength  Aggression  \n",
       "0           99          94  \n",
       "1           84          85  \n",
       "2           84          83  \n",
       "3           83          70  \n",
       "4           99          99  \n",
       "...        ...         ...  \n",
       "1789        70          70  \n",
       "1790        64          62  \n",
       "1791        56          57  \n",
       "1792        64          41  \n",
       "1793        65          49  \n",
       "\n",
       "[1794 rows x 53 columns]"
      ]
     },
     "execution_count": 401,
     "metadata": {},
     "output_type": "execute_result"
    }
   ],
   "source": [
    "import pandas as pd\n",
    "import numpy as np\n",
    "# Загружаем данные, полученные в результате парсинга\n",
    "csv_file_path = \"players.csv\"\n",
    "df = pd.read_csv(csv_file_path)\n",
    "\n",
    "df"
   ]
  },
  {
   "cell_type": "code",
   "execution_count": 402,
   "metadata": {
    "id": "whPI80InzhGH"
   },
   "outputs": [],
   "source": [
    "# Удаляем индекс как несущественный признак\n",
    "df = df.reset_index(drop=True)\n",
    "df = df.drop(['Unnamed: 0', 'PAC', 'SHO', 'PAS', 'DRI', 'DEF', 'PHY'], axis=1)"
   ]
  },
  {
   "cell_type": "code",
   "execution_count": 403,
   "metadata": {
    "colab": {
     "base_uri": "https://localhost:8080/",
     "height": 401
    },
    "id": "KhRNZwoCyqUh",
    "outputId": "2cb7398f-03cd-40ad-ddcd-c05e874e15ae"
   },
   "outputs": [
    {
     "data": {
      "text/html": [
       "<div>\n",
       "<style scoped>\n",
       "    .dataframe tbody tr th:only-of-type {\n",
       "        vertical-align: middle;\n",
       "    }\n",
       "\n",
       "    .dataframe tbody tr th {\n",
       "        vertical-align: top;\n",
       "    }\n",
       "\n",
       "    .dataframe thead th {\n",
       "        text-align: right;\n",
       "    }\n",
       "</style>\n",
       "<table border=\"1\" class=\"dataframe\">\n",
       "  <thead>\n",
       "    <tr style=\"text-align: right;\">\n",
       "      <th></th>\n",
       "      <th>Skills</th>\n",
       "      <th>W/F</th>\n",
       "      <th>Age</th>\n",
       "      <th>Rating</th>\n",
       "      <th>Price</th>\n",
       "      <th>Acceleration</th>\n",
       "      <th>Sprint Speed</th>\n",
       "      <th>Positioning</th>\n",
       "      <th>Finishing</th>\n",
       "      <th>Shot Power</th>\n",
       "      <th>...</th>\n",
       "      <th>Composure</th>\n",
       "      <th>Interceptions</th>\n",
       "      <th>Heading Acc.</th>\n",
       "      <th>Def. Awareness</th>\n",
       "      <th>Stand Tackle</th>\n",
       "      <th>Slide Tackle</th>\n",
       "      <th>Jumping</th>\n",
       "      <th>Stamina</th>\n",
       "      <th>Strength</th>\n",
       "      <th>Aggression</th>\n",
       "    </tr>\n",
       "  </thead>\n",
       "  <tbody>\n",
       "    <tr>\n",
       "      <th>count</th>\n",
       "      <td>1794.000000</td>\n",
       "      <td>1794.000000</td>\n",
       "      <td>1794.000000</td>\n",
       "      <td>1794.000000</td>\n",
       "      <td>1.794000e+03</td>\n",
       "      <td>1794.000000</td>\n",
       "      <td>1794.000000</td>\n",
       "      <td>1794.000000</td>\n",
       "      <td>1794.000000</td>\n",
       "      <td>1794.000000</td>\n",
       "      <td>...</td>\n",
       "      <td>1794.000000</td>\n",
       "      <td>1794.000000</td>\n",
       "      <td>1794.000000</td>\n",
       "      <td>1794.000000</td>\n",
       "      <td>1794.000000</td>\n",
       "      <td>1794.000000</td>\n",
       "      <td>1794.000000</td>\n",
       "      <td>1794.000000</td>\n",
       "      <td>1794.000000</td>\n",
       "      <td>1794.000000</td>\n",
       "    </tr>\n",
       "    <tr>\n",
       "      <th>mean</th>\n",
       "      <td>3.441472</td>\n",
       "      <td>3.606466</td>\n",
       "      <td>31.003344</td>\n",
       "      <td>85.458751</td>\n",
       "      <td>1.848508e+05</td>\n",
       "      <td>82.180602</td>\n",
       "      <td>82.220178</td>\n",
       "      <td>78.272575</td>\n",
       "      <td>73.992754</td>\n",
       "      <td>81.158305</td>\n",
       "      <td>...</td>\n",
       "      <td>83.406355</td>\n",
       "      <td>63.138239</td>\n",
       "      <td>73.309922</td>\n",
       "      <td>62.234114</td>\n",
       "      <td>63.243032</td>\n",
       "      <td>58.964883</td>\n",
       "      <td>76.432553</td>\n",
       "      <td>83.310479</td>\n",
       "      <td>77.406912</td>\n",
       "      <td>73.900780</td>\n",
       "    </tr>\n",
       "    <tr>\n",
       "      <th>std</th>\n",
       "      <td>0.886899</td>\n",
       "      <td>0.776167</td>\n",
       "      <td>11.550273</td>\n",
       "      <td>6.921013</td>\n",
       "      <td>8.456611e+05</td>\n",
       "      <td>11.368725</td>\n",
       "      <td>11.059592</td>\n",
       "      <td>16.004038</td>\n",
       "      <td>17.520936</td>\n",
       "      <td>11.686437</td>\n",
       "      <td>...</td>\n",
       "      <td>9.013678</td>\n",
       "      <td>22.052588</td>\n",
       "      <td>15.039188</td>\n",
       "      <td>21.195050</td>\n",
       "      <td>22.402668</td>\n",
       "      <td>23.170707</td>\n",
       "      <td>13.227478</td>\n",
       "      <td>9.578922</td>\n",
       "      <td>11.813313</td>\n",
       "      <td>13.935841</td>\n",
       "    </tr>\n",
       "    <tr>\n",
       "      <th>min</th>\n",
       "      <td>2.000000</td>\n",
       "      <td>1.000000</td>\n",
       "      <td>0.000000</td>\n",
       "      <td>64.000000</td>\n",
       "      <td>0.000000e+00</td>\n",
       "      <td>31.000000</td>\n",
       "      <td>31.000000</td>\n",
       "      <td>18.000000</td>\n",
       "      <td>17.000000</td>\n",
       "      <td>25.000000</td>\n",
       "      <td>...</td>\n",
       "      <td>45.000000</td>\n",
       "      <td>11.000000</td>\n",
       "      <td>29.000000</td>\n",
       "      <td>12.000000</td>\n",
       "      <td>12.000000</td>\n",
       "      <td>11.000000</td>\n",
       "      <td>30.000000</td>\n",
       "      <td>34.000000</td>\n",
       "      <td>30.000000</td>\n",
       "      <td>22.000000</td>\n",
       "    </tr>\n",
       "    <tr>\n",
       "      <th>25%</th>\n",
       "      <td>3.000000</td>\n",
       "      <td>3.000000</td>\n",
       "      <td>24.000000</td>\n",
       "      <td>84.000000</td>\n",
       "      <td>3.500000e+02</td>\n",
       "      <td>77.000000</td>\n",
       "      <td>77.000000</td>\n",
       "      <td>72.000000</td>\n",
       "      <td>63.000000</td>\n",
       "      <td>76.000000</td>\n",
       "      <td>...</td>\n",
       "      <td>80.000000</td>\n",
       "      <td>43.000000</td>\n",
       "      <td>62.000000</td>\n",
       "      <td>44.000000</td>\n",
       "      <td>42.000000</td>\n",
       "      <td>38.000000</td>\n",
       "      <td>69.000000</td>\n",
       "      <td>78.000000</td>\n",
       "      <td>70.000000</td>\n",
       "      <td>64.250000</td>\n",
       "    </tr>\n",
       "    <tr>\n",
       "      <th>50%</th>\n",
       "      <td>3.000000</td>\n",
       "      <td>4.000000</td>\n",
       "      <td>28.000000</td>\n",
       "      <td>87.000000</td>\n",
       "      <td>1.425000e+04</td>\n",
       "      <td>84.000000</td>\n",
       "      <td>85.000000</td>\n",
       "      <td>84.000000</td>\n",
       "      <td>80.000000</td>\n",
       "      <td>84.000000</td>\n",
       "      <td>...</td>\n",
       "      <td>85.000000</td>\n",
       "      <td>66.000000</td>\n",
       "      <td>75.000000</td>\n",
       "      <td>64.000000</td>\n",
       "      <td>66.000000</td>\n",
       "      <td>61.000000</td>\n",
       "      <td>78.000000</td>\n",
       "      <td>85.000000</td>\n",
       "      <td>79.000000</td>\n",
       "      <td>76.000000</td>\n",
       "    </tr>\n",
       "    <tr>\n",
       "      <th>75%</th>\n",
       "      <td>4.000000</td>\n",
       "      <td>4.000000</td>\n",
       "      <td>33.000000</td>\n",
       "      <td>90.000000</td>\n",
       "      <td>5.300000e+04</td>\n",
       "      <td>90.000000</td>\n",
       "      <td>90.000000</td>\n",
       "      <td>90.000000</td>\n",
       "      <td>87.000000</td>\n",
       "      <td>89.000000</td>\n",
       "      <td>...</td>\n",
       "      <td>89.000000</td>\n",
       "      <td>83.000000</td>\n",
       "      <td>86.000000</td>\n",
       "      <td>82.000000</td>\n",
       "      <td>84.000000</td>\n",
       "      <td>81.000000</td>\n",
       "      <td>86.000000</td>\n",
       "      <td>90.000000</td>\n",
       "      <td>86.000000</td>\n",
       "      <td>85.000000</td>\n",
       "    </tr>\n",
       "    <tr>\n",
       "      <th>max</th>\n",
       "      <td>5.000000</td>\n",
       "      <td>5.000000</td>\n",
       "      <td>95.000000</td>\n",
       "      <td>98.000000</td>\n",
       "      <td>1.500000e+07</td>\n",
       "      <td>99.000000</td>\n",
       "      <td>99.000000</td>\n",
       "      <td>99.000000</td>\n",
       "      <td>99.000000</td>\n",
       "      <td>99.000000</td>\n",
       "      <td>...</td>\n",
       "      <td>99.000000</td>\n",
       "      <td>99.000000</td>\n",
       "      <td>99.000000</td>\n",
       "      <td>99.000000</td>\n",
       "      <td>98.000000</td>\n",
       "      <td>99.000000</td>\n",
       "      <td>99.000000</td>\n",
       "      <td>99.000000</td>\n",
       "      <td>99.000000</td>\n",
       "      <td>99.000000</td>\n",
       "    </tr>\n",
       "  </tbody>\n",
       "</table>\n",
       "<p>8 rows × 34 columns</p>\n",
       "</div>"
      ],
      "text/plain": [
       "            Skills          W/F          Age       Rating         Price  \\\n",
       "count  1794.000000  1794.000000  1794.000000  1794.000000  1.794000e+03   \n",
       "mean      3.441472     3.606466    31.003344    85.458751  1.848508e+05   \n",
       "std       0.886899     0.776167    11.550273     6.921013  8.456611e+05   \n",
       "min       2.000000     1.000000     0.000000    64.000000  0.000000e+00   \n",
       "25%       3.000000     3.000000    24.000000    84.000000  3.500000e+02   \n",
       "50%       3.000000     4.000000    28.000000    87.000000  1.425000e+04   \n",
       "75%       4.000000     4.000000    33.000000    90.000000  5.300000e+04   \n",
       "max       5.000000     5.000000    95.000000    98.000000  1.500000e+07   \n",
       "\n",
       "       Acceleration  Sprint Speed  Positioning    Finishing   Shot Power  ...  \\\n",
       "count   1794.000000   1794.000000  1794.000000  1794.000000  1794.000000  ...   \n",
       "mean      82.180602     82.220178    78.272575    73.992754    81.158305  ...   \n",
       "std       11.368725     11.059592    16.004038    17.520936    11.686437  ...   \n",
       "min       31.000000     31.000000    18.000000    17.000000    25.000000  ...   \n",
       "25%       77.000000     77.000000    72.000000    63.000000    76.000000  ...   \n",
       "50%       84.000000     85.000000    84.000000    80.000000    84.000000  ...   \n",
       "75%       90.000000     90.000000    90.000000    87.000000    89.000000  ...   \n",
       "max       99.000000     99.000000    99.000000    99.000000    99.000000  ...   \n",
       "\n",
       "         Composure  Interceptions  Heading Acc.  Def. Awareness  Stand Tackle  \\\n",
       "count  1794.000000    1794.000000   1794.000000     1794.000000   1794.000000   \n",
       "mean     83.406355      63.138239     73.309922       62.234114     63.243032   \n",
       "std       9.013678      22.052588     15.039188       21.195050     22.402668   \n",
       "min      45.000000      11.000000     29.000000       12.000000     12.000000   \n",
       "25%      80.000000      43.000000     62.000000       44.000000     42.000000   \n",
       "50%      85.000000      66.000000     75.000000       64.000000     66.000000   \n",
       "75%      89.000000      83.000000     86.000000       82.000000     84.000000   \n",
       "max      99.000000      99.000000     99.000000       99.000000     98.000000   \n",
       "\n",
       "       Slide Tackle      Jumping      Stamina     Strength   Aggression  \n",
       "count   1794.000000  1794.000000  1794.000000  1794.000000  1794.000000  \n",
       "mean      58.964883    76.432553    83.310479    77.406912    73.900780  \n",
       "std       23.170707    13.227478     9.578922    11.813313    13.935841  \n",
       "min       11.000000    30.000000    34.000000    30.000000    22.000000  \n",
       "25%       38.000000    69.000000    78.000000    70.000000    64.250000  \n",
       "50%       61.000000    78.000000    85.000000    79.000000    76.000000  \n",
       "75%       81.000000    86.000000    90.000000    86.000000    85.000000  \n",
       "max       99.000000    99.000000    99.000000    99.000000    99.000000  \n",
       "\n",
       "[8 rows x 34 columns]"
      ]
     },
     "execution_count": 403,
     "metadata": {},
     "output_type": "execute_result"
    }
   ],
   "source": [
    "# Обзорные данные о числовых признаках\n",
    "df.describe()"
   ]
  },
  {
   "cell_type": "code",
   "execution_count": 404,
   "metadata": {
    "colab": {
     "base_uri": "https://localhost:8080/"
    },
    "id": "IywM9jcZ43r3",
    "outputId": "e4775dc8-6fda-4968-b9ab-216980c5143e"
   },
   "outputs": [
    {
     "data": {
      "text/plain": [
       "24"
      ]
     },
     "execution_count": 404,
     "metadata": {},
     "output_type": "execute_result"
    }
   ],
   "source": [
    "# Поиск дубликатов\n",
    "df.duplicated().sum()"
   ]
  },
  {
   "cell_type": "code",
   "execution_count": 405,
   "metadata": {
    "id": "tWuoYFuF44aj"
   },
   "outputs": [],
   "source": [
    "# Удаление дубликатов\n",
    "df = df.drop_duplicates()"
   ]
  },
  {
   "cell_type": "markdown",
   "metadata": {
    "id": "9QKaNnhqRBJS"
   },
   "source": [
    "### Описание столбцов"
   ]
  },
  {
   "cell_type": "code",
   "execution_count": 406,
   "metadata": {
    "colab": {
     "base_uri": "https://localhost:8080/"
    },
    "id": "RqR-oaiS1hb0",
    "outputId": "319d9a96-58de-4a03-f1a1-9d82eeb4ff31"
   },
   "outputs": [
    {
     "name": "stdout",
     "output_type": "stream",
     "text": [
      "<class 'pandas.core.frame.DataFrame'>\n",
      "Int64Index: 1770 entries, 0 to 1793\n",
      "Data columns (total 46 columns):\n",
      " #   Column          Non-Null Count  Dtype \n",
      "---  ------          --------------  ----- \n",
      " 0   Name            1770 non-null   object\n",
      " 1   Card Type       1770 non-null   object\n",
      " 2   Nation          1770 non-null   object\n",
      " 3   Club            1770 non-null   object\n",
      " 4   League          1770 non-null   object\n",
      " 5   Skills          1770 non-null   int64 \n",
      " 6   W/F             1770 non-null   int64 \n",
      " 7   W/R             1770 non-null   object\n",
      " 8   Foot            1767 non-null   object\n",
      " 9   Age             1770 non-null   int64 \n",
      " 10  Height          1770 non-null   object\n",
      " 11  Weight          1770 non-null   object\n",
      " 12  Body Type       1770 non-null   object\n",
      " 13  Position        1770 non-null   object\n",
      " 14  Alt. Position   1770 non-null   object\n",
      " 15  Rating          1770 non-null   int64 \n",
      " 16  Price           1770 non-null   int64 \n",
      " 17  Acceleration    1770 non-null   int64 \n",
      " 18  Sprint Speed    1770 non-null   int64 \n",
      " 19  Positioning     1770 non-null   int64 \n",
      " 20  Finishing       1770 non-null   int64 \n",
      " 21  Shot Power      1770 non-null   int64 \n",
      " 22  Long Shots      1770 non-null   int64 \n",
      " 23  Volleys         1770 non-null   int64 \n",
      " 24  Penalties       1770 non-null   int64 \n",
      " 25  Vision          1770 non-null   int64 \n",
      " 26  Crossing        1770 non-null   int64 \n",
      " 27  FK. Acc.        1770 non-null   int64 \n",
      " 28  Short Pass      1770 non-null   int64 \n",
      " 29  Long Pass       1770 non-null   int64 \n",
      " 30  Curve           1770 non-null   int64 \n",
      " 31  Agility         1770 non-null   int64 \n",
      " 32  Balance         1770 non-null   int64 \n",
      " 33  Reactions       1770 non-null   int64 \n",
      " 34  Ball Control    1770 non-null   int64 \n",
      " 35  Dribbling       1770 non-null   int64 \n",
      " 36  Composure       1770 non-null   int64 \n",
      " 37  Interceptions   1770 non-null   int64 \n",
      " 38  Heading Acc.    1770 non-null   int64 \n",
      " 39  Def. Awareness  1770 non-null   int64 \n",
      " 40  Stand Tackle    1770 non-null   int64 \n",
      " 41  Slide Tackle    1770 non-null   int64 \n",
      " 42  Jumping         1770 non-null   int64 \n",
      " 43  Stamina         1770 non-null   int64 \n",
      " 44  Strength        1770 non-null   int64 \n",
      " 45  Aggression      1770 non-null   int64 \n",
      "dtypes: int64(34), object(12)\n",
      "memory usage: 649.9+ KB\n"
     ]
    }
   ],
   "source": [
    "df.info()"
   ]
  },
  {
   "cell_type": "code",
   "execution_count": 407,
   "metadata": {
    "colab": {
     "base_uri": "https://localhost:8080/"
    },
    "id": "TQV56ameOpY2",
    "outputId": "091a12a5-1a13-4528-a814-074c2556e128"
   },
   "outputs": [
    {
     "data": {
      "text/plain": [
       "Index(['Name', 'Card Type', 'Nation', 'Club', 'League', 'Skills', 'W/F', 'W/R',\n",
       "       'Foot', 'Age', 'Height', 'Weight', 'Body Type', 'Position',\n",
       "       'Alt. Position', 'Rating', 'Price', 'Acceleration', 'Sprint Speed',\n",
       "       'Positioning', 'Finishing', 'Shot Power', 'Long Shots', 'Volleys',\n",
       "       'Penalties', 'Vision', 'Crossing', 'FK. Acc.', 'Short Pass',\n",
       "       'Long Pass', 'Curve', 'Agility', 'Balance', 'Reactions', 'Ball Control',\n",
       "       'Dribbling', 'Composure', 'Interceptions', 'Heading Acc.',\n",
       "       'Def. Awareness', 'Stand Tackle', 'Slide Tackle', 'Jumping', 'Stamina',\n",
       "       'Strength', 'Aggression'],\n",
       "      dtype='object')"
      ]
     },
     "execution_count": 407,
     "metadata": {},
     "output_type": "execute_result"
    }
   ],
   "source": [
    "df.columns #посмотрим на получившиеся столбцы"
   ]
  },
  {
   "cell_type": "code",
   "execution_count": 408,
   "metadata": {
    "colab": {
     "base_uri": "https://localhost:8080/"
    },
    "id": "Uw_F-1HM-ywB",
    "outputId": "af1e02fa-9704-44a6-c3b5-a7cd0ae60d98"
   },
   "outputs": [
    {
     "name": "stdout",
     "output_type": "stream",
     "text": [
      "\n"
     ]
    }
   ],
   "source": [
    "''' \n",
    "'Name': Имя игрока.\n",
    "'Card Type': Тип карты игрока.\n",
    "'Nation': Нация игрока.\n",
    "'Club': Клуб игрока.\n",
    "'League': Лига игрока.\n",
    "'Skills': Уровень навыков игрока.\n",
    "'W/F': Уровень слабой ноги игрока.\n",
    "'W/R': Работоспособность игрока в атаке/защите\n",
    "'Foot': Предпочитаемая нога игрока.\n",
    "'Age': Возраст игрока.\n",
    "'Height': Рост игрока.\n",
    "'Weight': Вес игрока.\n",
    "'Body Type': Тип телосложения игрока.\n",
    "'Position': Основная позиция игрока.\n",
    "'Alt. Position': Альтернативная позиция игрока.\n",
    "'Rating': Общий рейтинг игрока.\n",
    "'Price': Цена игрока.\n",
    "'Acceleration': Показатель ускорения игрока.\n",
    "'Sprint Speed': Показатель скорости игрока.\n",
    "'Positioning': Показатель позиционирования игрока.\n",
    "'Finishing': Показатель завершения игрока.\n",
    "'Shot Power': Показатель силы удара игрока.\n",
    "'Long Shots': Показатель дальних ударов игрока.\n",
    "'Volleys': Показатель волей игрока.\n",
    "'Penalties': Показатель пенальти игрока.\n",
    "'Vision': Показатель обзорности игры игрока.\n",
    "'Crossing': Показатель перекладины игрока.\n",
    "'FK. Acc.': Показатель точности ударов с фрик-таков игрока.\n",
    "'Short Pass': Показатель коротких пасов игрока.\n",
    "'Long Pass': Показатель дальних пасов игрока.\n",
    "'Curve': Показатель кривых ударов игрока.\n",
    "'Agility': Показатель проворства игрока.\n",
    "'Balance': Показатель равновесия игрока.\n",
    "'Reactions': Показатель реакций\n",
    "'Ball Control': Показатель контроля мяча игрока.\n",
    "'Dribbling': Показатель дриблинга игрока.\n",
    "'Composure': Показатель спокойствия игрока.\n",
    "'Interceptions': Показатель перехватов игрока.\n",
    "'Heading Acc.': Показатель точности головы игрока.\n",
    "'Def. Awareness': Показатель осведомленности в обороне игрока.\n",
    "'Stand Tackle': Показатель стоячих отборов игрока.\n",
    "'Slide Tackle': Показатель горизонтальных отборов игрока.\n",
    "'Jumping': Показатель прыжков игрока.\n",
    "'Stamina': Показатель выносливости игрока.\n",
    "'Strength': Показатель силы игрока.\n",
    "'Aggression': Показатель агрессии игрока.\n",
    "''' \n",
    "\n",
    "print()"
   ]
  },
  {
   "cell_type": "markdown",
   "metadata": {
    "colab": {
     "base_uri": "https://localhost:8080/"
    },
    "id": "mMQM1utN-6rl",
    "outputId": "01243973-1564-4811-eb52-9b750afab9f8"
   },
   "source": [
    "- После анализа форматов столбцов, было замечено, что столбцы \"Height\" и \"Weight\" представлены в формате object\n",
    "- Эти столбцы должны иметь формат int-64 и представлять из себя числовые признаки\n"
   ]
  },
  {
   "cell_type": "code",
   "execution_count": 409,
   "metadata": {
    "colab": {
     "base_uri": "https://localhost:8080/"
    },
    "id": "i3PeJBhz3A3U",
    "outputId": "c1abff8b-f1be-49e7-c397-5825599e18d1"
   },
   "outputs": [
    {
     "data": {
      "text/plain": [
       "0     6' 5\"\n",
       "1    5' 11\"\n",
       "2    5' 11\"\n",
       "3     5' 9\"\n",
       "4     6' 2\"\n",
       "Name: Height, dtype: object"
      ]
     },
     "execution_count": 409,
     "metadata": {},
     "output_type": "execute_result"
    }
   ],
   "source": [
    "# Посмотрим, почему в столце Height данные хранятся в формате object\n",
    "df.Height.head()"
   ]
  },
  {
   "cell_type": "code",
   "execution_count": 410,
   "metadata": {
    "colab": {
     "base_uri": "https://localhost:8080/"
    },
    "id": "44QbcBmJ3vWF",
    "outputId": "52bc37b9-f8b7-41f5-c2e9-a6fef45ac05d"
   },
   "outputs": [
    {
     "data": {
      "text/plain": [
       "0    77\n",
       "1    71\n",
       "2    71\n",
       "3    69\n",
       "4    74\n",
       "Name: Height, dtype: int32"
      ]
     },
     "execution_count": 410,
     "metadata": {},
     "output_type": "execute_result"
    }
   ],
   "source": [
    "# Приведем данные в столбце Height к числовому формату в дюймах\n",
    "df['Height'] = df['Height'].str.replace(\"'\", \"\").str.replace('\"', '')\n",
    "df['Height'] = df['Height'].apply(lambda x: round((int(x.split(' ')[0]) * 12 + int(x.split(' ')[1])))).astype(int)\n",
    "df.Height.head()"
   ]
  },
  {
   "cell_type": "code",
   "execution_count": 411,
   "metadata": {},
   "outputs": [
    {
     "data": {
      "text/plain": [
       "array([77, 71, 69, 74, 76, 73, 68, 72, 75, 70, 66, 67, 79, 78, 65, 80, 64,\n",
       "       62,  0])"
      ]
     },
     "execution_count": 411,
     "metadata": {},
     "output_type": "execute_result"
    }
   ],
   "source": [
    "df['Height'].unique()"
   ]
  },
  {
   "cell_type": "code",
   "execution_count": 412,
   "metadata": {
    "colab": {
     "base_uri": "https://localhost:8080/"
    },
    "id": "IqTO7UzTBvs6",
    "outputId": "156e18d6-7816-4e24-97e7-21772349c481"
   },
   "outputs": [
    {
     "data": {
      "text/plain": [
       "0    94kg\n",
       "1    70kg\n",
       "2    70kg\n",
       "3    71kg\n",
       "4    82kg\n",
       "Name: Weight, dtype: object"
      ]
     },
     "execution_count": 412,
     "metadata": {},
     "output_type": "execute_result"
    }
   ],
   "source": [
    "# Посмотрим, почему в столце Weight данные хранятся в формате object\n",
    "df['Weight'].head()"
   ]
  },
  {
   "cell_type": "code",
   "execution_count": 413,
   "metadata": {
    "colab": {
     "base_uri": "https://localhost:8080/"
    },
    "id": "3__Z-cSK6yEA",
    "outputId": "d6f07597-06f6-49ff-ee1e-457389020a83"
   },
   "outputs": [
    {
     "data": {
      "text/plain": [
       "0    94\n",
       "1    70\n",
       "2    70\n",
       "3    71\n",
       "4    82\n",
       "Name: Weight, dtype: int32"
      ]
     },
     "execution_count": 413,
     "metadata": {},
     "output_type": "execute_result"
    }
   ],
   "source": [
    "# Приведем данные в столбце Weight к числовому формату\n",
    "df['Weight'] = df['Weight'].str.replace(\"kg\", '').astype(int)\n",
    "df['Weight'].head()"
   ]
  },
  {
   "cell_type": "code",
   "execution_count": 414,
   "metadata": {},
   "outputs": [],
   "source": [
    "# Создадим столбец с суммой всех стат игрока\n",
    "df['Sum Of Stats'] = df.iloc[:, 17:].sum(axis = 1)"
   ]
  },
  {
   "cell_type": "code",
   "execution_count": 415,
   "metadata": {
    "scrolled": true
   },
   "outputs": [
    {
     "data": {
      "text/plain": [
       "Name              0\n",
       "Card Type         0\n",
       "Nation            0\n",
       "Club              0\n",
       "League            0\n",
       "Skills            0\n",
       "W/F               0\n",
       "W/R               0\n",
       "Foot              3\n",
       "Age               0\n",
       "Height            0\n",
       "Weight            0\n",
       "Body Type         0\n",
       "Position          0\n",
       "Alt. Position     0\n",
       "Rating            0\n",
       "Price             0\n",
       "Acceleration      0\n",
       "Sprint Speed      0\n",
       "Positioning       0\n",
       "Finishing         0\n",
       "Shot Power        0\n",
       "Long Shots        0\n",
       "Volleys           0\n",
       "Penalties         0\n",
       "Vision            0\n",
       "Crossing          0\n",
       "FK. Acc.          0\n",
       "Short Pass        0\n",
       "Long Pass         0\n",
       "Curve             0\n",
       "Agility           0\n",
       "Balance           0\n",
       "Reactions         0\n",
       "Ball Control      0\n",
       "Dribbling         0\n",
       "Composure         0\n",
       "Interceptions     0\n",
       "Heading Acc.      0\n",
       "Def. Awareness    0\n",
       "Stand Tackle      0\n",
       "Slide Tackle      0\n",
       "Jumping           0\n",
       "Stamina           0\n",
       "Strength          0\n",
       "Aggression        0\n",
       "Sum Of Stats      0\n",
       "dtype: int64"
      ]
     },
     "execution_count": 415,
     "metadata": {},
     "output_type": "execute_result"
    }
   ],
   "source": [
    "# Посмотрим на пропуски\n",
    "df.isna().sum()"
   ]
  },
  {
   "cell_type": "code",
   "execution_count": 416,
   "metadata": {},
   "outputs": [],
   "source": [
    "# Заменим рабочую ногу на самое часто встречающееся значение\n",
    "df['Foot'].fillna(df['Foot'].value_counts().index[0], inplace = True)"
   ]
  },
  {
   "cell_type": "code",
   "execution_count": 417,
   "metadata": {},
   "outputs": [
    {
     "data": {
      "text/plain": [
       "Right    1348\n",
       "Left      422\n",
       "Name: Foot, dtype: int64"
      ]
     },
     "execution_count": 417,
     "metadata": {},
     "output_type": "execute_result"
    }
   ],
   "source": [
    "# Также там есть странное значение, поменяем его\n",
    "df['Foot'].replace('REight', 'Right', inplace = True)\n",
    "df['Foot'].value_counts()"
   ]
  },
  {
   "cell_type": "code",
   "execution_count": 418,
   "metadata": {
    "scrolled": true
   },
   "outputs": [
    {
     "data": {
      "text/plain": [
       "Name                0\n",
       "Card Type           0\n",
       "Nation              0\n",
       "Club                0\n",
       "League              0\n",
       "Skills              0\n",
       "W/F                 0\n",
       "W/R                 0\n",
       "Foot                0\n",
       "Age                15\n",
       "Height              3\n",
       "Weight              6\n",
       "Body Type           0\n",
       "Position            0\n",
       "Alt. Position       0\n",
       "Rating              0\n",
       "Price             348\n",
       "Acceleration        0\n",
       "Sprint Speed        0\n",
       "Positioning         0\n",
       "Finishing           0\n",
       "Shot Power          0\n",
       "Long Shots          0\n",
       "Volleys             0\n",
       "Penalties           0\n",
       "Vision              0\n",
       "Crossing            0\n",
       "FK. Acc.            0\n",
       "Short Pass          0\n",
       "Long Pass           0\n",
       "Curve               0\n",
       "Agility             0\n",
       "Balance             0\n",
       "Reactions           0\n",
       "Ball Control        0\n",
       "Dribbling           0\n",
       "Composure           0\n",
       "Interceptions       0\n",
       "Heading Acc.        0\n",
       "Def. Awareness      0\n",
       "Stand Tackle        0\n",
       "Slide Tackle        0\n",
       "Jumping             0\n",
       "Stamina             0\n",
       "Strength            0\n",
       "Aggression          0\n",
       "Sum Of Stats        0\n",
       "dtype: int64"
      ]
     },
     "execution_count": 418,
     "metadata": {},
     "output_type": "execute_result"
    }
   ],
   "source": [
    "# Посмотрим на нулевые значения\n",
    "(df == 0).sum()"
   ]
  },
  {
   "cell_type": "code",
   "execution_count": 419,
   "metadata": {},
   "outputs": [
    {
     "data": {
      "text/html": [
       "<div>\n",
       "<style scoped>\n",
       "    .dataframe tbody tr th:only-of-type {\n",
       "        vertical-align: middle;\n",
       "    }\n",
       "\n",
       "    .dataframe tbody tr th {\n",
       "        vertical-align: top;\n",
       "    }\n",
       "\n",
       "    .dataframe thead th {\n",
       "        text-align: right;\n",
       "    }\n",
       "</style>\n",
       "<table border=\"1\" class=\"dataframe\">\n",
       "  <thead>\n",
       "    <tr style=\"text-align: right;\">\n",
       "      <th></th>\n",
       "      <th>Name</th>\n",
       "      <th>Card Type</th>\n",
       "      <th>Nation</th>\n",
       "      <th>Club</th>\n",
       "      <th>League</th>\n",
       "      <th>Skills</th>\n",
       "      <th>W/F</th>\n",
       "      <th>W/R</th>\n",
       "      <th>Foot</th>\n",
       "      <th>Age</th>\n",
       "      <th>...</th>\n",
       "      <th>Interceptions</th>\n",
       "      <th>Heading Acc.</th>\n",
       "      <th>Def. Awareness</th>\n",
       "      <th>Stand Tackle</th>\n",
       "      <th>Slide Tackle</th>\n",
       "      <th>Jumping</th>\n",
       "      <th>Stamina</th>\n",
       "      <th>Strength</th>\n",
       "      <th>Aggression</th>\n",
       "      <th>Sum Of Stats</th>\n",
       "    </tr>\n",
       "  </thead>\n",
       "  <tbody>\n",
       "    <tr>\n",
       "      <th>1226</th>\n",
       "      <td>Ronaldo Nazario</td>\n",
       "      <td>World Cup Icon</td>\n",
       "      <td>Brazil</td>\n",
       "      <td>Icons</td>\n",
       "      <td>ICO</td>\n",
       "      <td>5</td>\n",
       "      <td>5</td>\n",
       "      <td>M/M</td>\n",
       "      <td>Right</td>\n",
       "      <td>0</td>\n",
       "      <td>...</td>\n",
       "      <td>41</td>\n",
       "      <td>83</td>\n",
       "      <td>40</td>\n",
       "      <td>45</td>\n",
       "      <td>39</td>\n",
       "      <td>81</td>\n",
       "      <td>82</td>\n",
       "      <td>87</td>\n",
       "      <td>49</td>\n",
       "      <td>2325</td>\n",
       "    </tr>\n",
       "    <tr>\n",
       "      <th>1227</th>\n",
       "      <td>Zinedine Zidane</td>\n",
       "      <td>World Cup Icon</td>\n",
       "      <td>France</td>\n",
       "      <td>Icons</td>\n",
       "      <td>ICO</td>\n",
       "      <td>5</td>\n",
       "      <td>5</td>\n",
       "      <td>M/M</td>\n",
       "      <td>Right</td>\n",
       "      <td>0</td>\n",
       "      <td>...</td>\n",
       "      <td>84</td>\n",
       "      <td>86</td>\n",
       "      <td>63</td>\n",
       "      <td>75</td>\n",
       "      <td>66</td>\n",
       "      <td>74</td>\n",
       "      <td>87</td>\n",
       "      <td>87</td>\n",
       "      <td>78</td>\n",
       "      <td>2516</td>\n",
       "    </tr>\n",
       "    <tr>\n",
       "      <th>1292</th>\n",
       "      <td>Johan Cruyff</td>\n",
       "      <td>World Cup Icon</td>\n",
       "      <td>Netherlands</td>\n",
       "      <td>Icons</td>\n",
       "      <td>ICO</td>\n",
       "      <td>5</td>\n",
       "      <td>5</td>\n",
       "      <td>H/L</td>\n",
       "      <td>Right</td>\n",
       "      <td>0</td>\n",
       "      <td>...</td>\n",
       "      <td>43</td>\n",
       "      <td>62</td>\n",
       "      <td>40</td>\n",
       "      <td>35</td>\n",
       "      <td>39</td>\n",
       "      <td>66</td>\n",
       "      <td>82</td>\n",
       "      <td>70</td>\n",
       "      <td>71</td>\n",
       "      <td>2308</td>\n",
       "    </tr>\n",
       "    <tr>\n",
       "      <th>1294</th>\n",
       "      <td>Cafu</td>\n",
       "      <td>World Cup Icon</td>\n",
       "      <td>Brazil</td>\n",
       "      <td>Icons</td>\n",
       "      <td>ICO</td>\n",
       "      <td>4</td>\n",
       "      <td>4</td>\n",
       "      <td>H/M</td>\n",
       "      <td>Right</td>\n",
       "      <td>0</td>\n",
       "      <td>...</td>\n",
       "      <td>92</td>\n",
       "      <td>81</td>\n",
       "      <td>90</td>\n",
       "      <td>91</td>\n",
       "      <td>86</td>\n",
       "      <td>80</td>\n",
       "      <td>95</td>\n",
       "      <td>85</td>\n",
       "      <td>76</td>\n",
       "      <td>2348</td>\n",
       "    </tr>\n",
       "    <tr>\n",
       "      <th>1328</th>\n",
       "      <td>Luis Figo</td>\n",
       "      <td>World Cup Icon</td>\n",
       "      <td>Portugal</td>\n",
       "      <td>Icons</td>\n",
       "      <td>ICO</td>\n",
       "      <td>5</td>\n",
       "      <td>4</td>\n",
       "      <td>H/L</td>\n",
       "      <td>Right</td>\n",
       "      <td>0</td>\n",
       "      <td>...</td>\n",
       "      <td>41</td>\n",
       "      <td>63</td>\n",
       "      <td>33</td>\n",
       "      <td>40</td>\n",
       "      <td>37</td>\n",
       "      <td>70</td>\n",
       "      <td>86</td>\n",
       "      <td>78</td>\n",
       "      <td>76</td>\n",
       "      <td>2260</td>\n",
       "    </tr>\n",
       "    <tr>\n",
       "      <th>1329</th>\n",
       "      <td>Emilio Butragueno</td>\n",
       "      <td>World Cup Icon</td>\n",
       "      <td>Spain</td>\n",
       "      <td>Icons</td>\n",
       "      <td>ICO</td>\n",
       "      <td>4</td>\n",
       "      <td>5</td>\n",
       "      <td>M/L</td>\n",
       "      <td>Right</td>\n",
       "      <td>0</td>\n",
       "      <td>...</td>\n",
       "      <td>45</td>\n",
       "      <td>87</td>\n",
       "      <td>36</td>\n",
       "      <td>34</td>\n",
       "      <td>32</td>\n",
       "      <td>85</td>\n",
       "      <td>85</td>\n",
       "      <td>66</td>\n",
       "      <td>51</td>\n",
       "      <td>2247</td>\n",
       "    </tr>\n",
       "    <tr>\n",
       "      <th>1330</th>\n",
       "      <td>Bobby Moore</td>\n",
       "      <td>World Cup Icon</td>\n",
       "      <td>England</td>\n",
       "      <td>Icons</td>\n",
       "      <td>ICO</td>\n",
       "      <td>2</td>\n",
       "      <td>3</td>\n",
       "      <td>M/M</td>\n",
       "      <td>Right</td>\n",
       "      <td>0</td>\n",
       "      <td>...</td>\n",
       "      <td>91</td>\n",
       "      <td>87</td>\n",
       "      <td>93</td>\n",
       "      <td>93</td>\n",
       "      <td>91</td>\n",
       "      <td>83</td>\n",
       "      <td>92</td>\n",
       "      <td>82</td>\n",
       "      <td>79</td>\n",
       "      <td>2310</td>\n",
       "    </tr>\n",
       "    <tr>\n",
       "      <th>1381</th>\n",
       "      <td>Didier Drogba</td>\n",
       "      <td>World Cup Icon</td>\n",
       "      <td>Ivory Coast</td>\n",
       "      <td>Icons</td>\n",
       "      <td>ICO</td>\n",
       "      <td>4</td>\n",
       "      <td>5</td>\n",
       "      <td>H/H</td>\n",
       "      <td>Right</td>\n",
       "      <td>0</td>\n",
       "      <td>...</td>\n",
       "      <td>46</td>\n",
       "      <td>94</td>\n",
       "      <td>39</td>\n",
       "      <td>42</td>\n",
       "      <td>38</td>\n",
       "      <td>90</td>\n",
       "      <td>88</td>\n",
       "      <td>94</td>\n",
       "      <td>78</td>\n",
       "      <td>2263</td>\n",
       "    </tr>\n",
       "    <tr>\n",
       "      <th>1382</th>\n",
       "      <td>Robin van Persie</td>\n",
       "      <td>World Cup Icon</td>\n",
       "      <td>Netherlands</td>\n",
       "      <td>Icons</td>\n",
       "      <td>ICO</td>\n",
       "      <td>4</td>\n",
       "      <td>4</td>\n",
       "      <td>H/L</td>\n",
       "      <td>Left</td>\n",
       "      <td>0</td>\n",
       "      <td>...</td>\n",
       "      <td>49</td>\n",
       "      <td>79</td>\n",
       "      <td>37</td>\n",
       "      <td>43</td>\n",
       "      <td>36</td>\n",
       "      <td>68</td>\n",
       "      <td>84</td>\n",
       "      <td>77</td>\n",
       "      <td>58</td>\n",
       "      <td>2292</td>\n",
       "    </tr>\n",
       "    <tr>\n",
       "      <th>1383</th>\n",
       "      <td>Michael Laudrup</td>\n",
       "      <td>World Cup Icon</td>\n",
       "      <td>Denmark</td>\n",
       "      <td>Icons</td>\n",
       "      <td>ICO</td>\n",
       "      <td>4</td>\n",
       "      <td>4</td>\n",
       "      <td>M/M</td>\n",
       "      <td>Right</td>\n",
       "      <td>0</td>\n",
       "      <td>...</td>\n",
       "      <td>36</td>\n",
       "      <td>68</td>\n",
       "      <td>29</td>\n",
       "      <td>37</td>\n",
       "      <td>27</td>\n",
       "      <td>64</td>\n",
       "      <td>77</td>\n",
       "      <td>64</td>\n",
       "      <td>41</td>\n",
       "      <td>2140</td>\n",
       "    </tr>\n",
       "    <tr>\n",
       "      <th>1425</th>\n",
       "      <td>Emmanuel Petit</td>\n",
       "      <td>World Cup Icon</td>\n",
       "      <td>France</td>\n",
       "      <td>Icons</td>\n",
       "      <td>ICO</td>\n",
       "      <td>3</td>\n",
       "      <td>3</td>\n",
       "      <td>H/H</td>\n",
       "      <td>Left</td>\n",
       "      <td>0</td>\n",
       "      <td>...</td>\n",
       "      <td>89</td>\n",
       "      <td>78</td>\n",
       "      <td>86</td>\n",
       "      <td>88</td>\n",
       "      <td>84</td>\n",
       "      <td>79</td>\n",
       "      <td>92</td>\n",
       "      <td>88</td>\n",
       "      <td>89</td>\n",
       "      <td>2346</td>\n",
       "    </tr>\n",
       "    <tr>\n",
       "      <th>1426</th>\n",
       "      <td>Hernan Crespo</td>\n",
       "      <td>World Cup Icon</td>\n",
       "      <td>Argentina</td>\n",
       "      <td>Icons</td>\n",
       "      <td>ICO</td>\n",
       "      <td>4</td>\n",
       "      <td>5</td>\n",
       "      <td>M/L</td>\n",
       "      <td>Right</td>\n",
       "      <td>0</td>\n",
       "      <td>...</td>\n",
       "      <td>33</td>\n",
       "      <td>91</td>\n",
       "      <td>32</td>\n",
       "      <td>35</td>\n",
       "      <td>34</td>\n",
       "      <td>86</td>\n",
       "      <td>76</td>\n",
       "      <td>76</td>\n",
       "      <td>49</td>\n",
       "      <td>2151</td>\n",
       "    </tr>\n",
       "    <tr>\n",
       "      <th>1632</th>\n",
       "      <td>Jordan Larsson</td>\n",
       "      <td>Non-Inform</td>\n",
       "      <td>Sweden</td>\n",
       "      <td>F.C. Kobenhavn</td>\n",
       "      <td>DEN 1</td>\n",
       "      <td>3</td>\n",
       "      <td>3</td>\n",
       "      <td>H/H</td>\n",
       "      <td>Right</td>\n",
       "      <td>0</td>\n",
       "      <td>...</td>\n",
       "      <td>38</td>\n",
       "      <td>64</td>\n",
       "      <td>28</td>\n",
       "      <td>15</td>\n",
       "      <td>16</td>\n",
       "      <td>72</td>\n",
       "      <td>75</td>\n",
       "      <td>65</td>\n",
       "      <td>66</td>\n",
       "      <td>1934</td>\n",
       "    </tr>\n",
       "    <tr>\n",
       "      <th>1646</th>\n",
       "      <td>Jordan Larsson</td>\n",
       "      <td>Non-Inform</td>\n",
       "      <td>Sweden</td>\n",
       "      <td>FC Schalke 04</td>\n",
       "      <td>GER 1</td>\n",
       "      <td>3</td>\n",
       "      <td>3</td>\n",
       "      <td>H/H</td>\n",
       "      <td>Right</td>\n",
       "      <td>0</td>\n",
       "      <td>...</td>\n",
       "      <td>38</td>\n",
       "      <td>64</td>\n",
       "      <td>28</td>\n",
       "      <td>15</td>\n",
       "      <td>16</td>\n",
       "      <td>72</td>\n",
       "      <td>75</td>\n",
       "      <td>65</td>\n",
       "      <td>66</td>\n",
       "      <td>1934</td>\n",
       "    </tr>\n",
       "    <tr>\n",
       "      <th>1648</th>\n",
       "      <td>Ezequiel Ponce</td>\n",
       "      <td>Non-Inform</td>\n",
       "      <td>Argentina</td>\n",
       "      <td>Elche CF</td>\n",
       "      <td>ESP 1</td>\n",
       "      <td>3</td>\n",
       "      <td>3</td>\n",
       "      <td>H/M</td>\n",
       "      <td>Right</td>\n",
       "      <td>0</td>\n",
       "      <td>...</td>\n",
       "      <td>29</td>\n",
       "      <td>75</td>\n",
       "      <td>39</td>\n",
       "      <td>30</td>\n",
       "      <td>28</td>\n",
       "      <td>79</td>\n",
       "      <td>70</td>\n",
       "      <td>74</td>\n",
       "      <td>55</td>\n",
       "      <td>1864</td>\n",
       "    </tr>\n",
       "  </tbody>\n",
       "</table>\n",
       "<p>15 rows × 47 columns</p>\n",
       "</div>"
      ],
      "text/plain": [
       "                   Name       Card Type       Nation            Club League  \\\n",
       "1226    Ronaldo Nazario  World Cup Icon       Brazil           Icons    ICO   \n",
       "1227    Zinedine Zidane  World Cup Icon       France           Icons    ICO   \n",
       "1292       Johan Cruyff  World Cup Icon  Netherlands           Icons    ICO   \n",
       "1294               Cafu  World Cup Icon       Brazil           Icons    ICO   \n",
       "1328          Luis Figo  World Cup Icon     Portugal           Icons    ICO   \n",
       "1329  Emilio Butragueno  World Cup Icon        Spain           Icons    ICO   \n",
       "1330        Bobby Moore  World Cup Icon      England           Icons    ICO   \n",
       "1381      Didier Drogba  World Cup Icon  Ivory Coast           Icons    ICO   \n",
       "1382   Robin van Persie  World Cup Icon  Netherlands           Icons    ICO   \n",
       "1383    Michael Laudrup  World Cup Icon      Denmark           Icons    ICO   \n",
       "1425     Emmanuel Petit  World Cup Icon       France           Icons    ICO   \n",
       "1426      Hernan Crespo  World Cup Icon    Argentina           Icons    ICO   \n",
       "1632     Jordan Larsson      Non-Inform       Sweden  F.C. Kobenhavn  DEN 1   \n",
       "1646     Jordan Larsson      Non-Inform       Sweden   FC Schalke 04  GER 1   \n",
       "1648     Ezequiel Ponce      Non-Inform    Argentina        Elche CF  ESP 1   \n",
       "\n",
       "      Skills  W/F  W/R   Foot  Age  ...  Interceptions  Heading Acc.  \\\n",
       "1226       5    5  M/M  Right    0  ...             41            83   \n",
       "1227       5    5  M/M  Right    0  ...             84            86   \n",
       "1292       5    5  H/L  Right    0  ...             43            62   \n",
       "1294       4    4  H/M  Right    0  ...             92            81   \n",
       "1328       5    4  H/L  Right    0  ...             41            63   \n",
       "1329       4    5  M/L  Right    0  ...             45            87   \n",
       "1330       2    3  M/M  Right    0  ...             91            87   \n",
       "1381       4    5  H/H  Right    0  ...             46            94   \n",
       "1382       4    4  H/L   Left    0  ...             49            79   \n",
       "1383       4    4  M/M  Right    0  ...             36            68   \n",
       "1425       3    3  H/H   Left    0  ...             89            78   \n",
       "1426       4    5  M/L  Right    0  ...             33            91   \n",
       "1632       3    3  H/H  Right    0  ...             38            64   \n",
       "1646       3    3  H/H  Right    0  ...             38            64   \n",
       "1648       3    3  H/M  Right    0  ...             29            75   \n",
       "\n",
       "     Def. Awareness Stand Tackle Slide Tackle  Jumping  Stamina  Strength  \\\n",
       "1226             40           45           39       81       82        87   \n",
       "1227             63           75           66       74       87        87   \n",
       "1292             40           35           39       66       82        70   \n",
       "1294             90           91           86       80       95        85   \n",
       "1328             33           40           37       70       86        78   \n",
       "1329             36           34           32       85       85        66   \n",
       "1330             93           93           91       83       92        82   \n",
       "1381             39           42           38       90       88        94   \n",
       "1382             37           43           36       68       84        77   \n",
       "1383             29           37           27       64       77        64   \n",
       "1425             86           88           84       79       92        88   \n",
       "1426             32           35           34       86       76        76   \n",
       "1632             28           15           16       72       75        65   \n",
       "1646             28           15           16       72       75        65   \n",
       "1648             39           30           28       79       70        74   \n",
       "\n",
       "      Aggression  Sum Of Stats  \n",
       "1226          49          2325  \n",
       "1227          78          2516  \n",
       "1292          71          2308  \n",
       "1294          76          2348  \n",
       "1328          76          2260  \n",
       "1329          51          2247  \n",
       "1330          79          2310  \n",
       "1381          78          2263  \n",
       "1382          58          2292  \n",
       "1383          41          2140  \n",
       "1425          89          2346  \n",
       "1426          49          2151  \n",
       "1632          66          1934  \n",
       "1646          66          1934  \n",
       "1648          55          1864  \n",
       "\n",
       "[15 rows x 47 columns]"
      ]
     },
     "execution_count": 419,
     "metadata": {},
     "output_type": "execute_result"
    }
   ],
   "source": [
    "df[df['Age'] == 0]"
   ]
  },
  {
   "cell_type": "code",
   "execution_count": 420,
   "metadata": {},
   "outputs": [
    {
     "data": {
      "text/plain": [
       "(1770,)"
      ]
     },
     "execution_count": 420,
     "metadata": {},
     "output_type": "execute_result"
    }
   ],
   "source": [
    "# Руками поменяем возраст, рост и вес игроков\n",
    "df.loc[df['Age'] == 0, 'Age'] = [44, 49, 74, 52, 48, 58, 80, 43, 38, 57, 50, 46, 25, 25, 26]\n",
    "df.loc[df['Height'] == 0, 'Height'] = [69, 69, 71]\n",
    "df.loc[df['Weight'] == 0, 'Weight'] = [86, 71, 76, 69, 69, 80]\n",
    "\n",
    "df.Age.shape"
   ]
  },
  {
   "cell_type": "code",
   "execution_count": 421,
   "metadata": {},
   "outputs": [
    {
     "data": {
      "text/plain": [
       "0"
      ]
     },
     "execution_count": 421,
     "metadata": {},
     "output_type": "execute_result"
    }
   ],
   "source": [
    "(df['Age'] == 0).sum()"
   ]
  },
  {
   "cell_type": "code",
   "execution_count": 422,
   "metadata": {
    "id": "H7AwWAvcRIpG",
    "scrolled": true
   },
   "outputs": [
    {
     "data": {
      "text/plain": [
       "Name                0\n",
       "Card Type           0\n",
       "Nation              0\n",
       "Club                0\n",
       "League              0\n",
       "Skills              0\n",
       "W/F                 0\n",
       "W/R                 0\n",
       "Foot                0\n",
       "Age                 0\n",
       "Height              0\n",
       "Weight              0\n",
       "Body Type           0\n",
       "Position            0\n",
       "Alt. Position       0\n",
       "Rating              0\n",
       "Price             348\n",
       "Acceleration        0\n",
       "Sprint Speed        0\n",
       "Positioning         0\n",
       "Finishing           0\n",
       "Shot Power          0\n",
       "Long Shots          0\n",
       "Volleys             0\n",
       "Penalties           0\n",
       "Vision              0\n",
       "Crossing            0\n",
       "FK. Acc.            0\n",
       "Short Pass          0\n",
       "Long Pass           0\n",
       "Curve               0\n",
       "Agility             0\n",
       "Balance             0\n",
       "Reactions           0\n",
       "Ball Control        0\n",
       "Dribbling           0\n",
       "Composure           0\n",
       "Interceptions       0\n",
       "Heading Acc.        0\n",
       "Def. Awareness      0\n",
       "Stand Tackle        0\n",
       "Slide Tackle        0\n",
       "Jumping             0\n",
       "Stamina             0\n",
       "Strength            0\n",
       "Aggression          0\n",
       "Sum Of Stats        0\n",
       "dtype: int64"
      ]
     },
     "execution_count": 422,
     "metadata": {},
     "output_type": "execute_result"
    }
   ],
   "source": [
    "(df == 0).sum()"
   ]
  },
  {
   "cell_type": "code",
   "execution_count": 423,
   "metadata": {},
   "outputs": [],
   "source": [
    "# Цену мы трогать не будем, так как эти игроков можно было получить только выполнив специальные задания или пожертвовав других игроков\n",
    "# Поэтому мы их отнесем в отдельную таблицу\n",
    "no_trade_players = df[df['Price'] == 0]\n",
    "df = df.drop(df[df['Price'] == 0].index)"
   ]
  },
  {
   "cell_type": "code",
   "execution_count": 424,
   "metadata": {},
   "outputs": [
    {
     "data": {
      "text/plain": [
       "True"
      ]
     },
     "execution_count": 424,
     "metadata": {},
     "output_type": "execute_result"
    }
   ],
   "source": [
    "(df != 0).any().any()"
   ]
  },
  {
   "cell_type": "code",
   "execution_count": 425,
   "metadata": {},
   "outputs": [],
   "source": [
    "# У карточек есть несколько альтернативных позиций. Если она одна, то указывается ее название. Поэтому заменим таких значений на 1\n",
    "df['Alt. Position'] = np.where(df['Alt. Position'].isin(['CF', 'CAM', 'RM', 'LM', 'CDM', 'CM', 'LWB', 'RWB', 'ST',\n",
    "       'RB', 'LB', 'LW', 'RW', 'CB']), 1, df['Alt. Position'])\n",
    "df['Alt. Position'] = df['Alt. Position'].astype(int)"
   ]
  },
  {
   "cell_type": "code",
   "execution_count": 426,
   "metadata": {},
   "outputs": [],
   "source": [
    "# У всех базовых карточек по умолчанию было указан тип \"Non-Inform\", поэтому заменим на оригинальный вид\n",
    "\n",
    "conditions = [\n",
    "    (df['Card Type'] == 'Non-Inform') & (df['Rating'] > 74),\n",
    "    (df['Card Type'] == 'Non-Inform') & (df['Rating'] >= 65) & (df['Rating'] <= 74),\n",
    "    (df['Card Type'] == 'Non-Inform') & (df['Rating'] < 65)\n",
    "]\n",
    "values = ['Gold', 'Silver', 'Bronze']\n",
    "\n",
    "df['Card Type'] = np.select(conditions, values, df['Card Type'])\n"
   ]
  },
  {
   "cell_type": "markdown",
   "metadata": {
    "id": "PRDS7zU4RJWR"
   },
   "source": [
    "### Анализ и визуализация данных"
   ]
  },
  {
   "cell_type": "code",
   "execution_count": 427,
   "metadata": {
    "id": "XWB9MA1bHgj7"
   },
   "outputs": [],
   "source": [
    "import seaborn as sns\n",
    "import matplotlib.pyplot as plt"
   ]
  },
  {
   "cell_type": "code",
   "execution_count": 428,
   "metadata": {
    "colab": {
     "base_uri": "https://localhost:8080/",
     "height": 787
    },
    "id": "zzidYmacfezy",
    "outputId": "d0c26ae6-f725-4032-f005-9c8e9fe40721"
   },
   "outputs": [
    {
     "data": {
      "image/png": "[encoded data removed]",
      "text/plain": [
       "<Figure size 864x432 with 1 Axes>"
      ]
     },
     "metadata": {
      "needs_background": "light"
     },
     "output_type": "display_data"
    }
   ],
   "source": [
    "plt.figure(figsize=(12, 6))\n",
    "sns.countplot(data=df, x='Card Type', color='steelblue')\n",
    "plt.title('Количество игроков по типу карточки', fontsize=20)\n",
    "plt.xlabel('Тип карточоки', fontsize=16)\n",
    "plt.ylabel('Количество игроков', fontsize=16)\n",
    "plt.xticks(rotation=90)\n",
    "plt.show()"
   ]
  },
  {
   "cell_type": "code",
   "execution_count": 429,
   "metadata": {},
   "outputs": [
    {
     "data": {
      "text/html": [
       "<div>\n",
       "<style scoped>\n",
       "    .dataframe tbody tr th:only-of-type {\n",
       "        vertical-align: middle;\n",
       "    }\n",
       "\n",
       "    .dataframe tbody tr th {\n",
       "        vertical-align: top;\n",
       "    }\n",
       "\n",
       "    .dataframe thead th {\n",
       "        text-align: right;\n",
       "    }\n",
       "</style>\n",
       "<table border=\"1\" class=\"dataframe\">\n",
       "  <thead>\n",
       "    <tr style=\"text-align: right;\">\n",
       "      <th></th>\n",
       "      <th>pop_est</th>\n",
       "      <th>continent</th>\n",
       "      <th>name</th>\n",
       "      <th>iso_a3</th>\n",
       "      <th>gdp_md_est</th>\n",
       "      <th>geometry</th>\n",
       "    </tr>\n",
       "  </thead>\n",
       "  <tbody>\n",
       "    <tr>\n",
       "      <th>0</th>\n",
       "      <td>889953.0</td>\n",
       "      <td>Oceania</td>\n",
       "      <td>Fiji</td>\n",
       "      <td>FJI</td>\n",
       "      <td>5496</td>\n",
       "      <td>MULTIPOLYGON (((180.00000 -16.06713, 180.00000...</td>\n",
       "    </tr>\n",
       "    <tr>\n",
       "      <th>1</th>\n",
       "      <td>58005463.0</td>\n",
       "      <td>Africa</td>\n",
       "      <td>Tanzania</td>\n",
       "      <td>TZA</td>\n",
       "      <td>63177</td>\n",
       "      <td>POLYGON ((33.90371 -0.95000, 34.07262 -1.05982...</td>\n",
       "    </tr>\n",
       "    <tr>\n",
       "      <th>2</th>\n",
       "      <td>603253.0</td>\n",
       "      <td>Africa</td>\n",
       "      <td>W. Sahara</td>\n",
       "      <td>ESH</td>\n",
       "      <td>907</td>\n",
       "      <td>POLYGON ((-8.66559 27.65643, -8.66512 27.58948...</td>\n",
       "    </tr>\n",
       "    <tr>\n",
       "      <th>3</th>\n",
       "      <td>37589262.0</td>\n",
       "      <td>North America</td>\n",
       "      <td>Canada</td>\n",
       "      <td>CAN</td>\n",
       "      <td>1736425</td>\n",
       "      <td>MULTIPOLYGON (((-122.84000 49.00000, -122.9742...</td>\n",
       "    </tr>\n",
       "    <tr>\n",
       "      <th>4</th>\n",
       "      <td>328239523.0</td>\n",
       "      <td>North America</td>\n",
       "      <td>United States of America</td>\n",
       "      <td>USA</td>\n",
       "      <td>21433226</td>\n",
       "      <td>MULTIPOLYGON (((-122.84000 49.00000, -120.0000...</td>\n",
       "    </tr>\n",
       "    <tr>\n",
       "      <th>...</th>\n",
       "      <td>...</td>\n",
       "      <td>...</td>\n",
       "      <td>...</td>\n",
       "      <td>...</td>\n",
       "      <td>...</td>\n",
       "      <td>...</td>\n",
       "    </tr>\n",
       "    <tr>\n",
       "      <th>172</th>\n",
       "      <td>6944975.0</td>\n",
       "      <td>Europe</td>\n",
       "      <td>Serbia</td>\n",
       "      <td>SRB</td>\n",
       "      <td>51475</td>\n",
       "      <td>POLYGON ((18.82982 45.90887, 18.82984 45.90888...</td>\n",
       "    </tr>\n",
       "    <tr>\n",
       "      <th>173</th>\n",
       "      <td>622137.0</td>\n",
       "      <td>Europe</td>\n",
       "      <td>Montenegro</td>\n",
       "      <td>MNE</td>\n",
       "      <td>5542</td>\n",
       "      <td>POLYGON ((20.07070 42.58863, 19.80161 42.50009...</td>\n",
       "    </tr>\n",
       "    <tr>\n",
       "      <th>174</th>\n",
       "      <td>1794248.0</td>\n",
       "      <td>Europe</td>\n",
       "      <td>Kosovo</td>\n",
       "      <td>-99</td>\n",
       "      <td>7926</td>\n",
       "      <td>POLYGON ((20.59025 41.85541, 20.52295 42.21787...</td>\n",
       "    </tr>\n",
       "    <tr>\n",
       "      <th>175</th>\n",
       "      <td>1394973.0</td>\n",
       "      <td>North America</td>\n",
       "      <td>Trinidad and Tobago</td>\n",
       "      <td>TTO</td>\n",
       "      <td>24269</td>\n",
       "      <td>POLYGON ((-61.68000 10.76000, -61.10500 10.890...</td>\n",
       "    </tr>\n",
       "    <tr>\n",
       "      <th>176</th>\n",
       "      <td>11062113.0</td>\n",
       "      <td>Africa</td>\n",
       "      <td>S. Sudan</td>\n",
       "      <td>SSD</td>\n",
       "      <td>11998</td>\n",
       "      <td>POLYGON ((30.83385 3.50917, 29.95350 4.17370, ...</td>\n",
       "    </tr>\n",
       "  </tbody>\n",
       "</table>\n",
       "<p>177 rows × 6 columns</p>\n",
       "</div>"
      ],
      "text/plain": [
       "         pop_est      continent                      name iso_a3  gdp_md_est  \\\n",
       "0       889953.0        Oceania                      Fiji    FJI        5496   \n",
       "1     58005463.0         Africa                  Tanzania    TZA       63177   \n",
       "2       603253.0         Africa                 W. Sahara    ESH         907   \n",
       "3     37589262.0  North America                    Canada    CAN     1736425   \n",
       "4    328239523.0  North America  United States of America    USA    21433226   \n",
       "..           ...            ...                       ...    ...         ...   \n",
       "172    6944975.0         Europe                    Serbia    SRB       51475   \n",
       "173     622137.0         Europe                Montenegro    MNE        5542   \n",
       "174    1794248.0         Europe                    Kosovo    -99        7926   \n",
       "175    1394973.0  North America       Trinidad and Tobago    TTO       24269   \n",
       "176   11062113.0         Africa                  S. Sudan    SSD       11998   \n",
       "\n",
       "                                              geometry  \n",
       "0    MULTIPOLYGON (((180.00000 -16.06713, 180.00000...  \n",
       "1    POLYGON ((33.90371 -0.95000, 34.07262 -1.05982...  \n",
       "2    POLYGON ((-8.66559 27.65643, -8.66512 27.58948...  \n",
       "3    MULTIPOLYGON (((-122.84000 49.00000, -122.9742...  \n",
       "4    MULTIPOLYGON (((-122.84000 49.00000, -120.0000...  \n",
       "..                                                 ...  \n",
       "172  POLYGON ((18.82982 45.90887, 18.82984 45.90888...  \n",
       "173  POLYGON ((20.07070 42.58863, 19.80161 42.50009...  \n",
       "174  POLYGON ((20.59025 41.85541, 20.52295 42.21787...  \n",
       "175  POLYGON ((-61.68000 10.76000, -61.10500 10.890...  \n",
       "176  POLYGON ((30.83385 3.50917, 29.95350 4.17370, ...  \n",
       "\n",
       "[177 rows x 6 columns]"
      ]
     },
     "execution_count": 429,
     "metadata": {},
     "output_type": "execute_result"
    }
   ],
   "source": [
    "import geopandas as gpd\n",
    "import warnings\n",
    "warnings.filterwarnings(\"ignore\")\n",
    "world = gpd.read_file(gpd.datasets.get_path('naturalearth_lowres')) # Загрузка базы данных по странам с их местоположением на карте\n",
    "world"
   ]
  },
  {
   "cell_type": "code",
   "execution_count": 430,
   "metadata": {},
   "outputs": [],
   "source": [
    "# Некоторые страны названы немного по-другому, поэтому поменяем\n",
    "df['Nation'].replace('England', 'United Kingdom', inplace = True)\n",
    "df['Nation'].replace('Scotland', 'United Kingdom', inplace = True)\n",
    "df['Nation'].replace('Northern Ireland', 'United Kingdom', inplace = True)\n",
    "df['Nation'].replace('Wales', 'United Kingdom', inplace = True)\n",
    "df['Nation'].replace('United States', 'United States of America', inplace = True)"
   ]
  },
  {
   "cell_type": "code",
   "execution_count": 431,
   "metadata": {
    "colab": {
     "base_uri": "https://localhost:8080/",
     "height": 569
    },
    "id": "bHgOCXMQPT2e",
    "outputId": "60dec444-ac66-40f3-ece9-9df477ca2c2c"
   },
   "outputs": [
    {
     "data": {
      "image/png": "[encoded data removed]",
      "text/plain": [
       "<Figure size 1800x1080 with 2 Axes>"
      ]
     },
     "metadata": {
      "needs_background": "light"
     },
     "output_type": "display_data"
    }
   ],
   "source": [
    "nation_counts = df['Nation'].value_counts() # Подсчет статистики по распределению национальностей игроков\n",
    "merged = world.merge(nation_counts, left_on='name', right_index=True) # Объединение статистики по игрокам и расположения стран\n",
    "\n",
    "# Построение карты\n",
    "fig, ax = plt.subplots(figsize=(25, 15))\n",
    "merged.plot(column='Nation', cmap='Reds', ax=ax, edgecolor='0.8', legend=True,\n",
    "            legend_kwds={'shrink': 0.6, 'aspect': 30}) # Настройка размера легенды справа\n",
    "\n",
    "# Обозначения на карте\n",
    "ax.set_title('Количество игроков из каждой нации', fontsize=16)\n",
    "ax.set_xlabel('Доли игроков', fontsize=14)\n",
    "ax.set_ylabel('Страны', fontsize=14)\n",
    "ax.tick_params(axis='both', labelsize=12)\n",
    "\n",
    "plt.show()\n"
   ]
  },
  {
   "cell_type": "markdown",
   "metadata": {
    "id": "18TvgyCYf_St"
   },
   "source": [
    "- Карта плохо показывает распределение игроков по странам в более мелком масштабе, к тому же некоторые стран отстутсвуют, так как мы запарсили игроков не из всех стран"
   ]
  },
  {
   "cell_type": "code",
   "execution_count": 432,
   "metadata": {
    "colab": {
     "base_uri": "https://localhost:8080/",
     "height": 676
    },
    "id": "UCtOqMiFgnqA",
    "outputId": "7644b053-d64b-4081-c471-90068540bccf"
   },
   "outputs": [
    {
     "data": {
      "image/png": "[encoded data removed]",
      "text/plain": [
       "<Figure size 864x576 with 1 Axes>"
      ]
     },
     "metadata": {
      "needs_background": "light"
     },
     "output_type": "display_data"
    }
   ],
   "source": [
    "import matplotlib.pyplot as plt\n",
    "import squarify\n",
    "import numpy as np\n",
    "\n",
    "min_count = 15 # минимальное число игроков страны, при котором страна будет видна на карте\n",
    "filtered_nation_counts = nation_counts[nation_counts >= min_count]\n",
    "\n",
    "sizes = filtered_nation_counts.values # массив значений\n",
    "labels = filtered_nation_counts.index # массив индексов\n",
    "colors = plt.cm.Spectral(np.linspace(0, 1, len(labels))) # палитра цветов\n",
    "\n",
    "fig, ax = plt.subplots(figsize=(12, 8))\n",
    "squarify.plot(sizes=sizes, label=labels,color=colors)\n",
    "\n",
    "# Настройка внешнего вида\n",
    "plt.axis('off')\n",
    "plt.title('Количество игроков из каждой нации', fontsize=16)\n",
    "plt.show()\n"
   ]
  },
  {
   "cell_type": "code",
   "execution_count": 433,
   "metadata": {},
   "outputs": [],
   "source": [
    "import seaborn as sns"
   ]
  },
  {
   "cell_type": "code",
   "execution_count": 434,
   "metadata": {
    "colab": {
     "base_uri": "https://localhost:8080/",
     "height": 605
    },
    "id": "GOI8EIOdPRCX",
    "outputId": "7b55b046-ba20-4332-cc21-dfcdd3d89896"
   },
   "outputs": [
    {
     "data": {
      "image/png": "[encoded data removed]",
      "text/plain": [
       "<Figure size 864x432 with 1 Axes>"
      ]
     },
     "metadata": {
      "needs_background": "light"
     },
     "output_type": "display_data"
    }
   ],
   "source": [
    "plt.figure(figsize=(12, 6))\n",
    "sns.barplot(x='League', y='Price', hue='League', estimator= np.mean, data=df[df['League'].isin(['ENG 1', 'FRA 1', 'ITA 1', 'GER 1', 'ESP 1'])])\n",
    "plt.title('Средняя цена игроков из топ-5 лиг', fontsize=20)\n",
    "plt.xlabel('Лига', fontsize=16)\n",
    "plt.ylabel('Цена', fontsize=16)\n",
    "plt.xticks(rotation=90)\n",
    "plt.show()"
   ]
  },
  {
   "cell_type": "code",
   "execution_count": 435,
   "metadata": {},
   "outputs": [
    {
     "data": {
      "text/html": [
       "<div>\n",
       "<style scoped>\n",
       "    .dataframe tbody tr th:only-of-type {\n",
       "        vertical-align: middle;\n",
       "    }\n",
       "\n",
       "    .dataframe tbody tr th {\n",
       "        vertical-align: top;\n",
       "    }\n",
       "\n",
       "    .dataframe thead th {\n",
       "        text-align: right;\n",
       "    }\n",
       "</style>\n",
       "<table border=\"1\" class=\"dataframe\">\n",
       "  <thead>\n",
       "    <tr style=\"text-align: right;\">\n",
       "      <th></th>\n",
       "      <th></th>\n",
       "      <th>Mean Price</th>\n",
       "      <th>Number Of Players</th>\n",
       "    </tr>\n",
       "    <tr>\n",
       "      <th>League</th>\n",
       "      <th>Nation</th>\n",
       "      <th></th>\n",
       "      <th></th>\n",
       "    </tr>\n",
       "  </thead>\n",
       "  <tbody>\n",
       "    <tr>\n",
       "      <th>GER 1</th>\n",
       "      <th>Germany</th>\n",
       "      <td>107475.000000</td>\n",
       "      <td>72</td>\n",
       "    </tr>\n",
       "    <tr>\n",
       "      <th>ESP 1</th>\n",
       "      <th>Spain</th>\n",
       "      <td>54645.081967</td>\n",
       "      <td>61</td>\n",
       "    </tr>\n",
       "    <tr>\n",
       "      <th>FRA 1</th>\n",
       "      <th>France</th>\n",
       "      <td>475554.464286</td>\n",
       "      <td>56</td>\n",
       "    </tr>\n",
       "    <tr>\n",
       "      <th>ENG 1</th>\n",
       "      <th>United Kingdom</th>\n",
       "      <td>206479.347826</td>\n",
       "      <td>46</td>\n",
       "    </tr>\n",
       "    <tr>\n",
       "      <th>ITA 1</th>\n",
       "      <th>Italy</th>\n",
       "      <td>58959.782609</td>\n",
       "      <td>46</td>\n",
       "    </tr>\n",
       "    <tr>\n",
       "      <th>...</th>\n",
       "      <th>...</th>\n",
       "      <td>...</td>\n",
       "      <td>...</td>\n",
       "    </tr>\n",
       "    <tr>\n",
       "      <th rowspan=\"4\" valign=\"top\">GER 1</th>\n",
       "      <th>Iran</th>\n",
       "      <td>16750.000000</td>\n",
       "      <td>1</td>\n",
       "    </tr>\n",
       "    <tr>\n",
       "      <th>Ivory Coast</th>\n",
       "      <td>12750.000000</td>\n",
       "      <td>1</td>\n",
       "    </tr>\n",
       "    <tr>\n",
       "      <th>Norway</th>\n",
       "      <td>9300.000000</td>\n",
       "      <td>1</td>\n",
       "    </tr>\n",
       "    <tr>\n",
       "      <th>Poland</th>\n",
       "      <td>27750.000000</td>\n",
       "      <td>1</td>\n",
       "    </tr>\n",
       "    <tr>\n",
       "      <th>WC</th>\n",
       "      <th>Uruguay</th>\n",
       "      <td>38250.000000</td>\n",
       "      <td>1</td>\n",
       "    </tr>\n",
       "  </tbody>\n",
       "</table>\n",
       "<p>317 rows × 2 columns</p>\n",
       "</div>"
      ],
      "text/plain": [
       "                          Mean Price  Number Of Players\n",
       "League Nation                                          \n",
       "GER 1  Germany         107475.000000                 72\n",
       "ESP 1  Spain            54645.081967                 61\n",
       "FRA 1  France          475554.464286                 56\n",
       "ENG 1  United Kingdom  206479.347826                 46\n",
       "ITA 1  Italy            58959.782609                 46\n",
       "...                              ...                ...\n",
       "GER 1  Iran             16750.000000                  1\n",
       "       Ivory Coast      12750.000000                  1\n",
       "       Norway            9300.000000                  1\n",
       "       Poland           27750.000000                  1\n",
       "WC     Uruguay          38250.000000                  1\n",
       "\n",
       "[317 rows x 2 columns]"
      ]
     },
     "execution_count": 435,
     "metadata": {},
     "output_type": "execute_result"
    }
   ],
   "source": [
    "# Построим сводную таблицы средней стоимости игроков и количества игроков по каждой лиге и национальности\n",
    "grouped_data = df.groupby(['League', 'Nation']).agg({'Price': ['mean', 'count']})\n",
    "grouped_data.columns = ['Mean Price', 'Number Of Players']\n",
    "grouped_data.sort_values(by = 'Number Of Players', ascending = False)"
   ]
  },
  {
   "cell_type": "code",
   "execution_count": 436,
   "metadata": {
    "colab": {
     "base_uri": "https://localhost:8080/",
     "height": 605
    },
    "id": "GOI8EIOdPRCX",
    "outputId": "7b55b046-ba20-4332-cc21-dfcdd3d89896",
    "scrolled": false
   },
   "outputs": [
    {
     "data": {
      "image/png": "[encoded data removed]",
      "text/plain": [
       "<Figure size 1296x432 with 1 Axes>"
      ]
     },
     "metadata": {
      "needs_background": "light"
     },
     "output_type": "display_data"
    }
   ],
   "source": [
    "plt.figure(figsize=(18, 6))\n",
    "sns.barplot(x='Nation', y='Price', hue='Nation', estimator= np.mean, \n",
    "            data=df[(df['Nation'].isin(df['Nation'].value_counts().index[:10].to_list()))])\n",
    "plt.title('Средняя цена игроков топ-10 самых популярных национальностей', fontsize=20)\n",
    "plt.xlabel('Лига', fontsize=16)\n",
    "plt.ylabel('Цена', fontsize=16)\n",
    "plt.xticks(rotation=90)\n",
    "plt.show()"
   ]
  },
  {
   "cell_type": "code",
   "execution_count": 437,
   "metadata": {
    "colab": {
     "base_uri": "https://localhost:8080/",
     "height": 574
    },
    "id": "ZAHFN6w-P2c0",
    "outputId": "52138269-7532-4e32-b9d1-c1fc931a22bd"
   },
   "outputs": [
    {
     "data": {
      "image/png": "[encoded data removed]",
      "text/plain": [
       "<Figure size 864x432 with 1 Axes>"
      ]
     },
     "metadata": {
      "needs_background": "light"
     },
     "output_type": "display_data"
    }
   ],
   "source": [
    "# Визуализация статистики по ведущей ноге у различных игроков\n",
    "plt.figure(figsize=(12, 6))\n",
    "sns.barplot(x='Foot', y='Price', hue='Foot', estimator=lambda x: sum(x)/len(x), data=df)\n",
    "plt.title('Средняя цена в зависимости от рабочей ноги', fontsize=20)\n",
    "plt.xlabel('Лига', fontsize=16)\n",
    "plt.ylabel('Цена', fontsize=16)\n",
    "plt.xticks(rotation=90)\n",
    "plt.show()"
   ]
  },
  {
   "cell_type": "code",
   "execution_count": 438,
   "metadata": {
    "colab": {
     "base_uri": "https://localhost:8080/",
     "height": 578
    },
    "id": "zgjQKt3dP7OR",
    "outputId": "f9f31e75-28db-40e2-e286-2c5830b2db35"
   },
   "outputs": [
    {
     "data": {
      "image/png": "[encoded data removed]",
      "text/plain": [
       "<Figure size 864x432 with 1 Axes>"
      ]
     },
     "metadata": {
      "needs_background": "light"
     },
     "output_type": "display_data"
    }
   ],
   "source": [
    "plt.figure(figsize=(12, 6))\n",
    "sns.barplot(data=df, x='Height', y = 'Price', color='steelblue', estimator = np.mean)\n",
    "plt.title('Распределение стоимости игрока в зависимости от роста', fontsize=16)\n",
    "plt.xlabel('Height (дюймы)', fontsize=14)\n",
    "plt.ylabel('Цена', fontsize=14)\n",
    "plt.xticks(rotation=90, fontsize=12)\n",
    "plt.yticks(fontsize=12)\n",
    "plt.show()"
   ]
  },
  {
   "cell_type": "code",
   "execution_count": 439,
   "metadata": {
    "colab": {
     "base_uri": "https://localhost:8080/",
     "height": 578
    },
    "id": "2lUrwFfd7jAg",
    "outputId": "80dce81d-b71d-4ea1-a4f8-e3f77751a70a"
   },
   "outputs": [
    {
     "data": {
      "image/png": "[encoded data removed]",
      "text/plain": [
       "<Figure size 864x432 with 1 Axes>"
      ]
     },
     "metadata": {
      "needs_background": "light"
     },
     "output_type": "display_data"
    }
   ],
   "source": [
    "plt.figure(figsize=(12, 6))\n",
    "sns.barplot(data=df, x='Weight', y = 'Price', color='steelblue', estimator = np.mean)\n",
    "plt.title('Распределение стоимости игрока в зависимости от веса', fontsize=16)\n",
    "plt.xlabel('Weight', fontsize=14)\n",
    "plt.ylabel('Цена', fontsize=14)\n",
    "plt.xticks(rotation=90, fontsize=12)\n",
    "plt.yticks(fontsize=12)\n",
    "plt.show()"
   ]
  },
  {
   "cell_type": "code",
   "execution_count": 440,
   "metadata": {
    "colab": {
     "base_uri": "https://localhost:8080/",
     "height": 574
    },
    "id": "Yw9lAos3Rxn0",
    "outputId": "8d81621c-db7a-41fe-ca7a-e351cef036dc"
   },
   "outputs": [
    {
     "data": {
      "image/png": "[encoded data removed]",
      "text/plain": [
       "<Figure size 864x432 with 1 Axes>"
      ]
     },
     "metadata": {
      "needs_background": "light"
     },
     "output_type": "display_data"
    }
   ],
   "source": [
    "plt.figure(figsize=(12, 6))\n",
    "sns.barplot(data=df[df['Rating'] >= 90], x='Rating', y = 'Price', color='steelblue', estimator = np.mean)\n",
    "plt.title('Распределение стоимости игрока в зависимости от рейтинга (90+)', fontsize=16)\n",
    "plt.xlabel('Рейтинг', fontsize=14)\n",
    "plt.ylabel('Цена', fontsize=14)\n",
    "plt.xticks(rotation=90, fontsize=12)\n",
    "plt.yticks(fontsize=12)\n",
    "plt.show()"
   ]
  },
  {
   "cell_type": "code",
   "execution_count": 441,
   "metadata": {
    "colab": {
     "base_uri": "https://localhost:8080/",
     "height": 574
    },
    "id": "Yw9lAos3Rxn0",
    "outputId": "8d81621c-db7a-41fe-ca7a-e351cef036dc"
   },
   "outputs": [
    {
     "data": {
      "image/png": "[encoded data removed]",
      "text/plain": [
       "<Figure size 864x432 with 1 Axes>"
      ]
     },
     "metadata": {
      "needs_background": "light"
     },
     "output_type": "display_data"
    }
   ],
   "source": [
    "plt.figure(figsize=(12, 6))\n",
    "sns.barplot(data=df[(df['Rating'] < 90) & (df['Rating'] >= 80)], x='Rating', y = 'Price', color='steelblue', estimator = np.mean)\n",
    "plt.title('Распределение стоимости игрока в зависимости от рейтинга (90+)', fontsize=16)\n",
    "plt.xlabel('Рейтинг', fontsize=14)\n",
    "plt.ylabel('Цена', fontsize=14)\n",
    "plt.xticks(rotation=90, fontsize=12)\n",
    "plt.yticks(fontsize=12)\n",
    "plt.show()"
   ]
  },
  {
   "cell_type": "code",
   "execution_count": 442,
   "metadata": {
    "colab": {
     "base_uri": "https://localhost:8080/",
     "height": 574
    },
    "id": "Yw9lAos3Rxn0",
    "outputId": "8d81621c-db7a-41fe-ca7a-e351cef036dc"
   },
   "outputs": [
    {
     "data": {
      "image/png": "[encoded data removed]",
      "text/plain": [
       "<Figure size 864x432 with 1 Axes>"
      ]
     },
     "metadata": {
      "needs_background": "light"
     },
     "output_type": "display_data"
    }
   ],
   "source": [
    "plt.figure(figsize=(12, 6))\n",
    "sns.barplot(data=df[df['Rating'] < 80], x='Rating', y = 'Price', color='steelblue', estimator = np.mean)\n",
    "plt.title('Распределение стоимости игрока в зависимости от рейтинга (90+)', fontsize=16)\n",
    "plt.xlabel('Рейтинг', fontsize=14)\n",
    "plt.ylabel('Цена', fontsize=14)\n",
    "plt.xticks(rotation=90, fontsize=12)\n",
    "plt.yticks(fontsize=12)\n",
    "plt.show()"
   ]
  },
  {
   "cell_type": "code",
   "execution_count": 454,
   "metadata": {},
   "outputs": [
    {
     "data": {
      "image/png": "[encoded data removed]",
      "text/plain": [
       "<Figure size 864x576 with 1 Axes>"
      ]
     },
     "metadata": {
      "needs_background": "light"
     },
     "output_type": "display_data"
    }
   ],
   "source": [
    "plt.figure(figsize=(12, 8))\n",
    "counts_grouped_2 = pd.cut(df['Sum Of Stats'], bins=range(1350, 2700, 50), right=False)\n",
    "\n",
    "counts_grouped_2.value_counts().sort_index().plot(kind='bar')\n",
    "plt.xlabel('Цена')\n",
    "plt.ylabel('Число игроков')\n",
    "plt.title('Распределение стоимостей карточек игроков')\n",
    "plt.xticks(rotation=90)\n",
    "plt.show()"
   ]
  },
  {
   "cell_type": "code",
   "execution_count": 443,
   "metadata": {
    "colab": {
     "base_uri": "https://localhost:8080/",
     "height": 1000
    },
    "id": "tT7em4hJemNp",
    "outputId": "4640c932-adbf-43ad-e7e2-8b449d095bf4"
   },
   "outputs": [
    {
     "data": {
      "image/png": "[encoded data removed]",
      "text/plain": [
       "<Figure size 864x720 with 1 Axes>"
      ]
     },
     "metadata": {
      "needs_background": "light"
     },
     "output_type": "display_data"
    }
   ],
   "source": [
    "mask = df.corr()\n",
    "np.fill_diagonal(mask.values, np.nan)\n",
    "plt.figure(figsize=(12, 10))\n",
    "sns.heatmap(mask, cmap='vlag', cbar=False, annot=False, robust = True)\n",
    "plt.title('Correlation Matrix', fontsize=16)\n",
    "plt.xticks(fontsize=12)\n",
    "plt.yticks(fontsize=12)\n",
    "plt.show()"
   ]
  },
  {
   "cell_type": "markdown",
   "metadata": {
    "id": "41k8XrwO8E3J"
   },
   "source": [
    "- Матрица корелляции дает хорошее общее представление о данных, но ее не очень удобно применять, так как на ней слишком много малозначимой информации"
   ]
  },
  {
   "cell_type": "code",
   "execution_count": 444,
   "metadata": {
    "colab": {
     "base_uri": "https://localhost:8080/",
     "height": 737
    },
    "id": "VXbs9I8yfU25",
    "outputId": "ce5057b6-ac61-436f-c873-e51e7762b6e5"
   },
   "outputs": [
    {
     "data": {
      "image/png": "[encoded data removed]",
      "text/plain": [
       "<Figure size 864x432 with 1 Axes>"
      ]
     },
     "metadata": {
      "needs_background": "light"
     },
     "output_type": "display_data"
    }
   ],
   "source": [
    "# Посчитаем корелляцию каждого признака с ценой карточки игрока\n",
    "plt.figure(figsize=(12, 6))\n",
    "correlation_with_price = df.corr()['Price'].drop('Price').sort_values()\n",
    "correlation_with_price.plot(kind='bar', color='steelblue')\n",
    "plt.title('Корелляция каждого из признака с ценой карточки игрока', fontsize=16)\n",
    "plt.xlabel('Признак', fontsize=14)\n",
    "plt.ylabel('Корреляция с ценой', fontsize=14)\n",
    "plt.xticks(rotation=90, fontsize=12)\n",
    "plt.yticks(fontsize=12)\n",
    "plt.show()"
   ]
  },
  {
   "cell_type": "markdown",
   "metadata": {
    "id": "jyu8BmM9rVm0"
   },
   "source": [
    "### Кодирование данных"
   ]
  },
  {
   "cell_type": "markdown",
   "metadata": {},
   "source": [
    "- Для дальнейшней работы с алгоритмами машинного обучения нам необходимо закодировать категориальные переменные\n",
    "- В выборе между Label Encoding и One-hot-encoding был выбран метод One-hot-encoding, так как он более универсальный и не ранжирует признаки\n",
    "- Наличие отдельного столбца под каждое из значений категориального признака позволяет алгоритму лучше работать с весами"
   ]
  },
  {
   "cell_type": "code",
   "execution_count": 445,
   "metadata": {
    "id": "PbY_ApnXf8GU"
   },
   "outputs": [],
   "source": [
    "df_initial = df.copy()\n",
    "\n",
    "categorical_columns = ['Card Type', 'Nation', 'Club', 'League', 'W/R', 'Foot', 'Height', 'Weight', 'Body Type', 'Position', 'Alt. Position']\n",
    "df_categorical_encoded = pd.get_dummies(df[categorical_columns])\n",
    "\n",
    "# Объединение закодированных столбцов с исходным DataFrame\n",
    "df_encoded = pd.concat([df_initial, df_categorical_encoded], axis=1)\n",
    "\n",
    "# Удаление исходных категориальных столбцов\n",
    "df_encoded.drop(categorical_columns, axis=1, inplace=True)\n"
   ]
  },
  {
   "cell_type": "code",
   "execution_count": 446,
   "metadata": {
    "colab": {
     "base_uri": "https://localhost:8080/",
     "height": 657
    },
    "id": "0M90pt0Yq8GU",
    "outputId": "8aeedfff-aaad-49d5-aab1-7b25c9efcee3"
   },
   "outputs": [
    {
     "data": {
      "text/html": [
       "<div>\n",
       "<style scoped>\n",
       "    .dataframe tbody tr th:only-of-type {\n",
       "        vertical-align: middle;\n",
       "    }\n",
       "\n",
       "    .dataframe tbody tr th {\n",
       "        vertical-align: top;\n",
       "    }\n",
       "\n",
       "    .dataframe thead th {\n",
       "        text-align: right;\n",
       "    }\n",
       "</style>\n",
       "<table border=\"1\" class=\"dataframe\">\n",
       "  <thead>\n",
       "    <tr style=\"text-align: right;\">\n",
       "      <th></th>\n",
       "      <th>Name</th>\n",
       "      <th>Skills</th>\n",
       "      <th>W/F</th>\n",
       "      <th>Age</th>\n",
       "      <th>Rating</th>\n",
       "      <th>Price</th>\n",
       "      <th>Acceleration</th>\n",
       "      <th>Sprint Speed</th>\n",
       "      <th>Positioning</th>\n",
       "      <th>Finishing</th>\n",
       "      <th>...</th>\n",
       "      <th>Position_CM</th>\n",
       "      <th>Position_LB</th>\n",
       "      <th>Position_LM</th>\n",
       "      <th>Position_LW</th>\n",
       "      <th>Position_LWB</th>\n",
       "      <th>Position_RB</th>\n",
       "      <th>Position_RM</th>\n",
       "      <th>Position_RW</th>\n",
       "      <th>Position_RWB</th>\n",
       "      <th>Position_ST</th>\n",
       "    </tr>\n",
       "  </thead>\n",
       "  <tbody>\n",
       "    <tr>\n",
       "      <th>0</th>\n",
       "      <td>Erling Haaland</td>\n",
       "      <td>4</td>\n",
       "      <td>5</td>\n",
       "      <td>22</td>\n",
       "      <td>97</td>\n",
       "      <td>4270000</td>\n",
       "      <td>94</td>\n",
       "      <td>99</td>\n",
       "      <td>95</td>\n",
       "      <td>99</td>\n",
       "      <td>...</td>\n",
       "      <td>0</td>\n",
       "      <td>0</td>\n",
       "      <td>0</td>\n",
       "      <td>0</td>\n",
       "      <td>0</td>\n",
       "      <td>0</td>\n",
       "      <td>0</td>\n",
       "      <td>0</td>\n",
       "      <td>0</td>\n",
       "      <td>1</td>\n",
       "    </tr>\n",
       "    <tr>\n",
       "      <th>1</th>\n",
       "      <td>Kevin De Bruyne</td>\n",
       "      <td>4</td>\n",
       "      <td>5</td>\n",
       "      <td>31</td>\n",
       "      <td>97</td>\n",
       "      <td>1799000</td>\n",
       "      <td>86</td>\n",
       "      <td>83</td>\n",
       "      <td>92</td>\n",
       "      <td>89</td>\n",
       "      <td>...</td>\n",
       "      <td>1</td>\n",
       "      <td>0</td>\n",
       "      <td>0</td>\n",
       "      <td>0</td>\n",
       "      <td>0</td>\n",
       "      <td>0</td>\n",
       "      <td>0</td>\n",
       "      <td>0</td>\n",
       "      <td>0</td>\n",
       "      <td>0</td>\n",
       "    </tr>\n",
       "    <tr>\n",
       "      <th>2</th>\n",
       "      <td>Kevin De Bruyne</td>\n",
       "      <td>4</td>\n",
       "      <td>5</td>\n",
       "      <td>31</td>\n",
       "      <td>97</td>\n",
       "      <td>1950000</td>\n",
       "      <td>87</td>\n",
       "      <td>84</td>\n",
       "      <td>94</td>\n",
       "      <td>91</td>\n",
       "      <td>...</td>\n",
       "      <td>1</td>\n",
       "      <td>0</td>\n",
       "      <td>0</td>\n",
       "      <td>0</td>\n",
       "      <td>0</td>\n",
       "      <td>0</td>\n",
       "      <td>0</td>\n",
       "      <td>0</td>\n",
       "      <td>0</td>\n",
       "      <td>0</td>\n",
       "    </tr>\n",
       "    <tr>\n",
       "      <th>3</th>\n",
       "      <td>Mohamed Salah</td>\n",
       "      <td>5</td>\n",
       "      <td>3</td>\n",
       "      <td>30</td>\n",
       "      <td>96</td>\n",
       "      <td>1937000</td>\n",
       "      <td>95</td>\n",
       "      <td>97</td>\n",
       "      <td>98</td>\n",
       "      <td>99</td>\n",
       "      <td>...</td>\n",
       "      <td>0</td>\n",
       "      <td>0</td>\n",
       "      <td>0</td>\n",
       "      <td>0</td>\n",
       "      <td>0</td>\n",
       "      <td>0</td>\n",
       "      <td>0</td>\n",
       "      <td>1</td>\n",
       "      <td>0</td>\n",
       "      <td>0</td>\n",
       "    </tr>\n",
       "    <tr>\n",
       "      <th>4</th>\n",
       "      <td>Ruben Dias</td>\n",
       "      <td>2</td>\n",
       "      <td>4</td>\n",
       "      <td>25</td>\n",
       "      <td>96</td>\n",
       "      <td>575000</td>\n",
       "      <td>80</td>\n",
       "      <td>94</td>\n",
       "      <td>48</td>\n",
       "      <td>36</td>\n",
       "      <td>...</td>\n",
       "      <td>0</td>\n",
       "      <td>0</td>\n",
       "      <td>0</td>\n",
       "      <td>0</td>\n",
       "      <td>0</td>\n",
       "      <td>0</td>\n",
       "      <td>0</td>\n",
       "      <td>0</td>\n",
       "      <td>0</td>\n",
       "      <td>0</td>\n",
       "    </tr>\n",
       "    <tr>\n",
       "      <th>...</th>\n",
       "      <td>...</td>\n",
       "      <td>...</td>\n",
       "      <td>...</td>\n",
       "      <td>...</td>\n",
       "      <td>...</td>\n",
       "      <td>...</td>\n",
       "      <td>...</td>\n",
       "      <td>...</td>\n",
       "      <td>...</td>\n",
       "      <td>...</td>\n",
       "      <td>...</td>\n",
       "      <td>...</td>\n",
       "      <td>...</td>\n",
       "      <td>...</td>\n",
       "      <td>...</td>\n",
       "      <td>...</td>\n",
       "      <td>...</td>\n",
       "      <td>...</td>\n",
       "      <td>...</td>\n",
       "      <td>...</td>\n",
       "      <td>...</td>\n",
       "    </tr>\n",
       "    <tr>\n",
       "      <th>1789</th>\n",
       "      <td>Magnus Lekven</td>\n",
       "      <td>2</td>\n",
       "      <td>4</td>\n",
       "      <td>34</td>\n",
       "      <td>64</td>\n",
       "      <td>10000</td>\n",
       "      <td>49</td>\n",
       "      <td>49</td>\n",
       "      <td>62</td>\n",
       "      <td>46</td>\n",
       "      <td>...</td>\n",
       "      <td>1</td>\n",
       "      <td>0</td>\n",
       "      <td>0</td>\n",
       "      <td>0</td>\n",
       "      <td>0</td>\n",
       "      <td>0</td>\n",
       "      <td>0</td>\n",
       "      <td>0</td>\n",
       "      <td>0</td>\n",
       "      <td>0</td>\n",
       "    </tr>\n",
       "    <tr>\n",
       "      <th>1790</th>\n",
       "      <td>Arda Kizildag</td>\n",
       "      <td>2</td>\n",
       "      <td>3</td>\n",
       "      <td>24</td>\n",
       "      <td>64</td>\n",
       "      <td>550</td>\n",
       "      <td>54</td>\n",
       "      <td>69</td>\n",
       "      <td>46</td>\n",
       "      <td>34</td>\n",
       "      <td>...</td>\n",
       "      <td>0</td>\n",
       "      <td>0</td>\n",
       "      <td>0</td>\n",
       "      <td>0</td>\n",
       "      <td>0</td>\n",
       "      <td>0</td>\n",
       "      <td>0</td>\n",
       "      <td>0</td>\n",
       "      <td>0</td>\n",
       "      <td>0</td>\n",
       "    </tr>\n",
       "    <tr>\n",
       "      <th>1791</th>\n",
       "      <td>Dane Scarlett</td>\n",
       "      <td>3</td>\n",
       "      <td>4</td>\n",
       "      <td>18</td>\n",
       "      <td>64</td>\n",
       "      <td>200</td>\n",
       "      <td>74</td>\n",
       "      <td>72</td>\n",
       "      <td>68</td>\n",
       "      <td>67</td>\n",
       "      <td>...</td>\n",
       "      <td>0</td>\n",
       "      <td>0</td>\n",
       "      <td>0</td>\n",
       "      <td>0</td>\n",
       "      <td>0</td>\n",
       "      <td>0</td>\n",
       "      <td>0</td>\n",
       "      <td>0</td>\n",
       "      <td>0</td>\n",
       "      <td>1</td>\n",
       "    </tr>\n",
       "    <tr>\n",
       "      <th>1792</th>\n",
       "      <td>Marvin Stefaniak</td>\n",
       "      <td>3</td>\n",
       "      <td>4</td>\n",
       "      <td>27</td>\n",
       "      <td>64</td>\n",
       "      <td>200</td>\n",
       "      <td>83</td>\n",
       "      <td>69</td>\n",
       "      <td>58</td>\n",
       "      <td>57</td>\n",
       "      <td>...</td>\n",
       "      <td>0</td>\n",
       "      <td>0</td>\n",
       "      <td>0</td>\n",
       "      <td>0</td>\n",
       "      <td>0</td>\n",
       "      <td>0</td>\n",
       "      <td>0</td>\n",
       "      <td>0</td>\n",
       "      <td>0</td>\n",
       "      <td>0</td>\n",
       "    </tr>\n",
       "    <tr>\n",
       "      <th>1793</th>\n",
       "      <td>Gaston Veron</td>\n",
       "      <td>3</td>\n",
       "      <td>3</td>\n",
       "      <td>21</td>\n",
       "      <td>64</td>\n",
       "      <td>250</td>\n",
       "      <td>73</td>\n",
       "      <td>68</td>\n",
       "      <td>66</td>\n",
       "      <td>66</td>\n",
       "      <td>...</td>\n",
       "      <td>0</td>\n",
       "      <td>0</td>\n",
       "      <td>0</td>\n",
       "      <td>0</td>\n",
       "      <td>0</td>\n",
       "      <td>0</td>\n",
       "      <td>0</td>\n",
       "      <td>0</td>\n",
       "      <td>0</td>\n",
       "      <td>1</td>\n",
       "    </tr>\n",
       "  </tbody>\n",
       "</table>\n",
       "<p>1422 rows × 481 columns</p>\n",
       "</div>"
      ],
      "text/plain": [
       "                  Name  Skills  W/F  Age  Rating    Price  Acceleration  \\\n",
       "0       Erling Haaland       4    5   22      97  4270000            94   \n",
       "1      Kevin De Bruyne       4    5   31      97  1799000            86   \n",
       "2      Kevin De Bruyne       4    5   31      97  1950000            87   \n",
       "3        Mohamed Salah       5    3   30      96  1937000            95   \n",
       "4           Ruben Dias       2    4   25      96   575000            80   \n",
       "...                ...     ...  ...  ...     ...      ...           ...   \n",
       "1789     Magnus Lekven       2    4   34      64    10000            49   \n",
       "1790     Arda Kizildag       2    3   24      64      550            54   \n",
       "1791     Dane Scarlett       3    4   18      64      200            74   \n",
       "1792  Marvin Stefaniak       3    4   27      64      200            83   \n",
       "1793      Gaston Veron       3    3   21      64      250            73   \n",
       "\n",
       "      Sprint Speed  Positioning  Finishing  ...  Position_CM  Position_LB  \\\n",
       "0               99           95         99  ...            0            0   \n",
       "1               83           92         89  ...            1            0   \n",
       "2               84           94         91  ...            1            0   \n",
       "3               97           98         99  ...            0            0   \n",
       "4               94           48         36  ...            0            0   \n",
       "...            ...          ...        ...  ...          ...          ...   \n",
       "1789            49           62         46  ...            1            0   \n",
       "1790            69           46         34  ...            0            0   \n",
       "1791            72           68         67  ...            0            0   \n",
       "1792            69           58         57  ...            0            0   \n",
       "1793            68           66         66  ...            0            0   \n",
       "\n",
       "      Position_LM  Position_LW  Position_LWB  Position_RB  Position_RM  \\\n",
       "0               0            0             0            0            0   \n",
       "1               0            0             0            0            0   \n",
       "2               0            0             0            0            0   \n",
       "3               0            0             0            0            0   \n",
       "4               0            0             0            0            0   \n",
       "...           ...          ...           ...          ...          ...   \n",
       "1789            0            0             0            0            0   \n",
       "1790            0            0             0            0            0   \n",
       "1791            0            0             0            0            0   \n",
       "1792            0            0             0            0            0   \n",
       "1793            0            0             0            0            0   \n",
       "\n",
       "      Position_RW  Position_RWB  Position_ST  \n",
       "0               0             0            1  \n",
       "1               0             0            0  \n",
       "2               0             0            0  \n",
       "3               1             0            0  \n",
       "4               0             0            0  \n",
       "...           ...           ...          ...  \n",
       "1789            0             0            0  \n",
       "1790            0             0            0  \n",
       "1791            0             0            1  \n",
       "1792            0             0            0  \n",
       "1793            0             0            1  \n",
       "\n",
       "[1422 rows x 481 columns]"
      ]
     },
     "execution_count": 446,
     "metadata": {},
     "output_type": "execute_result"
    }
   ],
   "source": [
    "df_encoded"
   ]
  },
  {
   "cell_type": "code",
   "execution_count": null,
   "metadata": {},
   "outputs": [],
   "source": []
  }
 ],
 "metadata": {
  "colab": {
   "provenance": []
  },
  "kernelspec": {
   "display_name": "Python 3 (ipykernel)",
   "language": "python",
   "name": "python3"
  },
  "language_info": {
   "codemirror_mode": {
    "name": "ipython",
    "version": 3
   },
   "file_extension": ".py",
   "mimetype": "text/x-python",
   "name": "python",
   "nbconvert_exporter": "python",
   "pygments_lexer": "ipython3",
   "version": "3.9.7"
  }
 },
 "nbformat": 4,
 "nbformat_minor": 1
}
